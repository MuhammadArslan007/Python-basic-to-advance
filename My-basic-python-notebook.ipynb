{
 "cells": [
  {
   "cell_type": "code",
   "execution_count": 3,
   "id": "5e64141e",
   "metadata": {},
   "outputs": [
    {
     "name": "stdout",
     "output_type": "stream",
     "text": [
      "The Zen of Python, by Tim Peters\n",
      "\n",
      "Beautiful is better than ugly.\n",
      "Explicit is better than implicit.\n",
      "Simple is better than complex.\n",
      "Complex is better than complicated.\n",
      "Flat is better than nested.\n",
      "Sparse is better than dense.\n",
      "Readability counts.\n",
      "Special cases aren't special enough to break the rules.\n",
      "Although practicality beats purity.\n",
      "Errors should never pass silently.\n",
      "Unless explicitly silenced.\n",
      "In the face of ambiguity, refuse the temptation to guess.\n",
      "There should be one-- and preferably only one --obvious way to do it.\n",
      "Although that way may not be obvious at first unless you're Dutch.\n",
      "Now is better than never.\n",
      "Although never is often better than *right* now.\n",
      "If the implementation is hard to explain, it's a bad idea.\n",
      "If the implementation is easy to explain, it may be a good idea.\n",
      "Namespaces are one honking great idea -- let's do more of those!\n"
     ]
    }
   ],
   "source": [
    "import this\n"
   ]
  },
  {
   "cell_type": "code",
   "execution_count": null,
   "id": "f725c97c",
   "metadata": {},
   "outputs": [],
   "source": []
  },
  {
   "cell_type": "code",
   "execution_count": null,
   "id": "e2d39273",
   "metadata": {},
   "outputs": [],
   "source": []
  },
  {
   "cell_type": "code",
   "execution_count": null,
   "id": "a12bceb0",
   "metadata": {},
   "outputs": [],
   "source": []
  },
  {
   "cell_type": "code",
   "execution_count": null,
   "id": "a6468d74",
   "metadata": {},
   "outputs": [],
   "source": []
  },
  {
   "cell_type": "code",
   "execution_count": 4,
   "id": "cccc97ea",
   "metadata": {},
   "outputs": [
    {
     "name": "stdout",
     "output_type": "stream",
     "text": [
      "My name is Muhammad Arslan\n"
     ]
    }
   ],
   "source": [
    "print(\"My name is Muhammad Arslan\")"
   ]
  },
  {
   "cell_type": "code",
   "execution_count": 4,
   "id": "49d40402",
   "metadata": {},
   "outputs": [
    {
     "name": "stdout",
     "output_type": "stream",
     "text": [
      "My name is Muhammad Arslan\n"
     ]
    }
   ],
   "source": [
    "print(\"My name is Muhammad Arslan\")"
   ]
  },
  {
   "cell_type": "code",
   "execution_count": 5,
   "id": "a684d49d",
   "metadata": {},
   "outputs": [],
   "source": [
    "# comment one line "
   ]
  },
  {
   "cell_type": "code",
   "execution_count": 6,
   "id": "e75a04ea",
   "metadata": {},
   "outputs": [
    {
     "data": {
      "text/plain": [
       "'ahhhaha\\nthis is good language'"
      ]
     },
     "execution_count": 6,
     "metadata": {},
     "output_type": "execute_result"
    }
   ],
   "source": [
    "# Multiple line comment\n",
    "\"\"\"ahhhaha\n",
    "this is good language\"\"\""
   ]
  },
  {
   "cell_type": "code",
   "execution_count": 7,
   "id": "e822eb37",
   "metadata": {},
   "outputs": [],
   "source": [
    "# variable creation\n",
    "Mobile_No = 9698189\n",
    "a = 12"
   ]
  },
  {
   "cell_type": "code",
   "execution_count": 8,
   "id": "8b99425d",
   "metadata": {},
   "outputs": [
    {
     "data": {
      "text/plain": [
       "12"
      ]
     },
     "execution_count": 8,
     "metadata": {},
     "output_type": "execute_result"
    }
   ],
   "source": [
    "a"
   ]
  },
  {
   "cell_type": "code",
   "execution_count": 9,
   "id": "be426d2c",
   "metadata": {},
   "outputs": [
    {
     "data": {
      "text/plain": [
       "int"
      ]
     },
     "execution_count": 9,
     "metadata": {},
     "output_type": "execute_result"
    }
   ],
   "source": [
    "#to cheack the type of variable\n",
    "type(a)"
   ]
  },
  {
   "cell_type": "code",
   "execution_count": 10,
   "id": "0708661c",
   "metadata": {},
   "outputs": [],
   "source": [
    "b = \"arslan\""
   ]
  },
  {
   "cell_type": "code",
   "execution_count": 11,
   "id": "89eb5ffc",
   "metadata": {},
   "outputs": [
    {
     "data": {
      "text/plain": [
       "'arslan'"
      ]
     },
     "execution_count": 11,
     "metadata": {},
     "output_type": "execute_result"
    }
   ],
   "source": [
    "b"
   ]
  },
  {
   "cell_type": "code",
   "execution_count": 12,
   "id": "573962e0",
   "metadata": {},
   "outputs": [
    {
     "data": {
      "text/plain": [
       "str"
      ]
     },
     "execution_count": 12,
     "metadata": {},
     "output_type": "execute_result"
    }
   ],
   "source": [
    "type(b)"
   ]
  },
  {
   "cell_type": "code",
   "execution_count": 13,
   "id": "63e8e644",
   "metadata": {},
   "outputs": [],
   "source": [
    "c = 20.34"
   ]
  },
  {
   "cell_type": "code",
   "execution_count": 14,
   "id": "c39a70ad",
   "metadata": {},
   "outputs": [
    {
     "data": {
      "text/plain": [
       "float"
      ]
     },
     "execution_count": 14,
     "metadata": {},
     "output_type": "execute_result"
    }
   ],
   "source": [
    "type(c)"
   ]
  },
  {
   "cell_type": "code",
   "execution_count": 15,
   "id": "f2265ef5",
   "metadata": {},
   "outputs": [
    {
     "name": "stdout",
     "output_type": "stream",
     "text": [
      "12 arslan\n"
     ]
    }
   ],
   "source": [
    "#print a more than one variable in single print function\n",
    "print(a,b)"
   ]
  },
  {
   "cell_type": "code",
   "execution_count": 16,
   "id": "f054d00b",
   "metadata": {},
   "outputs": [],
   "source": [
    "var1 = 45\n",
    "var2 = \"cricket\""
   ]
  },
  {
   "cell_type": "code",
   "execution_count": 17,
   "id": "d36ec56f",
   "metadata": {},
   "outputs": [],
   "source": [
    "#create a multiple variable in single line\n",
    "var1,var2 = 45,\"cricket\""
   ]
  },
  {
   "cell_type": "code",
   "execution_count": 18,
   "id": "58a7632f",
   "metadata": {},
   "outputs": [
    {
     "name": "stdout",
     "output_type": "stream",
     "text": [
      "45 cricket\n"
     ]
    }
   ],
   "source": [
    "print(var1,var2)"
   ]
  },
  {
   "cell_type": "code",
   "execution_count": 19,
   "id": "8711b9ab",
   "metadata": {},
   "outputs": [
    {
     "data": {
      "text/plain": [
       "(45, 'cricket')"
      ]
     },
     "execution_count": 19,
     "metadata": {},
     "output_type": "execute_result"
    }
   ],
   "source": [
    "var1,var2"
   ]
  },
  {
   "cell_type": "code",
   "execution_count": 20,
   "id": "07acb9c4",
   "metadata": {},
   "outputs": [],
   "source": [
    "#Rule of creating variable\n",
    "# start with chracter or _ syomble\n",
    "# not uses special word\n",
    "# variable is case senstive "
   ]
  },
  {
   "cell_type": "code",
   "execution_count": 21,
   "id": "9f394566",
   "metadata": {},
   "outputs": [],
   "source": [
    "var3 = True"
   ]
  },
  {
   "cell_type": "code",
   "execution_count": 22,
   "id": "a7ce3ce1",
   "metadata": {},
   "outputs": [
    {
     "data": {
      "text/plain": [
       "True"
      ]
     },
     "execution_count": 22,
     "metadata": {},
     "output_type": "execute_result"
    }
   ],
   "source": [
    "var3"
   ]
  },
  {
   "cell_type": "code",
   "execution_count": 23,
   "id": "b6efb1f5",
   "metadata": {},
   "outputs": [
    {
     "data": {
      "text/plain": [
       "bool"
      ]
     },
     "execution_count": 23,
     "metadata": {},
     "output_type": "execute_result"
    }
   ],
   "source": [
    "type(var3)"
   ]
  },
  {
   "cell_type": "code",
   "execution_count": 24,
   "id": "c3003370",
   "metadata": {},
   "outputs": [
    {
     "name": "stdout",
     "output_type": "stream",
     "text": [
      "1\n"
     ]
    }
   ],
   "source": [
    "print(True + True + False - True)"
   ]
  },
  {
   "cell_type": "code",
   "execution_count": 25,
   "id": "c78aeeae",
   "metadata": {},
   "outputs": [
    {
     "name": "stdout",
     "output_type": "stream",
     "text": [
      "3\n"
     ]
    }
   ],
   "source": [
    "print(True + True + True)"
   ]
  },
  {
   "cell_type": "code",
   "execution_count": 26,
   "id": "60c946d4",
   "metadata": {},
   "outputs": [
    {
     "data": {
      "text/plain": [
       "1"
      ]
     },
     "execution_count": 26,
     "metadata": {},
     "output_type": "execute_result"
    }
   ],
   "source": [
    "True*True"
   ]
  },
  {
   "cell_type": "code",
   "execution_count": 27,
   "id": "8c42896e",
   "metadata": {},
   "outputs": [],
   "source": [
    "var4 = 21 + 2j"
   ]
  },
  {
   "cell_type": "code",
   "execution_count": 28,
   "id": "0459dde7",
   "metadata": {},
   "outputs": [
    {
     "data": {
      "text/plain": [
       "complex"
      ]
     },
     "execution_count": 28,
     "metadata": {},
     "output_type": "execute_result"
    }
   ],
   "source": [
    "type(var4)"
   ]
  },
  {
   "cell_type": "code",
   "execution_count": 29,
   "id": "b58efd6f",
   "metadata": {},
   "outputs": [
    {
     "data": {
      "text/plain": [
       "21.0"
      ]
     },
     "execution_count": 29,
     "metadata": {},
     "output_type": "execute_result"
    }
   ],
   "source": [
    "var4.real"
   ]
  },
  {
   "cell_type": "code",
   "execution_count": 30,
   "id": "3df57b58",
   "metadata": {
    "scrolled": true
   },
   "outputs": [
    {
     "data": {
      "text/plain": [
       "2.0"
      ]
     },
     "execution_count": 30,
     "metadata": {},
     "output_type": "execute_result"
    }
   ],
   "source": [
    "var4.imag"
   ]
  },
  {
   "cell_type": "code",
   "execution_count": 31,
   "id": "a4f4d234",
   "metadata": {},
   "outputs": [
    {
     "data": {
      "text/plain": [
       "2"
      ]
     },
     "execution_count": 31,
     "metadata": {},
     "output_type": "execute_result"
    }
   ],
   "source": [
    "#typecating\n",
    "p = 2.000\n",
    "int(p)"
   ]
  },
  {
   "cell_type": "code",
   "execution_count": 32,
   "id": "c952270f",
   "metadata": {},
   "outputs": [
    {
     "data": {
      "text/plain": [
       "float"
      ]
     },
     "execution_count": 32,
     "metadata": {},
     "output_type": "execute_result"
    }
   ],
   "source": [
    "type(p)"
   ]
  },
  {
   "cell_type": "code",
   "execution_count": 33,
   "id": "b2312102",
   "metadata": {},
   "outputs": [
    {
     "data": {
      "text/plain": [
       "'12asa'"
      ]
     },
     "execution_count": 33,
     "metadata": {},
     "output_type": "execute_result"
    }
   ],
   "source": [
    "#python support dynamic and strong typing\n",
    "str(12) + \"asa\""
   ]
  },
  {
   "cell_type": "code",
   "execution_count": 34,
   "id": "e5a682d9",
   "metadata": {},
   "outputs": [
    {
     "data": {
      "text/plain": [
       "6"
      ]
     },
     "execution_count": 34,
     "metadata": {},
     "output_type": "execute_result"
    }
   ],
   "source": [
    "#up casting\n",
    "1 + int(5.0)"
   ]
  },
  {
   "cell_type": "code",
   "execution_count": 35,
   "id": "d959d247",
   "metadata": {},
   "outputs": [
    {
     "data": {
      "text/plain": [
       "'arslan arslan'"
      ]
     },
     "execution_count": 35,
     "metadata": {},
     "output_type": "execute_result"
    }
   ],
   "source": [
    "#string concatenaing \n",
    "\"arslan\" + \" arslan\""
   ]
  },
  {
   "cell_type": "code",
   "execution_count": 36,
   "id": "ae530f4d",
   "metadata": {},
   "outputs": [
    {
     "data": {
      "text/plain": [
       "'arslanarslanarslan'"
      ]
     },
     "execution_count": 36,
     "metadata": {},
     "output_type": "execute_result"
    }
   ],
   "source": [
    "\"arslan\" * 3"
   ]
  },
  {
   "cell_type": "code",
   "execution_count": 37,
   "id": "6aea0b4b",
   "metadata": {},
   "outputs": [
    {
     "name": "stdout",
     "output_type": "stream",
     "text": [
      "757\n"
     ]
    }
   ],
   "source": [
    "#taking input from user\n",
    "var5 = input()"
   ]
  },
  {
   "cell_type": "code",
   "execution_count": 38,
   "id": "8f034ca7",
   "metadata": {},
   "outputs": [
    {
     "name": "stdout",
     "output_type": "stream",
     "text": [
      "Integer Number:567\n"
     ]
    }
   ],
   "source": [
    "var6 = input(\"Integer Number:\")"
   ]
  },
  {
   "cell_type": "code",
   "execution_count": 39,
   "id": "9ca7398c",
   "metadata": {},
   "outputs": [
    {
     "data": {
      "text/plain": [
       "str"
      ]
     },
     "execution_count": 39,
     "metadata": {},
     "output_type": "execute_result"
    }
   ],
   "source": [
    "type(var6)"
   ]
  },
  {
   "cell_type": "code",
   "execution_count": 40,
   "id": "4dc530da",
   "metadata": {},
   "outputs": [
    {
     "data": {
      "text/plain": [
       "str"
      ]
     },
     "execution_count": 40,
     "metadata": {},
     "output_type": "execute_result"
    }
   ],
   "source": [
    "type(var5)"
   ]
  },
  {
   "cell_type": "code",
   "execution_count": 41,
   "id": "a3bb2fd0",
   "metadata": {},
   "outputs": [
    {
     "name": "stdout",
     "output_type": "stream",
     "text": [
      "your favorit number:4\n"
     ]
    }
   ],
   "source": [
    "#their is problem it give only str data ,change is to rquired dtype\n",
    "var7 = int(input(\"your favorit number:\"))\n"
   ]
  },
  {
   "cell_type": "code",
   "execution_count": 42,
   "id": "17bbcb57",
   "metadata": {},
   "outputs": [
    {
     "data": {
      "text/plain": [
       "int"
      ]
     },
     "execution_count": 42,
     "metadata": {},
     "output_type": "execute_result"
    }
   ],
   "source": [
    "type(var7)"
   ]
  },
  {
   "cell_type": "code",
   "execution_count": 43,
   "id": "78b15d01",
   "metadata": {},
   "outputs": [
    {
     "data": {
      "text/plain": [
       "4"
      ]
     },
     "execution_count": 43,
     "metadata": {},
     "output_type": "execute_result"
    }
   ],
   "source": [
    "var7"
   ]
  },
  {
   "cell_type": "code",
   "execution_count": 44,
   "id": "8d553bc5",
   "metadata": {},
   "outputs": [
    {
     "name": "stdout",
     "output_type": "stream",
     "text": [
      "put number a:45\n",
      "675\n",
      "567\n"
     ]
    },
    {
     "data": {
      "text/plain": [
       "(7.26984126984127+6j)"
      ]
     },
     "execution_count": 44,
     "metadata": {},
     "output_type": "execute_result"
    }
   ],
   "source": [
    "a = int(input(\"put number a:\"))\n",
    "b = int(input())\n",
    "c = int(input())\n",
    "d = 6 + 6j\n",
    "o = (a + b)/c \n",
    "o + d"
   ]
  },
  {
   "cell_type": "code",
   "execution_count": 46,
   "id": "69906f04",
   "metadata": {},
   "outputs": [
    {
     "name": "stdout",
     "output_type": "stream",
     "text": [
      "INPUT A NUMBER LESSER THEN 34 --5686\n",
      "icode guru\n"
     ]
    }
   ],
   "source": [
    "#Decision making statement or conditional statement\n",
    "var7 = int(input(\"INPUT A NUMBER LESSER THEN 34 --\"))\n",
    "if var7 < 34:\n",
    "    pass\n",
    "if True :\n",
    "    print(\"icode guru\")"
   ]
  },
  {
   "cell_type": "code",
   "execution_count": 47,
   "id": "6d849eef",
   "metadata": {},
   "outputs": [],
   "source": [
    "if var7 < 34 :\n",
    "    print(\"my number is less then 34\")"
   ]
  },
  {
   "cell_type": "code",
   "execution_count": 48,
   "id": "91b1df22",
   "metadata": {},
   "outputs": [
    {
     "name": "stdout",
     "output_type": "stream",
     "text": [
      "INPUT A NUMBER LESSER THEN 34 --7897\n",
      "my number is grater then 34\n"
     ]
    }
   ],
   "source": [
    "var7 = int(input(\"INPUT A NUMBER LESSER THEN 34 --\"))\n",
    "if var7 < 34 :\n",
    "    print(\"my number is less then 34\")\n",
    "else:\n",
    "    print(\"my number is grater then 34\")"
   ]
  },
  {
   "cell_type": "code",
   "execution_count": 49,
   "id": "054f1119",
   "metadata": {},
   "outputs": [
    {
     "name": "stdout",
     "output_type": "stream",
     "text": [
      "INPUT A Positive NUMBER LESSER THEN 34 --78678\n",
      "user input is greater then 34\n"
     ]
    }
   ],
   "source": [
    "var7 = int(input(\"INPUT A Positive NUMBER LESSER THEN 34 --\"))\n",
    "if 0 < var7 < 34 :\n",
    "    print(\"user number is lesser then 34\")\n",
    "elif var7 == 0 :\n",
    "    print(\"user input is zero\")\n",
    "else:\n",
    "    \n",
    "    print(\"user input is greater then 34\")"
   ]
  },
  {
   "cell_type": "code",
   "execution_count": 50,
   "id": "49c5203f",
   "metadata": {},
   "outputs": [
    {
     "name": "stdout",
     "output_type": "stream",
     "text": [
      "Enter your Salary:6786786\n",
      "i will buy a car\n"
     ]
    }
   ],
   "source": [
    "salary = int(input(\"Enter your Salary:\"))\n",
    "if salary > 1000 :\n",
    "    print(\"i will buy a car\")\n",
    "elif salary > 500 :\n",
    "    print(\"i will go for bike \")\n",
    "elif salary > 100 :\n",
    "    print(\"i will not buy anything\")\n",
    "else :\n",
    "    print(\"i will go for saving\")"
   ]
  },
  {
   "cell_type": "code",
   "execution_count": 51,
   "id": "bda1613e",
   "metadata": {},
   "outputs": [
    {
     "name": "stdout",
     "output_type": "stream",
     "text": [
      "Enter your Salary:6786786\n",
      "my salary is good\n",
      "i will buy BWM car\n"
     ]
    }
   ],
   "source": [
    "#Nested condition or Nested statement\n",
    "salary = int(input(\"Enter your Salary:\"))\n",
    "if salary > 1000 :\n",
    "    print(\"my salary is good\")\n",
    "    if salary > 70000 :\n",
    "        print(\"i will buy BWM car\") \n",
    "    elif salary > 7000 :\n",
    "        print(\"i will buy a  nano car\")\n",
    "    elif salary > 700 :\n",
    "        print(\"i will by a mehran car\")\n",
    "    else:\n",
    "        print(\"i will rent a car\")\n",
    "elif salary > 500 :\n",
    "    print(\"i will go for bike \")\n",
    "elif salary > 100 :\n",
    "    print(\"i will not buy anything\")\n",
    "else :\n",
    "    print(\"i will go for saving\")"
   ]
  },
  {
   "cell_type": "code",
   "execution_count": 52,
   "id": "67ff92cb",
   "metadata": {},
   "outputs": [
    {
     "name": "stdout",
     "output_type": "stream",
     "text": [
      "statement is ture in elif\n"
     ]
    }
   ],
   "source": [
    "#how to write a multiple condition in if statement and what kind of condition,(try the code into small piece)\n",
    "a = 10\n",
    "b = 20\n",
    "if a == 10 and b > 20 :\n",
    "    print(\"this is a vaild statement\")\n",
    "elif a == 10 and b <= 20 :\n",
    "    print(\"statement is ture in elif\")\n",
    "else : \n",
    "    print(\"this is invalid statement\")"
   ]
  },
  {
   "cell_type": "code",
   "execution_count": 53,
   "id": "5b464937",
   "metadata": {},
   "outputs": [
    {
     "name": "stdout",
     "output_type": "stream",
     "text": [
      "First name:6789678\n",
      "Last name:7567567\n",
      "your name is: 6789678 7567567\n"
     ]
    }
   ],
   "source": [
    "a = input(\"First name:\")\n",
    "b = input(\"Last name:\")\n",
    "if ( a == \"Arslan\" or a == \"arslan\" ) and ( b == \"jutt\" or b == \"Jutt\"):\n",
    "    print(\"owner of program\")\n",
    "else:\n",
    "    print(\"your name is:\",a,b)"
   ]
  },
  {
   "cell_type": "code",
   "execution_count": 54,
   "id": "84c07028",
   "metadata": {},
   "outputs": [
    {
     "name": "stdout",
     "output_type": "stream",
     "text": [
      "speed\n",
      "speed\n",
      "speed\n",
      "speed\n",
      "speed\n",
      "speed\n",
      "speed\n",
      "speed\n",
      "speed\n",
      "speed\n",
      "speed\n",
      "speed\n",
      "speed\n",
      "speed\n",
      "speed\n",
      "speed\n",
      "speed\n",
      "speed\n",
      "speed\n",
      "speed\n",
      "speed\n",
      "speed\n",
      "speed\n",
      "speed\n",
      "speed\n",
      "speed\n",
      "speed\n",
      "speed\n",
      "speed\n",
      "speed\n",
      "speed\n",
      "speed\n",
      "speed\n",
      "speed\n",
      "speed\n",
      "speed\n",
      "speed\n",
      "speed\n",
      "speed\n",
      "speed\n",
      "speed\n",
      "speed\n",
      "speed\n",
      "speed\n",
      "speed\n",
      "speed\n",
      "speed\n",
      "speed\n",
      "speed\n",
      "speed\n",
      "speed\n",
      "speed\n",
      "speed\n",
      "speed\n",
      "speed\n",
      "speed\n",
      "speed\n",
      "speed\n",
      "speed\n",
      "speed\n",
      "speed\n",
      "speed\n",
      "speed\n",
      "speed\n",
      "speed\n",
      "speed\n",
      "speed\n",
      "speed\n",
      "speed\n",
      "speed\n",
      "speed\n",
      "speed\n",
      "speed\n",
      "speed\n",
      "speed\n",
      "speed\n",
      "speed\n",
      "speed\n",
      "speed\n",
      "speed\n",
      "speed\n",
      "speed\n",
      "speed\n",
      "speed\n",
      "speed\n",
      "speed\n",
      "speed\n",
      "speed\n",
      "speed\n",
      "speed\n",
      "speed\n",
      "speed\n",
      "speed\n",
      "speed\n",
      "speed\n",
      "speed\n",
      "speed\n",
      "speed\n",
      "speed\n",
      "speed\n"
     ]
    }
   ],
   "source": [
    "#loop is used for repeating the statement\n",
    "#while loop:usually this is used when you not known the itration\n",
    "initial_speed = 0\n",
    "final_speed = 100\n",
    "while initial_speed < final_speed :\n",
    "    print(\"speed\")\n",
    "    initial_speed = initial_speed + 1\n"
   ]
  },
  {
   "cell_type": "code",
   "execution_count": 55,
   "id": "73e0aaee",
   "metadata": {},
   "outputs": [
    {
     "name": "stdout",
     "output_type": "stream",
     "text": [
      "0 speed\n",
      "1 speed\n",
      "2 speed\n",
      "3 speed\n",
      "4 speed\n",
      "5 speed\n",
      "6 speed\n",
      "7 speed\n",
      "8 speed\n",
      "9 speed\n"
     ]
    }
   ],
   "source": [
    "initial_speed = 0\n",
    "final_speed = 100\n",
    "while initial_speed < final_speed :\n",
    "    print(initial_speed,\"speed\")\n",
    "    initial_speed = initial_speed + 1\n",
    "    if initial_speed == 10 :\n",
    "        break\n"
   ]
  },
  {
   "cell_type": "code",
   "execution_count": 56,
   "id": "2c4526e7",
   "metadata": {},
   "outputs": [
    {
     "name": "stdout",
     "output_type": "stream",
     "text": [
      "1\n",
      "2\n",
      "3\n",
      "4\n",
      "5\n",
      "5\n",
      "5\n",
      "5\n"
     ]
    }
   ],
   "source": [
    "notes = 5\n",
    "i = 1\n",
    "j = 1\n",
    "while i < notes:\n",
    "    print(i)\n",
    "    i += 1\n",
    "else : \n",
    "    while i > j:\n",
    "        print(i)\n",
    "        j = j + 1\n",
    "        if j == 10:\n",
    "            break\n",
    "    "
   ]
  },
  {
   "cell_type": "code",
   "execution_count": 57,
   "id": "8ee42478",
   "metadata": {},
   "outputs": [],
   "source": [
    "a = \"arslan\""
   ]
  },
  {
   "cell_type": "code",
   "execution_count": 58,
   "id": "81522e81",
   "metadata": {},
   "outputs": [
    {
     "data": {
      "text/plain": [
       "'arslan'"
      ]
     },
     "execution_count": 58,
     "metadata": {},
     "output_type": "execute_result"
    }
   ],
   "source": [
    "a"
   ]
  },
  {
   "cell_type": "code",
   "execution_count": 59,
   "id": "da6d0bf7",
   "metadata": {},
   "outputs": [
    {
     "data": {
      "text/plain": [
       "'a'"
      ]
     },
     "execution_count": 59,
     "metadata": {},
     "output_type": "execute_result"
    }
   ],
   "source": [
    "#Indexing in a string\n",
    "a[0]"
   ]
  },
  {
   "cell_type": "code",
   "execution_count": 60,
   "id": "83a1406b",
   "metadata": {},
   "outputs": [
    {
     "data": {
      "text/plain": [
       "'l'"
      ]
     },
     "execution_count": 60,
     "metadata": {},
     "output_type": "execute_result"
    }
   ],
   "source": [
    "a[3]"
   ]
  },
  {
   "cell_type": "code",
   "execution_count": 61,
   "id": "55326afa",
   "metadata": {},
   "outputs": [
    {
     "data": {
      "text/plain": [
       "'n'"
      ]
     },
     "execution_count": 61,
     "metadata": {},
     "output_type": "execute_result"
    }
   ],
   "source": [
    "a[5]"
   ]
  },
  {
   "cell_type": "code",
   "execution_count": 62,
   "id": "7bf65659",
   "metadata": {},
   "outputs": [
    {
     "data": {
      "text/plain": [
       "'a'"
      ]
     },
     "execution_count": 62,
     "metadata": {},
     "output_type": "execute_result"
    }
   ],
   "source": [
    "#indexing in string reversing the order\n",
    "a[-2]"
   ]
  },
  {
   "cell_type": "code",
   "execution_count": 63,
   "id": "d6895a03",
   "metadata": {},
   "outputs": [
    {
     "data": {
      "text/plain": [
       "'n'"
      ]
     },
     "execution_count": 63,
     "metadata": {},
     "output_type": "execute_result"
    }
   ],
   "source": [
    "a[-1]"
   ]
  },
  {
   "cell_type": "code",
   "execution_count": 64,
   "id": "c082dd02",
   "metadata": {},
   "outputs": [
    {
     "data": {
      "text/plain": [
       "'a'"
      ]
     },
     "execution_count": 64,
     "metadata": {},
     "output_type": "execute_result"
    }
   ],
   "source": [
    "a[-6]"
   ]
  },
  {
   "cell_type": "code",
   "execution_count": 65,
   "id": "842f2161",
   "metadata": {},
   "outputs": [],
   "source": [
    "var9 = \"ahmad is good friend\""
   ]
  },
  {
   "cell_type": "code",
   "execution_count": 66,
   "id": "9cbae549",
   "metadata": {},
   "outputs": [
    {
     "data": {
      "text/plain": [
       "'ahmad is good friend'"
      ]
     },
     "execution_count": 66,
     "metadata": {},
     "output_type": "execute_result"
    }
   ],
   "source": [
    "var9"
   ]
  },
  {
   "cell_type": "code",
   "execution_count": 67,
   "id": "aff5f226",
   "metadata": {},
   "outputs": [
    {
     "data": {
      "text/plain": [
       "'ad is goo'"
      ]
     },
     "execution_count": 67,
     "metadata": {},
     "output_type": "execute_result"
    }
   ],
   "source": [
    "#Slicing in string ,\"end point is exclude\"\n",
    "var9[3:12]"
   ]
  },
  {
   "cell_type": "code",
   "execution_count": 68,
   "id": "3a6f4d25",
   "metadata": {},
   "outputs": [
    {
     "data": {
      "text/plain": [
       "'a sgo'"
      ]
     },
     "execution_count": 68,
     "metadata": {},
     "output_type": "execute_result"
    }
   ],
   "source": [
    "var9[3:12:2]     #var9[start:end+1:step size]"
   ]
  },
  {
   "cell_type": "code",
   "execution_count": 69,
   "id": "182b3aae",
   "metadata": {},
   "outputs": [
    {
     "data": {
      "text/plain": [
       "''"
      ]
     },
     "execution_count": 69,
     "metadata": {},
     "output_type": "execute_result"
    }
   ],
   "source": [
    "#Slicing the string in reverse order\n",
    "var9[12:3]"
   ]
  },
  {
   "cell_type": "code",
   "execution_count": 70,
   "id": "f7b43671",
   "metadata": {},
   "outputs": [
    {
     "data": {
      "text/plain": [
       "'oog si da'"
      ]
     },
     "execution_count": 70,
     "metadata": {},
     "output_type": "execute_result"
    }
   ],
   "source": [
    "var9[11:2:-1]"
   ]
  },
  {
   "cell_type": "code",
   "execution_count": 71,
   "id": "3cdb9eab",
   "metadata": {},
   "outputs": [
    {
     "data": {
      "text/plain": [
       "'ahmad is good '"
      ]
     },
     "execution_count": 71,
     "metadata": {},
     "output_type": "execute_result"
    }
   ],
   "source": [
    "var9[0:-6]"
   ]
  },
  {
   "cell_type": "code",
   "execution_count": 72,
   "id": "3ac3f133",
   "metadata": {},
   "outputs": [
    {
     "data": {
      "text/plain": [
       "'ahmad is good '"
      ]
     },
     "execution_count": 72,
     "metadata": {},
     "output_type": "execute_result"
    }
   ],
   "source": [
    "var9[0:14]"
   ]
  },
  {
   "cell_type": "code",
   "execution_count": 73,
   "id": "7ce139b4",
   "metadata": {},
   "outputs": [
    {
     "data": {
      "text/plain": [
       "'ahmad is good friend'"
      ]
     },
     "execution_count": 73,
     "metadata": {},
     "output_type": "execute_result"
    }
   ],
   "source": [
    "var9"
   ]
  },
  {
   "cell_type": "code",
   "execution_count": 74,
   "id": "a2777413",
   "metadata": {},
   "outputs": [
    {
     "name": "stdout",
     "output_type": "stream",
     "text": [
      "a\n",
      "h\n",
      "m\n",
      "a\n",
      "d\n",
      " \n",
      "i\n",
      "s\n",
      " \n",
      "g\n",
      "o\n",
      "o\n",
      "d\n",
      " \n",
      "f\n",
      "r\n",
      "i\n",
      "e\n",
      "n\n",
      "d\n"
     ]
    }
   ],
   "source": [
    "# for loop is usualy used when itration is known ,it is also used to itrate data from any list,set,dic,tuple\n",
    "for i in var9:\n",
    "    print(i)"
   ]
  },
  {
   "cell_type": "code",
   "execution_count": 75,
   "id": "ad0daa32",
   "metadata": {},
   "outputs": [
    {
     "name": "stdout",
     "output_type": "stream",
     "text": [
      "a\n",
      "h\n",
      "m\n",
      "a\n",
      "d\n",
      " \n",
      "i\n",
      "s\n",
      " \n",
      "g\n",
      "o\n",
      "o\n",
      "d\n",
      " \n",
      "f\n",
      "r\n",
      "i\n",
      "e\n",
      "n\n",
      "d\n",
      "this var9 end on d\n"
     ]
    }
   ],
   "source": [
    "for i in var9:\n",
    "    print(i)\n",
    "else:\n",
    "    if i == \"d\":\n",
    "        print(\"this var9 end on d\")"
   ]
  },
  {
   "cell_type": "code",
   "execution_count": 76,
   "id": "a55f459b",
   "metadata": {},
   "outputs": [
    {
     "name": "stdout",
     "output_type": "stream",
     "text": [
      "a\n",
      "h\n",
      "m\n",
      "a\n",
      "d\n",
      " \n",
      "i\n",
      "s\n",
      " \n",
      "g\n",
      "o\n"
     ]
    }
   ],
   "source": [
    "for i in var9:\n",
    "    print(i)\n",
    "    if i == \"o\":\n",
    "        break\n",
    "else:\n",
    "    if i == \"d\":\n",
    "        print(\"this var9 end on d\")"
   ]
  },
  {
   "cell_type": "code",
   "execution_count": 77,
   "id": "47efb2ae",
   "metadata": {},
   "outputs": [
    {
     "name": "stdout",
     "output_type": "stream",
     "text": [
      "a\n",
      "h\n",
      "m\n",
      "a\n",
      "d\n",
      " \n",
      "i\n",
      "s\n",
      " \n",
      "g\n",
      "d\n",
      " \n",
      "f\n",
      "r\n",
      "i\n",
      "e\n",
      "n\n",
      "d\n",
      "this var9 end on d\n"
     ]
    }
   ],
   "source": [
    "for i in var9:\n",
    "    if i == \"o\":\n",
    "        continue\n",
    "    print(i)\n",
    "        \n",
    "else:\n",
    "    if i == \"d\":\n",
    "        print(\"this var9 end on d\")"
   ]
  },
  {
   "cell_type": "code",
   "execution_count": 78,
   "id": "3c6113da",
   "metadata": {},
   "outputs": [],
   "source": [
    "s = \"icodeguru\"\n",
    "ss = \"\"\n",
    "for i in range(len(s)) :\n",
    "    if s[i] == \"g\" :\n",
    "        continue\n",
    "    else : \n",
    "        ss = ss + s[i]"
   ]
  },
  {
   "cell_type": "code",
   "execution_count": 79,
   "id": "909cad57",
   "metadata": {},
   "outputs": [
    {
     "data": {
      "text/plain": [
       "'icodeuru'"
      ]
     },
     "execution_count": 79,
     "metadata": {},
     "output_type": "execute_result"
    }
   ],
   "source": [
    "ss"
   ]
  },
  {
   "cell_type": "code",
   "execution_count": 80,
   "id": "a2f6df00",
   "metadata": {},
   "outputs": [
    {
     "name": "stdout",
     "output_type": "stream",
     "text": [
      "+ \r\n",
      "+ + \r\n",
      "+ + + \r\n",
      "+ + + + \r\n",
      "+ + + + + \r\n",
      "+ + + + + + \r\n",
      "+ + + + + + + \r\n"
     ]
    }
   ],
   "source": [
    "#Nested for loop (for loop inside of for loop)\n",
    "n = 7\n",
    "for i in range(0,n) :\n",
    "    for j in range(0,i+1):\n",
    "        print(\"+ \" , end=\"\")\n",
    "    print(\"\\r\")\n"
   ]
  },
  {
   "cell_type": "code",
   "execution_count": 81,
   "id": "515bfde4",
   "metadata": {},
   "outputs": [],
   "source": [
    "#to store values in one variable\n",
    "l = list()"
   ]
  },
  {
   "cell_type": "code",
   "execution_count": 82,
   "id": "cbf08c69",
   "metadata": {},
   "outputs": [],
   "source": [
    "name = \"Arslan\"\n",
    "phone = 35513543\n",
    "city = \"kamalia\""
   ]
  },
  {
   "cell_type": "code",
   "execution_count": 83,
   "id": "4e5471d4",
   "metadata": {},
   "outputs": [
    {
     "data": {
      "text/plain": [
       "['Arslan', 35513543, 'kamalia']"
      ]
     },
     "execution_count": 83,
     "metadata": {},
     "output_type": "execute_result"
    }
   ],
   "source": [
    "l = [name,phone,city]\n",
    "l"
   ]
  },
  {
   "cell_type": "code",
   "execution_count": 84,
   "id": "59eef439",
   "metadata": {},
   "outputs": [
    {
     "data": {
      "text/plain": [
       "'Arslan'"
      ]
     },
     "execution_count": 84,
     "metadata": {},
     "output_type": "execute_result"
    }
   ],
   "source": [
    "l[0]"
   ]
  },
  {
   "cell_type": "code",
   "execution_count": 85,
   "id": "199da527",
   "metadata": {},
   "outputs": [
    {
     "data": {
      "text/plain": [
       "7"
      ]
     },
     "execution_count": 85,
     "metadata": {},
     "output_type": "execute_result"
    }
   ],
   "source": [
    "#list in side list\n",
    "l = [\"Arslan\",\"Abrar\",\"Ahmed\",[\"zohaib\",\"danish\",127,23],6+7j,2747,555]\n",
    "len(l)"
   ]
  },
  {
   "cell_type": "code",
   "execution_count": 86,
   "id": "5714c083",
   "metadata": {},
   "outputs": [
    {
     "name": "stdout",
     "output_type": "stream",
     "text": [
      "<class 'str'>\n",
      "<class 'str'>\n",
      "<class 'str'>\n",
      "<class 'list'>\n",
      "<class 'complex'>\n",
      "<class 'int'>\n",
      "<class 'int'>\n"
     ]
    }
   ],
   "source": [
    "#for exracting all type of variable store in list\n",
    "for i in l:\n",
    "    print(type(i))"
   ]
  },
  {
   "cell_type": "code",
   "execution_count": 87,
   "id": "80e463cc",
   "metadata": {},
   "outputs": [
    {
     "name": "stdout",
     "output_type": "stream",
     "text": [
      "<class 'str'>\n",
      "<class 'str'>\n",
      "<class 'int'>\n",
      "<class 'int'>\n"
     ]
    }
   ],
   "source": [
    "#if you want to extract all type of variable store in list inside list\n",
    "for i in l :\n",
    "    if type(i) == list :\n",
    "        for j in i:\n",
    "            print(type(j))"
   ]
  },
  {
   "cell_type": "code",
   "execution_count": 88,
   "id": "c860e81e",
   "metadata": {},
   "outputs": [],
   "source": [
    "#String manuplation,string is immuteable by index like a[1]=\"c\"\n",
    "a = \"ahmed\""
   ]
  },
  {
   "cell_type": "code",
   "execution_count": 89,
   "id": "5259eb96",
   "metadata": {},
   "outputs": [
    {
     "data": {
      "text/plain": [
       "'ahmed'"
      ]
     },
     "execution_count": 89,
     "metadata": {},
     "output_type": "execute_result"
    }
   ],
   "source": [
    "a"
   ]
  },
  {
   "cell_type": "code",
   "execution_count": 90,
   "id": "94c9615d",
   "metadata": {},
   "outputs": [
    {
     "data": {
      "text/plain": [
       "'ahmedahmedahmedahmed'"
      ]
     },
     "execution_count": 90,
     "metadata": {},
     "output_type": "execute_result"
    }
   ],
   "source": [
    "a*4"
   ]
  },
  {
   "cell_type": "code",
   "execution_count": 91,
   "id": "2bf528b5",
   "metadata": {},
   "outputs": [
    {
     "data": {
      "text/plain": [
       "'ahmeds'"
      ]
     },
     "execution_count": 91,
     "metadata": {},
     "output_type": "execute_result"
    }
   ],
   "source": [
    "a + \"s\""
   ]
  },
  {
   "cell_type": "code",
   "execution_count": 92,
   "id": "9711b689",
   "metadata": {},
   "outputs": [],
   "source": [
    "\n",
    "# a[1] = \"c\"\n"
   ]
  },
  {
   "cell_type": "code",
   "execution_count": 93,
   "id": "4ae76d9c",
   "metadata": {},
   "outputs": [
    {
     "data": {
      "text/plain": [
       "'this is basics of python'"
      ]
     },
     "execution_count": 93,
     "metadata": {},
     "output_type": "execute_result"
    }
   ],
   "source": [
    "a = \"this is basics of python\"\n",
    "a"
   ]
  },
  {
   "cell_type": "code",
   "execution_count": 94,
   "id": "00b8f214",
   "metadata": {},
   "outputs": [],
   "source": [
    "# If we want to use quote in our string then we use single quote and then double quote or voice versa or use escape charcter \\\n",
    "c = \"this is basics of python 'this is run on icodeguru'\"\n",
    "d = 'this is basics of python \"this is run on icodeguru\" good'\n",
    "e = \"this is basics of python \\\"run on icodeguru\\\"\"\n"
   ]
  },
  {
   "cell_type": "code",
   "execution_count": 95,
   "id": "86dc84f8",
   "metadata": {},
   "outputs": [
    {
     "name": "stdout",
     "output_type": "stream",
     "text": [
      "this is basics of python 'this is run on icodeguru'\n",
      "this is basics of python \"this is run on icodeguru\" good\n",
      "this is basics of python \"run on icodeguru\"\n"
     ]
    }
   ],
   "source": [
    "print(c)\n",
    "print(d)\n",
    "print(e)"
   ]
  },
  {
   "cell_type": "code",
   "execution_count": 96,
   "id": "4f98b904",
   "metadata": {},
   "outputs": [
    {
     "data": {
      "text/plain": [
       "'h'"
      ]
     },
     "execution_count": 96,
     "metadata": {},
     "output_type": "execute_result"
    }
   ],
   "source": [
    "a[1]"
   ]
  },
  {
   "cell_type": "code",
   "execution_count": 97,
   "id": "7a1b29da",
   "metadata": {},
   "outputs": [
    {
     "data": {
      "text/plain": [
       "'t'"
      ]
     },
     "execution_count": 97,
     "metadata": {},
     "output_type": "execute_result"
    }
   ],
   "source": [
    "a[0]"
   ]
  },
  {
   "cell_type": "code",
   "execution_count": 98,
   "id": "9ddb275e",
   "metadata": {},
   "outputs": [
    {
     "data": {
      "text/plain": [
       "'n'"
      ]
     },
     "execution_count": 98,
     "metadata": {},
     "output_type": "execute_result"
    }
   ],
   "source": [
    "a[-1]"
   ]
  },
  {
   "cell_type": "code",
   "execution_count": 99,
   "id": "8b74054a",
   "metadata": {},
   "outputs": [
    {
     "data": {
      "text/plain": [
       "24"
      ]
     },
     "execution_count": 99,
     "metadata": {},
     "output_type": "execute_result"
    }
   ],
   "source": [
    "# Length of any iterable objects \n",
    "len(a)"
   ]
  },
  {
   "cell_type": "code",
   "execution_count": 100,
   "id": "675a7fe7",
   "metadata": {},
   "outputs": [
    {
     "data": {
      "text/plain": [
       "'his '"
      ]
     },
     "execution_count": 100,
     "metadata": {},
     "output_type": "execute_result"
    }
   ],
   "source": [
    "#Slicing in string \n",
    "a[1:5]   # the upper bound is exlude since start from 1 and end on 4 like 1,2,3,4 \n",
    "              #bydeful step size is one \"space is also a one char\""
   ]
  },
  {
   "cell_type": "code",
   "execution_count": 101,
   "id": "8cb38651",
   "metadata": {},
   "outputs": [
    {
     "data": {
      "text/plain": [
       "'nohtyp'"
      ]
     },
     "execution_count": 101,
     "metadata": {},
     "output_type": "execute_result"
    }
   ],
   "source": [
    "#Data in revers order \n",
    "a[-1:-7:-1]"
   ]
  },
  {
   "cell_type": "code",
   "execution_count": 102,
   "id": "33e8645a",
   "metadata": {},
   "outputs": [
    {
     "data": {
      "text/plain": [
       "'this is basics of python'"
      ]
     },
     "execution_count": 102,
     "metadata": {},
     "output_type": "execute_result"
    }
   ],
   "source": [
    "a[:]"
   ]
  },
  {
   "cell_type": "code",
   "execution_count": 103,
   "id": "be78bfb2",
   "metadata": {},
   "outputs": [
    {
     "data": {
      "text/plain": [
       "'nohtyp fo scisab si siht'"
      ]
     },
     "execution_count": 103,
     "metadata": {},
     "output_type": "execute_result"
    }
   ],
   "source": [
    "a[::-1]"
   ]
  },
  {
   "cell_type": "code",
   "execution_count": 104,
   "id": "98f2fa4a",
   "metadata": {},
   "outputs": [
    {
     "name": "stdout",
     "output_type": "stream",
     "text": [
      "t\n",
      "h\n",
      "i\n",
      "s\n",
      " \n",
      "i\n",
      "s\n",
      " \n",
      "b\n",
      "a\n",
      "s\n",
      "i\n",
      "c\n",
      "s\n",
      " \n",
      "o\n",
      "f\n",
      " \n",
      "p\n",
      "y\n",
      "t\n",
      "h\n",
      "o\n",
      "n\n"
     ]
    }
   ],
   "source": [
    "for i in range(len(a)) :\n",
    "    print(a[i] )"
   ]
  },
  {
   "cell_type": "code",
   "execution_count": 105,
   "id": "74bc29fc",
   "metadata": {},
   "outputs": [
    {
     "data": {
      "text/plain": [
       "2"
      ]
     },
     "execution_count": 105,
     "metadata": {},
     "output_type": "execute_result"
    }
   ],
   "source": [
    "a.find('i') #if you not have this string it give you -1"
   ]
  },
  {
   "cell_type": "code",
   "execution_count": 106,
   "id": "5575fd2e",
   "metadata": {},
   "outputs": [
    {
     "data": {
      "text/plain": [
       "'i'"
      ]
     },
     "execution_count": 106,
     "metadata": {},
     "output_type": "execute_result"
    }
   ],
   "source": [
    "a[2]"
   ]
  },
  {
   "cell_type": "code",
   "execution_count": 107,
   "id": "ab0faf3a",
   "metadata": {},
   "outputs": [
    {
     "data": {
      "text/plain": [
       "2"
      ]
     },
     "execution_count": 107,
     "metadata": {},
     "output_type": "execute_result"
    }
   ],
   "source": [
    "a.find(\"is\")    #find function give you only starting string index"
   ]
  },
  {
   "cell_type": "code",
   "execution_count": 108,
   "id": "d09001bb",
   "metadata": {},
   "outputs": [
    {
     "name": "stdout",
     "output_type": "stream",
     "text": [
      "8\n",
      "9\n",
      "10\n",
      "11\n",
      "12\n",
      "13\n"
     ]
    }
   ],
   "source": [
    "b = a.find(\"basics\")\n",
    "for i in range(len(\"basics\")):\n",
    "    print(b + i)\n",
    "    \n",
    "    "
   ]
  },
  {
   "cell_type": "code",
   "execution_count": 109,
   "id": "16d99ad0",
   "metadata": {},
   "outputs": [
    {
     "data": {
      "text/plain": [
       "2"
      ]
     },
     "execution_count": 109,
     "metadata": {},
     "output_type": "execute_result"
    }
   ],
   "source": [
    "a.count(\"is\")  # count function give you what of your string is occure you variable \n",
    "                #this is case-senstive"
   ]
  },
  {
   "cell_type": "code",
   "execution_count": 110,
   "id": "575e4755",
   "metadata": {},
   "outputs": [
    {
     "data": {
      "text/plain": [
       "['this', 'is', 'basics', 'of', 'python']"
      ]
     },
     "execution_count": 110,
     "metadata": {},
     "output_type": "execute_result"
    }
   ],
   "source": [
    "a.split()   #this give you each substring that make with seprater"
   ]
  },
  {
   "cell_type": "code",
   "execution_count": 111,
   "id": "d642afa2",
   "metadata": {},
   "outputs": [
    {
     "data": {
      "text/plain": [
       "['th', 's ', 's bas', 'cs of python']"
      ]
     },
     "execution_count": 111,
     "metadata": {},
     "output_type": "execute_result"
    }
   ],
   "source": [
    "a.split(\"i\")"
   ]
  },
  {
   "cell_type": "code",
   "execution_count": 112,
   "id": "7f3cecc0",
   "metadata": {},
   "outputs": [
    {
     "data": {
      "text/plain": [
       "list"
      ]
     },
     "execution_count": 112,
     "metadata": {},
     "output_type": "execute_result"
    }
   ],
   "source": [
    "type(a.split(\"i\"))"
   ]
  },
  {
   "cell_type": "code",
   "execution_count": 113,
   "id": "39bffcb9",
   "metadata": {},
   "outputs": [
    {
     "data": {
      "text/plain": [
       "'THIS IS BASICS OF PYTHON'"
      ]
     },
     "execution_count": 113,
     "metadata": {},
     "output_type": "execute_result"
    }
   ],
   "source": [
    "a.upper()"
   ]
  },
  {
   "cell_type": "code",
   "execution_count": 114,
   "id": "f44d2977",
   "metadata": {},
   "outputs": [
    {
     "data": {
      "text/plain": [
       "'this is basics of python'"
      ]
     },
     "execution_count": 114,
     "metadata": {},
     "output_type": "execute_result"
    }
   ],
   "source": [
    "a.lower()"
   ]
  },
  {
   "cell_type": "code",
   "execution_count": 115,
   "id": "a291c849",
   "metadata": {},
   "outputs": [
    {
     "data": {
      "text/plain": [
       "'THIS IS BASICS OF PYTHON'"
      ]
     },
     "execution_count": 115,
     "metadata": {},
     "output_type": "execute_result"
    }
   ],
   "source": [
    "a.swapcase()   #swap the data that are in upper case change it into lower case and voice versa"
   ]
  },
  {
   "cell_type": "code",
   "execution_count": 116,
   "id": "621c78d2",
   "metadata": {},
   "outputs": [
    {
     "data": {
      "text/plain": [
       "'t h i s   i s   b a s i c s   o f   p y t h o n'"
      ]
     },
     "execution_count": 116,
     "metadata": {},
     "output_type": "execute_result"
    }
   ],
   "source": [
    "\" \".join(a)"
   ]
  },
  {
   "cell_type": "code",
   "execution_count": 117,
   "id": "fd322a7d",
   "metadata": {},
   "outputs": [
    {
     "data": {
      "text/plain": [
       "'a.b'"
      ]
     },
     "execution_count": 117,
     "metadata": {},
     "output_type": "execute_result"
    }
   ],
   "source": [
    "\".\".join(\"ab\")"
   ]
  },
  {
   "cell_type": "code",
   "execution_count": 118,
   "id": "e7f5891c",
   "metadata": {},
   "outputs": [
    {
     "data": {
      "text/plain": [
       "<reversed at 0x54df340>"
      ]
     },
     "execution_count": 118,
     "metadata": {},
     "output_type": "execute_result"
    }
   ],
   "source": [
    "reversed(a)"
   ]
  },
  {
   "cell_type": "code",
   "execution_count": 119,
   "id": "8a9a11fb",
   "metadata": {},
   "outputs": [
    {
     "data": {
      "text/plain": [
       "['n',\n",
       " 'o',\n",
       " 'h',\n",
       " 't',\n",
       " 'y',\n",
       " 'p',\n",
       " ' ',\n",
       " 'f',\n",
       " 'o',\n",
       " ' ',\n",
       " 's',\n",
       " 'c',\n",
       " 'i',\n",
       " 's',\n",
       " 'a',\n",
       " 'b',\n",
       " ' ',\n",
       " 's',\n",
       " 'i',\n",
       " ' ',\n",
       " 's',\n",
       " 'i',\n",
       " 'h',\n",
       " 't']"
      ]
     },
     "execution_count": 119,
     "metadata": {},
     "output_type": "execute_result"
    }
   ],
   "source": [
    "list(reversed(a))"
   ]
  },
  {
   "cell_type": "code",
   "execution_count": 120,
   "id": "157b8253",
   "metadata": {},
   "outputs": [
    {
     "name": "stdout",
     "output_type": "stream",
     "text": [
      "n\n",
      "o\n",
      "h\n",
      "t\n",
      "y\n",
      "p\n",
      " \n",
      "f\n",
      "o\n",
      " \n",
      "s\n",
      "c\n",
      "i\n",
      "s\n",
      "a\n",
      "b\n",
      " \n",
      "s\n",
      "i\n",
      " \n",
      "s\n",
      "i\n",
      "h\n",
      "t\n"
     ]
    }
   ],
   "source": [
    "for i in reversed(a):\n",
    "    print(i)"
   ]
  },
  {
   "cell_type": "code",
   "execution_count": 121,
   "id": "f6dcdc2b",
   "metadata": {},
   "outputs": [
    {
     "data": {
      "text/plain": [
       "'nohtyp fo scisab si siht'"
      ]
     },
     "execution_count": 121,
     "metadata": {},
     "output_type": "execute_result"
    }
   ],
   "source": [
    "a[::-1]"
   ]
  },
  {
   "cell_type": "code",
   "execution_count": 122,
   "id": "b338ead5",
   "metadata": {},
   "outputs": [],
   "source": [
    "b = \"    icode    guru     \"   "
   ]
  },
  {
   "cell_type": "code",
   "execution_count": 123,
   "id": "16376f09",
   "metadata": {},
   "outputs": [
    {
     "data": {
      "text/plain": [
       "'icode    guru'"
      ]
     },
     "execution_count": 123,
     "metadata": {},
     "output_type": "execute_result"
    }
   ],
   "source": [
    "b.strip() #remove the space of str from both side"
   ]
  },
  {
   "cell_type": "code",
   "execution_count": 124,
   "id": "059cd88e",
   "metadata": {},
   "outputs": [
    {
     "data": {
      "text/plain": [
       "'icode    guru     '"
      ]
     },
     "execution_count": 124,
     "metadata": {},
     "output_type": "execute_result"
    }
   ],
   "source": [
    "b.lstrip()   #remove the space of str from left side"
   ]
  },
  {
   "cell_type": "code",
   "execution_count": 125,
   "id": "4f8c3661",
   "metadata": {},
   "outputs": [
    {
     "data": {
      "text/plain": [
       "'    icode    guru'"
      ]
     },
     "execution_count": 125,
     "metadata": {},
     "output_type": "execute_result"
    }
   ],
   "source": [
    "b.rstrip()        #remove the space of str from right side"
   ]
  },
  {
   "cell_type": "code",
   "execution_count": 126,
   "id": "caa1a920",
   "metadata": {},
   "outputs": [
    {
     "data": {
      "text/plain": [
       "'    icode guru     '"
      ]
     },
     "execution_count": 126,
     "metadata": {},
     "output_type": "execute_result"
    }
   ],
   "source": [
    "b.replace(\"e   \",\"e\")"
   ]
  },
  {
   "cell_type": "code",
   "execution_count": 127,
   "id": "91d3a9e6",
   "metadata": {},
   "outputs": [],
   "source": [
    "b = \"icode guru\""
   ]
  },
  {
   "cell_type": "code",
   "execution_count": 128,
   "id": "603c1334",
   "metadata": {},
   "outputs": [
    {
     "data": {
      "text/plain": [
       "'#####icode guru####'"
      ]
     },
     "execution_count": 128,
     "metadata": {},
     "output_type": "execute_result"
    }
   ],
   "source": [
    "b.center(19,\"#\")"
   ]
  },
  {
   "cell_type": "code",
   "execution_count": 129,
   "id": "a84f0237",
   "metadata": {},
   "outputs": [
    {
     "data": {
      "text/plain": [
       "'icode   guru'"
      ]
     },
     "execution_count": 129,
     "metadata": {},
     "output_type": "execute_result"
    }
   ],
   "source": [
    "b = \"icode\\tguru\"\n",
    "b.expandtabs()\n"
   ]
  },
  {
   "cell_type": "code",
   "execution_count": 130,
   "id": "54648d84",
   "metadata": {},
   "outputs": [],
   "source": [
    " a = \"We are all part of Icode Guru\""
   ]
  },
  {
   "cell_type": "code",
   "execution_count": 131,
   "id": "07618f95",
   "metadata": {},
   "outputs": [
    {
     "data": {
      "text/plain": [
       "'we are all part of icode guru'"
      ]
     },
     "execution_count": 131,
     "metadata": {},
     "output_type": "execute_result"
    }
   ],
   "source": [
    "a.lower()"
   ]
  },
  {
   "cell_type": "code",
   "execution_count": 132,
   "id": "e71a5f62",
   "metadata": {},
   "outputs": [
    {
     "data": {
      "text/plain": [
       "3"
      ]
     },
     "execution_count": 132,
     "metadata": {},
     "output_type": "execute_result"
    }
   ],
   "source": [
    "a.count(\"a\")"
   ]
  },
  {
   "cell_type": "code",
   "execution_count": 133,
   "id": "59895df5",
   "metadata": {},
   "outputs": [
    {
     "name": "stdout",
     "output_type": "stream",
     "text": [
      "3\n",
      "7\n",
      "12\n"
     ]
    }
   ],
   "source": [
    "for i in range(len(a)):\n",
    "    if a[i] == \"a\" :\n",
    "        print(i)"
   ]
  },
  {
   "cell_type": "code",
   "execution_count": 134,
   "id": "b37d16ed",
   "metadata": {},
   "outputs": [
    {
     "data": {
      "text/plain": [
       "'We icodere icodell picodert of Icode Guru'"
      ]
     },
     "execution_count": 134,
     "metadata": {},
     "output_type": "execute_result"
    }
   ],
   "source": [
    "a.replace(\"a\",\"icode\")"
   ]
  },
  {
   "cell_type": "code",
   "execution_count": 135,
   "id": "45d398b1",
   "metadata": {},
   "outputs": [
    {
     "data": {
      "text/plain": [
       "['We', 'are', 'all', 'part', 'of', 'Icode', 'Guru']"
      ]
     },
     "execution_count": 135,
     "metadata": {},
     "output_type": "execute_result"
    }
   ],
   "source": [
    "a.split()"
   ]
  },
  {
   "cell_type": "code",
   "execution_count": 136,
   "id": "dd3bd2a6",
   "metadata": {},
   "outputs": [
    {
     "data": {
      "text/plain": [
       "False"
      ]
     },
     "execution_count": 136,
     "metadata": {},
     "output_type": "execute_result"
    }
   ],
   "source": [
    "a.isupper()       #srting method that start with is its give boolen values"
   ]
  },
  {
   "cell_type": "code",
   "execution_count": 137,
   "id": "70fc3791",
   "metadata": {},
   "outputs": [
    {
     "data": {
      "text/plain": [
       "False"
      ]
     },
     "execution_count": 137,
     "metadata": {},
     "output_type": "execute_result"
    }
   ],
   "source": [
    "a.islower()"
   ]
  },
  {
   "cell_type": "code",
   "execution_count": 138,
   "id": "2f1f4ccd",
   "metadata": {},
   "outputs": [
    {
     "data": {
      "text/plain": [
       "True"
      ]
     },
     "execution_count": 138,
     "metadata": {},
     "output_type": "execute_result"
    }
   ],
   "source": [
    "a.endswith(\"u\")"
   ]
  },
  {
   "cell_type": "code",
   "execution_count": 139,
   "id": "37a7b969",
   "metadata": {},
   "outputs": [
    {
     "data": {
      "text/plain": [
       "False"
      ]
     },
     "execution_count": 139,
     "metadata": {},
     "output_type": "execute_result"
    }
   ],
   "source": [
    "a.startswith('t')"
   ]
  },
  {
   "cell_type": "code",
   "execution_count": 140,
   "id": "344afd30",
   "metadata": {},
   "outputs": [
    {
     "data": {
      "text/plain": [
       "False"
      ]
     },
     "execution_count": 140,
     "metadata": {},
     "output_type": "execute_result"
    }
   ],
   "source": [
    "a.isalnum()"
   ]
  },
  {
   "cell_type": "code",
   "execution_count": 141,
   "id": "9e8c7912",
   "metadata": {},
   "outputs": [],
   "source": [
    "a = \"aaaa\""
   ]
  },
  {
   "cell_type": "code",
   "execution_count": 142,
   "id": "9c158c01",
   "metadata": {},
   "outputs": [
    {
     "data": {
      "text/plain": [
       "True"
      ]
     },
     "execution_count": 142,
     "metadata": {},
     "output_type": "execute_result"
    }
   ],
   "source": [
    "a.isalnum()"
   ]
  },
  {
   "cell_type": "code",
   "execution_count": 143,
   "id": "48a42f49",
   "metadata": {},
   "outputs": [
    {
     "data": {
      "text/plain": [
       "4"
      ]
     },
     "execution_count": 143,
     "metadata": {},
     "output_type": "execute_result"
    }
   ],
   "source": [
    "len(a)"
   ]
  },
  {
   "cell_type": "code",
   "execution_count": 144,
   "id": "5d6d2425",
   "metadata": {},
   "outputs": [
    {
     "name": "stdout",
     "output_type": "stream",
     "text": [
      "4\n"
     ]
    }
   ],
   "source": [
    "count = 0\n",
    "for i in a :\n",
    "    count = count+1\n",
    "print(count)"
   ]
  },
  {
   "cell_type": "code",
   "execution_count": 145,
   "id": "c921a141",
   "metadata": {},
   "outputs": [
    {
     "name": "stdout",
     "output_type": "stream",
     "text": [
      "a\n",
      "a\n",
      "a\n",
      "a\n"
     ]
    }
   ],
   "source": [
    "for i in range(1,len(a)+1):\n",
    "    print(a[-i])"
   ]
  },
  {
   "cell_type": "code",
   "execution_count": 146,
   "id": "d62b213d",
   "metadata": {},
   "outputs": [
    {
     "name": "stdout",
     "output_type": "stream",
     "text": [
      "d\n",
      "i\n",
      "h\n",
      "a\n",
      "h\n",
      "s\n",
      " \n",
      "r\n",
      "i\n",
      "S\n"
     ]
    }
   ],
   "source": [
    "a = \"Sir shahid\"\n",
    "ch = len(a)-1\n",
    "while ch >= 0:\n",
    "    print(a[ch])\n",
    "    ch = ch-1"
   ]
  },
  {
   "cell_type": "code",
   "execution_count": 147,
   "id": "ec8f7bff",
   "metadata": {},
   "outputs": [
    {
     "name": "stdout",
     "output_type": "stream",
     "text": [
      "M is not a vowel\n",
      "A is a vowel\n",
      "M is not a vowel\n",
      "y is not a vowel\n",
      "o is a vowel\n",
      "u is a vowel\n",
      "s is not a vowel\n",
      "r is not a vowel\n",
      "a is a vowel\n"
     ]
    }
   ],
   "source": [
    "name = \"MAMyousra\"\n",
    "vowels = \"AaEeIiOoUu\"\n",
    "for i in name :\n",
    "    if i in vowels:\n",
    "        print(\"{} is a vowel\".format(i))\n",
    "    else:\n",
    "        print(\"{} is not a vowel\".format(i))\n"
   ]
  },
  {
   "cell_type": "code",
   "execution_count": 148,
   "id": "f2b9da31",
   "metadata": {},
   "outputs": [
    {
     "name": "stdout",
     "output_type": "stream",
     "text": [
      "Enter a data for which you whould like to check pelidrom: eye\n",
      "True\n"
     ]
    }
   ],
   "source": [
    "s = input(\"Enter a data for which you whould like to check pelidrom: \")\n",
    "s1 = s[::-1]\n",
    "if s == s1:\n",
    "    print(\"True\")\n",
    "else:\n",
    "    print(\"Flase\")"
   ]
  },
  {
   "cell_type": "code",
   "execution_count": 149,
   "id": "19097b3a",
   "metadata": {},
   "outputs": [],
   "source": [
    "#List manuplation\n",
    "l = [\"Arslan\",\"Ahmad\",1,3,3.45,[1,4,4,\"Abrar\"],12]"
   ]
  },
  {
   "cell_type": "code",
   "execution_count": 150,
   "id": "d878a045",
   "metadata": {},
   "outputs": [
    {
     "data": {
      "text/plain": [
       "['Ahmad', 1, 3, 3.45, [1, 4, 4, 'Abrar'], 12]"
      ]
     },
     "execution_count": 150,
     "metadata": {},
     "output_type": "execute_result"
    }
   ],
   "source": [
    "#Slicing and indexing\n",
    "l[1:34]"
   ]
  },
  {
   "cell_type": "code",
   "execution_count": 151,
   "id": "0024f7de",
   "metadata": {},
   "outputs": [
    {
     "data": {
      "text/plain": [
       "'Arslan'"
      ]
     },
     "execution_count": 151,
     "metadata": {},
     "output_type": "execute_result"
    }
   ],
   "source": [
    "l[0]"
   ]
  },
  {
   "cell_type": "code",
   "execution_count": 152,
   "id": "bc93e619",
   "metadata": {},
   "outputs": [
    {
     "data": {
      "text/plain": [
       "'Abrar'"
      ]
     },
     "execution_count": 152,
     "metadata": {},
     "output_type": "execute_result"
    }
   ],
   "source": [
    "l[5][3] #nested list element access"
   ]
  },
  {
   "cell_type": "code",
   "execution_count": 153,
   "id": "2bec4b03",
   "metadata": {},
   "outputs": [
    {
     "data": {
      "text/plain": [
       "['Arslan', 'Ahmad', 1, 3, 3.45, [1, 4, 4, 'Abrar'], 12, 'Arsal']"
      ]
     },
     "execution_count": 153,
     "metadata": {},
     "output_type": "execute_result"
    }
   ],
   "source": [
    "#concatenating list\n",
    "s = \"Arsal\"\n",
    "l + [s]"
   ]
  },
  {
   "cell_type": "code",
   "execution_count": 154,
   "id": "7dc05494",
   "metadata": {},
   "outputs": [
    {
     "data": {
      "text/plain": [
       "['Arslan',\n",
       " 'Ahmad',\n",
       " 1,\n",
       " 3,\n",
       " 3.45,\n",
       " [1, 4, 4, 'Abrar'],\n",
       " 12,\n",
       " 'A',\n",
       " 'r',\n",
       " 's',\n",
       " 'a',\n",
       " 'l']"
      ]
     },
     "execution_count": 154,
     "metadata": {},
     "output_type": "execute_result"
    }
   ],
   "source": [
    "#concatenating list   #string cannot add in list \n",
    "s = \"Arsal\"\n",
    "l + list(s)"
   ]
  },
  {
   "cell_type": "code",
   "execution_count": 155,
   "id": "915c999d",
   "metadata": {},
   "outputs": [
    {
     "data": {
      "text/plain": [
       "['Arslan',\n",
       " 'Ahmad',\n",
       " 1,\n",
       " 3,\n",
       " 3.45,\n",
       " [1, 4, 4, 'Abrar'],\n",
       " 12,\n",
       " 'Arslan',\n",
       " 'Ahmad',\n",
       " 1,\n",
       " 3,\n",
       " 3.45,\n",
       " [1, 4, 4, 'Abrar'],\n",
       " 12]"
      ]
     },
     "execution_count": 155,
     "metadata": {},
     "output_type": "execute_result"
    }
   ],
   "source": [
    "l*2"
   ]
  },
  {
   "cell_type": "code",
   "execution_count": 156,
   "id": "a6610b42",
   "metadata": {},
   "outputs": [
    {
     "data": {
      "text/plain": [
       "7"
      ]
     },
     "execution_count": 156,
     "metadata": {},
     "output_type": "execute_result"
    }
   ],
   "source": [
    "len(l)"
   ]
  },
  {
   "cell_type": "code",
   "execution_count": 157,
   "id": "d226b903",
   "metadata": {},
   "outputs": [
    {
     "name": "stdout",
     "output_type": "stream",
     "text": [
      "[1, 4, 4, 'Abrar']\n"
     ]
    }
   ],
   "source": [
    "for i in l:\n",
    "    if type(i)==list:\n",
    "        print(i)"
   ]
  },
  {
   "cell_type": "code",
   "execution_count": 158,
   "id": "7645bb20",
   "metadata": {},
   "outputs": [
    {
     "data": {
      "text/plain": [
       "True"
      ]
     },
     "execution_count": 158,
     "metadata": {},
     "output_type": "execute_result"
    }
   ],
   "source": [
    "#find any thing in list or not\n",
    "\"Arslan\" in l"
   ]
  },
  {
   "cell_type": "code",
   "execution_count": 159,
   "id": "b743368d",
   "metadata": {},
   "outputs": [
    {
     "data": {
      "text/plain": [
       "True"
      ]
     },
     "execution_count": 159,
     "metadata": {},
     "output_type": "execute_result"
    }
   ],
   "source": [
    "4 in l[5]   #if data in sublist check it with that index"
   ]
  },
  {
   "cell_type": "code",
   "execution_count": 160,
   "id": "c847cd4c",
   "metadata": {},
   "outputs": [],
   "source": [
    " a = [\"Arslan\",\"Ahmed\",\"Abrar\" ,\"Wahid\"]"
   ]
  },
  {
   "cell_type": "code",
   "execution_count": 161,
   "id": "aa9024a1",
   "metadata": {},
   "outputs": [
    {
     "data": {
      "text/plain": [
       "'Arslan Ahmed Abrar Wahid'"
      ]
     },
     "execution_count": 161,
     "metadata": {},
     "output_type": "execute_result"
    }
   ],
   "source": [
    "\" \".join(a)"
   ]
  },
  {
   "cell_type": "code",
   "execution_count": 162,
   "id": "0e4d3c08",
   "metadata": {},
   "outputs": [
    {
     "data": {
      "text/plain": [
       "'Arslan,Ahmed,Abrar,Wahid'"
      ]
     },
     "execution_count": 162,
     "metadata": {},
     "output_type": "execute_result"
    }
   ],
   "source": [
    "\",\".join(a)"
   ]
  },
  {
   "cell_type": "code",
   "execution_count": 163,
   "id": "eeb5828c",
   "metadata": {},
   "outputs": [
    {
     "data": {
      "text/plain": [
       "'Wahid'"
      ]
     },
     "execution_count": 163,
     "metadata": {},
     "output_type": "execute_result"
    }
   ],
   "source": [
    "max(a) #it give in str list w.r.t. alphabatic order"
   ]
  },
  {
   "cell_type": "code",
   "execution_count": 164,
   "id": "33d20494",
   "metadata": {},
   "outputs": [
    {
     "data": {
      "text/plain": [
       "363"
      ]
     },
     "execution_count": 164,
     "metadata": {},
     "output_type": "execute_result"
    }
   ],
   "source": [
    "max([1,23,34,54,3,363])"
   ]
  },
  {
   "cell_type": "code",
   "execution_count": 165,
   "id": "f659c6c4",
   "metadata": {},
   "outputs": [
    {
     "data": {
      "text/plain": [
       "[1, 23, 34, 54, 3, 363]"
      ]
     },
     "execution_count": 165,
     "metadata": {},
     "output_type": "execute_result"
    }
   ],
   "source": [
    "l1 = [1,23,34,54,3,363]\n",
    "l1"
   ]
  },
  {
   "cell_type": "code",
   "execution_count": 166,
   "id": "4e307300",
   "metadata": {},
   "outputs": [
    {
     "data": {
      "text/plain": [
       "1"
      ]
     },
     "execution_count": 166,
     "metadata": {},
     "output_type": "execute_result"
    }
   ],
   "source": [
    "min(l1)"
   ]
  },
  {
   "cell_type": "code",
   "execution_count": 167,
   "id": "01cce4f5",
   "metadata": {},
   "outputs": [],
   "source": [
    "l2 = [1,2,3,4,5]"
   ]
  },
  {
   "cell_type": "code",
   "execution_count": 168,
   "id": "0a74cc54",
   "metadata": {},
   "outputs": [],
   "source": [
    "l2.append(\"Ahmed\")   #append the data at last of list"
   ]
  },
  {
   "cell_type": "code",
   "execution_count": 169,
   "id": "6e9f5b2f",
   "metadata": {},
   "outputs": [
    {
     "data": {
      "text/plain": [
       "[1, 2, 3, 4, 5, 'Ahmed']"
      ]
     },
     "execution_count": 169,
     "metadata": {},
     "output_type": "execute_result"
    }
   ],
   "source": [
    "l2"
   ]
  },
  {
   "cell_type": "code",
   "execution_count": 170,
   "id": "c3ad998c",
   "metadata": {},
   "outputs": [
    {
     "data": {
      "text/plain": [
       "[1, 2, 3, 4, 5, 'Ahmed', [1, 23, 34, 54, 3, 363]]"
      ]
     },
     "execution_count": 170,
     "metadata": {},
     "output_type": "execute_result"
    }
   ],
   "source": [
    "l2.append(l1)\n",
    "l2\n"
   ]
  },
  {
   "cell_type": "code",
   "execution_count": 171,
   "id": "bd515557",
   "metadata": {},
   "outputs": [
    {
     "data": {
      "text/plain": [
       "[1, 23, 'IcodeGuru', 34, 54, 3, 363]"
      ]
     },
     "execution_count": 171,
     "metadata": {},
     "output_type": "execute_result"
    }
   ],
   "source": [
    "l1.insert(2,\"IcodeGuru\")   #insert data in the requried possition\n",
    "l1"
   ]
  },
  {
   "cell_type": "code",
   "execution_count": 178,
   "id": "ba4d19d7",
   "metadata": {},
   "outputs": [
    {
     "data": {
      "text/plain": [
       "['Arslan',\n",
       " 'Arslan',\n",
       " 1,\n",
       " 23,\n",
       " 'IcodeGuru',\n",
       " 34,\n",
       " 54,\n",
       " 3,\n",
       " 'Arslan',\n",
       " 'Arslan',\n",
       " 'Arslan',\n",
       " 'Arslan',\n",
       " 363,\n",
       " 'Arslan']"
      ]
     },
     "execution_count": 178,
     "metadata": {},
     "output_type": "execute_result"
    }
   ],
   "source": [
    "l1.insert(len(l1),\"Arslan\")\n",
    "l1"
   ]
  },
  {
   "cell_type": "code",
   "execution_count": 179,
   "id": "cf76c5ca",
   "metadata": {},
   "outputs": [
    {
     "data": {
      "text/plain": [
       "7"
      ]
     },
     "execution_count": 179,
     "metadata": {},
     "output_type": "execute_result"
    }
   ],
   "source": [
    "l1.count(\"Arslan\")"
   ]
  },
  {
   "cell_type": "code",
   "execution_count": 180,
   "id": "fd810fa0",
   "metadata": {},
   "outputs": [],
   "source": [
    "l2 = [1,2,3,4,5]"
   ]
  },
  {
   "cell_type": "code",
   "execution_count": 181,
   "id": "334fa43b",
   "metadata": {},
   "outputs": [],
   "source": [
    "l2.append(\"Abrar\")"
   ]
  },
  {
   "cell_type": "code",
   "execution_count": 182,
   "id": "0b6ddd64",
   "metadata": {},
   "outputs": [
    {
     "data": {
      "text/plain": [
       "[1, 2, 3, 4, 5, 'Abrar']"
      ]
     },
     "execution_count": 182,
     "metadata": {},
     "output_type": "execute_result"
    }
   ],
   "source": [
    "l2"
   ]
  },
  {
   "cell_type": "code",
   "execution_count": 183,
   "id": "ae11bd9b",
   "metadata": {},
   "outputs": [],
   "source": [
    "l2.extend(\"Ah\")"
   ]
  },
  {
   "cell_type": "code",
   "execution_count": 184,
   "id": "d3e38d32",
   "metadata": {},
   "outputs": [
    {
     "data": {
      "text/plain": [
       "[1, 2, 3, 4, 5, 'Abrar', 'A', 'h']"
      ]
     },
     "execution_count": 184,
     "metadata": {},
     "output_type": "execute_result"
    }
   ],
   "source": [
    "l2"
   ]
  },
  {
   "cell_type": "code",
   "execution_count": 187,
   "id": "93f79f17",
   "metadata": {},
   "outputs": [
    {
     "data": {
      "text/plain": [
       "[1, 2, 3, 4, 5, 'Abrar', 'A', 'h', 1, 2, 1, 2]"
      ]
     },
     "execution_count": 187,
     "metadata": {},
     "output_type": "execute_result"
    }
   ],
   "source": [
    "l2.extend([1,2])\n",
    "l2"
   ]
  },
  {
   "cell_type": "code",
   "execution_count": 188,
   "id": "c0ea909a",
   "metadata": {},
   "outputs": [],
   "source": [
    "l2.extend([\"arslan\",1,2])"
   ]
  },
  {
   "cell_type": "code",
   "execution_count": 189,
   "id": "83c6232f",
   "metadata": {},
   "outputs": [
    {
     "data": {
      "text/plain": [
       "[1, 2, 3, 4, 5, 'Abrar', 'A', 'h', 1, 2, 1, 2, 'arslan', 1, 2]"
      ]
     },
     "execution_count": 189,
     "metadata": {},
     "output_type": "execute_result"
    }
   ],
   "source": [
    "l2"
   ]
  },
  {
   "cell_type": "code",
   "execution_count": 190,
   "id": "63a20c4f",
   "metadata": {},
   "outputs": [],
   "source": [
    "l2.extend([1,\"Arslan\",[1,\"A\"]])"
   ]
  },
  {
   "cell_type": "code",
   "execution_count": 191,
   "id": "baa19bec",
   "metadata": {},
   "outputs": [
    {
     "data": {
      "text/plain": [
       "[1,\n",
       " 2,\n",
       " 3,\n",
       " 4,\n",
       " 5,\n",
       " 'Abrar',\n",
       " 'A',\n",
       " 'h',\n",
       " 1,\n",
       " 2,\n",
       " 1,\n",
       " 2,\n",
       " 'arslan',\n",
       " 1,\n",
       " 2,\n",
       " 1,\n",
       " 'Arslan',\n",
       " [1, 'A']]"
      ]
     },
     "execution_count": 191,
     "metadata": {},
     "output_type": "execute_result"
    }
   ],
   "source": [
    "l2"
   ]
  },
  {
   "cell_type": "code",
   "execution_count": 192,
   "id": "5c068bae",
   "metadata": {},
   "outputs": [
    {
     "data": {
      "text/plain": [
       "2"
      ]
     },
     "execution_count": 192,
     "metadata": {},
     "output_type": "execute_result"
    }
   ],
   "source": [
    "l2.index(3)"
   ]
  },
  {
   "cell_type": "code",
   "execution_count": 193,
   "id": "ac05be46",
   "metadata": {},
   "outputs": [],
   "source": [
    "l = [1,2,3,4]"
   ]
  },
  {
   "cell_type": "code",
   "execution_count": 194,
   "id": "8ebf7776",
   "metadata": {},
   "outputs": [
    {
     "data": {
      "text/plain": [
       "4"
      ]
     },
     "execution_count": 194,
     "metadata": {},
     "output_type": "execute_result"
    }
   ],
   "source": [
    "l.pop()"
   ]
  },
  {
   "cell_type": "code",
   "execution_count": 195,
   "id": "6cc1b689",
   "metadata": {},
   "outputs": [
    {
     "data": {
      "text/plain": [
       "[1, 2, 3]"
      ]
     },
     "execution_count": 195,
     "metadata": {},
     "output_type": "execute_result"
    }
   ],
   "source": [
    "l"
   ]
  },
  {
   "cell_type": "code",
   "execution_count": 196,
   "id": "7dcc4523",
   "metadata": {},
   "outputs": [
    {
     "data": {
      "text/plain": [
       "2"
      ]
     },
     "execution_count": 196,
     "metadata": {},
     "output_type": "execute_result"
    }
   ],
   "source": [
    "l.pop(1)"
   ]
  },
  {
   "cell_type": "code",
   "execution_count": 197,
   "id": "2c82072b",
   "metadata": {},
   "outputs": [
    {
     "data": {
      "text/plain": [
       "[1, 3]"
      ]
     },
     "execution_count": 197,
     "metadata": {},
     "output_type": "execute_result"
    }
   ],
   "source": [
    "l"
   ]
  },
  {
   "cell_type": "code",
   "execution_count": 199,
   "id": "1eff438d",
   "metadata": {},
   "outputs": [],
   "source": [
    "l1 = [1,2,3,4,5,6,6,7]"
   ]
  },
  {
   "cell_type": "code",
   "execution_count": 201,
   "id": "b23adbb7",
   "metadata": {},
   "outputs": [],
   "source": [
    "l1.remove(4)"
   ]
  },
  {
   "cell_type": "code",
   "execution_count": 202,
   "id": "c291b4e7",
   "metadata": {},
   "outputs": [
    {
     "data": {
      "text/plain": [
       "[1, 2, 3, 5, 6, 6, 7]"
      ]
     },
     "execution_count": 202,
     "metadata": {},
     "output_type": "execute_result"
    }
   ],
   "source": [
    "l1"
   ]
  },
  {
   "cell_type": "code",
   "execution_count": 203,
   "id": "26e39da0",
   "metadata": {},
   "outputs": [],
   "source": [
    "l1.remove(6)"
   ]
  },
  {
   "cell_type": "code",
   "execution_count": 204,
   "id": "0ca004c2",
   "metadata": {},
   "outputs": [
    {
     "data": {
      "text/plain": [
       "[1, 2, 3, 5, 6, 7]"
      ]
     },
     "execution_count": 204,
     "metadata": {},
     "output_type": "execute_result"
    }
   ],
   "source": [
    "l1"
   ]
  },
  {
   "cell_type": "code",
   "execution_count": 207,
   "id": "684dbc78",
   "metadata": {},
   "outputs": [],
   "source": [
    "l1.reverse()"
   ]
  },
  {
   "cell_type": "code",
   "execution_count": 208,
   "id": "5a17a522",
   "metadata": {},
   "outputs": [
    {
     "data": {
      "text/plain": [
       "[7, 6, 5, 3, 2, 1]"
      ]
     },
     "execution_count": 208,
     "metadata": {},
     "output_type": "execute_result"
    }
   ],
   "source": [
    "l1"
   ]
  },
  {
   "cell_type": "code",
   "execution_count": 209,
   "id": "bd9e5878",
   "metadata": {},
   "outputs": [],
   "source": [
    "l1.sort()"
   ]
  },
  {
   "cell_type": "code",
   "execution_count": 210,
   "id": "d484cdf0",
   "metadata": {},
   "outputs": [
    {
     "data": {
      "text/plain": [
       "[1, 2, 3, 5, 6, 7]"
      ]
     },
     "execution_count": 210,
     "metadata": {},
     "output_type": "execute_result"
    }
   ],
   "source": [
    "l1"
   ]
  },
  {
   "cell_type": "code",
   "execution_count": 218,
   "id": "1ac5b46a",
   "metadata": {},
   "outputs": [],
   "source": [
    "l = [1,3,2,5,4]"
   ]
  },
  {
   "cell_type": "code",
   "execution_count": 219,
   "id": "4300dea0",
   "metadata": {},
   "outputs": [
    {
     "data": {
      "text/plain": [
       "[1, 2, 3, 4, 5]"
      ]
     },
     "execution_count": 219,
     "metadata": {},
     "output_type": "execute_result"
    }
   ],
   "source": [
    "l.sort()\n",
    "l"
   ]
  },
  {
   "cell_type": "code",
   "execution_count": 224,
   "id": "c3b951b1",
   "metadata": {},
   "outputs": [],
   "source": [
    "l = [\"Zahid\",\"Wahid\",\"Arslan\",\"B\",\"Bd\",\"Bc\"]"
   ]
  },
  {
   "cell_type": "code",
   "execution_count": 225,
   "id": "2e9510cf",
   "metadata": {},
   "outputs": [
    {
     "data": {
      "text/plain": [
       "['Arslan', 'B', 'Bc', 'Bd', 'Wahid', 'Zahid']"
      ]
     },
     "execution_count": 225,
     "metadata": {},
     "output_type": "execute_result"
    }
   ],
   "source": [
    "l.sort()\n",
    "l"
   ]
  },
  {
   "cell_type": "code",
   "execution_count": 1,
   "id": "2fe6570c",
   "metadata": {},
   "outputs": [],
   "source": [
    "l = [[1,2,3],[3,4,5],[\"A\",\"B\",\"C\"],12,34]"
   ]
  },
  {
   "cell_type": "code",
   "execution_count": 2,
   "id": "3464206f",
   "metadata": {},
   "outputs": [],
   "source": [
    "l.insert(1,[\"m\",5])"
   ]
  },
  {
   "cell_type": "code",
   "execution_count": 3,
   "id": "14cf711a",
   "metadata": {},
   "outputs": [
    {
     "data": {
      "text/plain": [
       "[[1, 2, 3], ['m', 5], [3, 4, 5], ['A', 'B', 'C'], 12, 34]"
      ]
     },
     "execution_count": 3,
     "metadata": {},
     "output_type": "execute_result"
    }
   ],
   "source": [
    "l"
   ]
  },
  {
   "cell_type": "code",
   "execution_count": 4,
   "id": "1cc1f270",
   "metadata": {},
   "outputs": [],
   "source": [
    "l.insert(1,1+3j)"
   ]
  },
  {
   "cell_type": "code",
   "execution_count": 5,
   "id": "a9bed322",
   "metadata": {},
   "outputs": [
    {
     "data": {
      "text/plain": [
       "[[1, 2, 3], (1+3j), ['m', 5], [3, 4, 5], ['A', 'B', 'C'], 12, 34]"
      ]
     },
     "execution_count": 5,
     "metadata": {},
     "output_type": "execute_result"
    }
   ],
   "source": [
    "l"
   ]
  },
  {
   "cell_type": "code",
   "execution_count": 6,
   "id": "5e6406d1",
   "metadata": {},
   "outputs": [
    {
     "data": {
      "text/plain": [
       "complex"
      ]
     },
     "execution_count": 6,
     "metadata": {},
     "output_type": "execute_result"
    }
   ],
   "source": [
    "type(l[1])"
   ]
  },
  {
   "cell_type": "code",
   "execution_count": 7,
   "id": "b087bc15",
   "metadata": {},
   "outputs": [
    {
     "data": {
      "text/plain": [
       "[[1, 2, 3], ['A', 's', 'A', 2], [3, 4, 'Ar'], 5, 6]"
      ]
     },
     "execution_count": 7,
     "metadata": {},
     "output_type": "execute_result"
    }
   ],
   "source": [
    "l = [[1,2,3],[\"A\",\"s\",\"A\",2],[3,4,\"Ar\"],5,6]\n",
    "l"
   ]
  },
  {
   "cell_type": "code",
   "execution_count": 8,
   "id": "6eaa4e48",
   "metadata": {},
   "outputs": [],
   "source": [
    "l.insert(1,[1+3j,1])"
   ]
  },
  {
   "cell_type": "code",
   "execution_count": 9,
   "id": "ee8ca7b9",
   "metadata": {},
   "outputs": [
    {
     "data": {
      "text/plain": [
       "[[1, 2, 3], [(1+3j), 1], [(4+5j), 'A'], ['A', 's', 'A', 2], [3, 4, 'Ar'], 5, 6]"
      ]
     },
     "execution_count": 9,
     "metadata": {},
     "output_type": "execute_result"
    }
   ],
   "source": [
    "l.insert(2,[4+5j,\"A\"])\n",
    "l"
   ]
  },
  {
   "cell_type": "code",
   "execution_count": 10,
   "id": "1dd3614d",
   "metadata": {},
   "outputs": [],
   "source": [
    "l[1].insert(1,[\"Arslan\",12])"
   ]
  },
  {
   "cell_type": "code",
   "execution_count": 11,
   "id": "b70e6a18",
   "metadata": {},
   "outputs": [
    {
     "data": {
      "text/plain": [
       "[[1, 2, 3],\n",
       " [(1+3j), ['Arslan', 12], 1],\n",
       " [(4+5j), 'A'],\n",
       " ['A', 's', 'A', 2],\n",
       " [3, 4, 'Ar'],\n",
       " 5,\n",
       " 6]"
      ]
     },
     "execution_count": 11,
     "metadata": {},
     "output_type": "execute_result"
    }
   ],
   "source": [
    "l"
   ]
  },
  {
   "cell_type": "code",
   "execution_count": 27,
   "id": "f3eb2f02",
   "metadata": {},
   "outputs": [
    {
     "name": "stdout",
     "output_type": "stream",
     "text": [
      "2\n",
      "s\n",
      "4\n"
     ]
    }
   ],
   "source": [
    "for i in l:\n",
    "    if type(i) == list:\n",
    "        print(i[1])"
   ]
  },
  {
   "cell_type": "code",
   "execution_count": 29,
   "id": "22c5c236",
   "metadata": {},
   "outputs": [
    {
     "name": "stdout",
     "output_type": "stream",
     "text": [
      "2\n",
      "s\n",
      "4\n"
     ]
    }
   ],
   "source": [
    "for i in range(len(l)):\n",
    "    if type(l[i]) == list:\n",
    "        print(l[i][1])"
   ]
  },
  {
   "cell_type": "code",
   "execution_count": 21,
   "id": "1ac9b884",
   "metadata": {},
   "outputs": [
    {
     "name": "stdout",
     "output_type": "stream",
     "text": [
      "45\n",
      "4\n",
      "67\n",
      "[45, 4, 67]\n"
     ]
    }
   ],
   "source": [
    "l = []\n",
    "for i in range(3):\n",
    "    l.append(int(input()))\n",
    "print(l)"
   ]
  },
  {
   "cell_type": "code",
   "execution_count": 22,
   "id": "fd185d62",
   "metadata": {},
   "outputs": [
    {
     "name": "stdout",
     "output_type": "stream",
     "text": [
      "[1,2,3,4]\n"
     ]
    },
    {
     "data": {
      "text/plain": [
       "'[1,2,3,4]'"
      ]
     },
     "execution_count": 22,
     "metadata": {},
     "output_type": "execute_result"
    }
   ],
   "source": [
    "input()"
   ]
  },
  {
   "cell_type": "code",
   "execution_count": 61,
   "id": "8492f1db",
   "metadata": {},
   "outputs": [
    {
     "name": "stdout",
     "output_type": "stream",
     "text": [
      "[[1, 2, 3], ['A', 's', 'A', 2], [3, 4, 'Ar'], 5, 6]\n",
      "The index of A string is: 0\n",
      "The index of s string is: 1\n",
      "The index of A string is: 2\n",
      "The index of Ar string is: 2\n"
     ]
    }
   ],
   "source": [
    "l = [[1,2,3],[\"A\",\"s\",\"A\",2],[3,4,\"Ar\"],5,6]\n",
    "print(l)\n",
    "for i in l:\n",
    "    if type(i) == list:\n",
    "        for j in range(len(i)):\n",
    "            if type(i[j])==str:\n",
    "                print(\"The index of {} string is:\".format(i[j]),j)\n",
    "#         for j in range(len(i)):\n",
    "#             if type(i[j])==str:\n",
    "#                 i.remove(i[j])\n",
    "# print(\"The l after removing\",l)"
   ]
  },
  {
   "cell_type": "code",
   "execution_count": 75,
   "id": "f0fbe021",
   "metadata": {},
   "outputs": [
    {
     "name": "stdout",
     "output_type": "stream",
     "text": [
      "[[1, 2, 3], ['A', 's', 'A', 2], [3, 4, 'Ar'], 5, 6]\n",
      "The index of A string is: 0\n",
      "The index of s string is: 1\n",
      "The index of A string is: 2\n",
      "The index of Ar string is: 2\n",
      "The l after removing [[1, 2, 3], [2], [3, 4], 5, 6]\n"
     ]
    }
   ],
   "source": [
    "l = [[1,2,3],[\"A\",\"s\",\"A\",2],[3,4,\"Ar\"],5,6]\n",
    "print(l)\n",
    "\n",
    "for i in l:\n",
    "    if type(i) == list:\n",
    "#         j=0\n",
    "#         while j<len(i):\n",
    "    \n",
    "       \n",
    "        for j in range(len(i)):\n",
    "          \n",
    "            if type(i[j])==str:\n",
    "                print(\"The index of {} string is:\".format(i[j]),j)\n",
    "#             j=j+1\n",
    "                \n",
    "        k=0\n",
    "        while k<len(i):\n",
    "            if type(i[k])==str:\n",
    "                i.remove(i[k])\n",
    "                continue\n",
    "            k=k+1\n",
    "print(\"The l after removing\",l)"
   ]
  },
  {
   "cell_type": "code",
   "execution_count": 8,
   "id": "e662bfeb",
   "metadata": {},
   "outputs": [
    {
     "name": "stdout",
     "output_type": "stream",
     "text": [
      "[[1, 2, 3], ['A', 's', 'A', 2], [3, 4, 'Ar'], 5, 6]\n"
     ]
    }
   ],
   "source": [
    "k=0\n",
    "for i in l:\n",
    "    if type(i) is list:\n",
    "#         k=0\n",
    "        while k<len(i):\n",
    "            if type(i[k])==str:\n",
    "                i.remove(i[k])\n",
    "                continue\n",
    "            k=k+1\n",
    "print(l)"
   ]
  },
  {
   "cell_type": "code",
   "execution_count": 10,
   "id": "fd77d568",
   "metadata": {},
   "outputs": [
    {
     "name": "stdout",
     "output_type": "stream",
     "text": [
      "[[1, 2, 3], [2], [3, 4], 5, 6]\n"
     ]
    }
   ],
   "source": [
    "for i in l:\n",
    "    if type(i) is list:\n",
    "        k=0\n",
    "        while k<len(i):\n",
    "            if type(i[k])==str:\n",
    "                i.remove(i[k])\n",
    "                continue\n",
    "            k=k+1\n",
    "print(l)"
   ]
  },
  {
   "cell_type": "code",
   "execution_count": 11,
   "id": "c37370d5",
   "metadata": {},
   "outputs": [
    {
     "name": "stdout",
     "output_type": "stream",
     "text": [
      "['A', 'r', 's', 'l', 'a', 'n']\n"
     ]
    }
   ],
   "source": [
    "l=[]\n",
    "for i in \"Arslan\":\n",
    "    l.append(i)\n",
    "print(l)\n",
    "    "
   ]
  },
  {
   "cell_type": "code",
   "execution_count": 12,
   "id": "1a48fd21",
   "metadata": {},
   "outputs": [
    {
     "data": {
      "text/plain": [
       "['A', 'r', 's', 'l', 'a', 'n']"
      ]
     },
     "execution_count": 12,
     "metadata": {},
     "output_type": "execute_result"
    }
   ],
   "source": [
    "#List comprehension\n",
    "[i for i in \"Arslan\"]"
   ]
  },
  {
   "cell_type": "code",
   "execution_count": 13,
   "id": "fa1cb086",
   "metadata": {},
   "outputs": [
    {
     "data": {
      "text/plain": [
       "[['A'], ['r'], ['s'], ['l'], ['a'], ['n']]"
      ]
     },
     "execution_count": 13,
     "metadata": {},
     "output_type": "execute_result"
    }
   ],
   "source": [
    "[[i] for i in \"Arslan\"]"
   ]
  },
  {
   "cell_type": "code",
   "execution_count": 14,
   "id": "289aef27",
   "metadata": {},
   "outputs": [],
   "source": [
    "l=[]"
   ]
  },
  {
   "cell_type": "code",
   "execution_count": 18,
   "id": "67f52f00",
   "metadata": {},
   "outputs": [
    {
     "name": "stdout",
     "output_type": "stream",
     "text": [
      "[0, 2, 4, 6, 8, 0, 2, 4, 6, 8, 0, 2, 4, 6, 8, 0, 2, 4, 6, 8]\n"
     ]
    }
   ],
   "source": [
    "for i in range(10):\n",
    "    if i%2 == 0 :                      # % reminder oprater\n",
    "        l.append(i)\n",
    "print(l)"
   ]
  },
  {
   "cell_type": "code",
   "execution_count": 22,
   "id": "d73efac4",
   "metadata": {},
   "outputs": [
    {
     "data": {
      "text/plain": [
       "[0, 2, 4, 6, 8]"
      ]
     },
     "execution_count": 22,
     "metadata": {},
     "output_type": "execute_result"
    }
   ],
   "source": [
    "[i for i in range(10) if i%2 == 0]"
   ]
  },
  {
   "cell_type": "code",
   "execution_count": 24,
   "id": "2c2f8d32",
   "metadata": {},
   "outputs": [
    {
     "name": "stdout",
     "output_type": "stream",
     "text": [
      "[[0, 'even'], [1, 'odd'], [2, 'even'], [3, 'odd'], [4, 'even'], [5, 'odd'], [6, 'even'], [7, 'odd'], [8, 'even'], [9, 'odd']]\n"
     ]
    }
   ],
   "source": [
    "l=[]\n",
    "for i in range(10):\n",
    "    if i%2==0:\n",
    "        l.append([i,\"even\"])\n",
    "    else:\n",
    "        l.append([i,\"odd\"])\n",
    "print(l)"
   ]
  },
  {
   "cell_type": "code",
   "execution_count": 25,
   "id": "4d35bc46",
   "metadata": {},
   "outputs": [
    {
     "data": {
      "text/plain": [
       "[[0, 'even'],\n",
       " [1, 'odd'],\n",
       " [2, 'even'],\n",
       " [3, 'odd'],\n",
       " [4, 'even'],\n",
       " [5, 'odd'],\n",
       " [6, 'even'],\n",
       " [7, 'odd'],\n",
       " [8, 'even'],\n",
       " [9, 'odd']]"
      ]
     },
     "execution_count": 25,
     "metadata": {},
     "output_type": "execute_result"
    }
   ],
   "source": [
    "[ [i,\"even\"] if i%2==0 else [i,\"odd\"] for i in range(10)]"
   ]
  },
  {
   "cell_type": "code",
   "execution_count": 26,
   "id": "22e5e7a4",
   "metadata": {},
   "outputs": [
    {
     "name": "stdout",
     "output_type": "stream",
     "text": [
      "[[0, 1, 2], [0, 1, 2], [0, 1, 2]]\n"
     ]
    }
   ],
   "source": [
    "l = []\n",
    "for i in range(3):\n",
    "    l.append([])\n",
    "    for j in range(3):\n",
    "        l[i].append(j)\n",
    "print(l)"
   ]
  },
  {
   "cell_type": "code",
   "execution_count": 28,
   "id": "860e0a7a",
   "metadata": {},
   "outputs": [
    {
     "data": {
      "text/plain": [
       "[[0, 1, 2], [0, 1, 2], [0, 1, 2]]"
      ]
     },
     "execution_count": 28,
     "metadata": {},
     "output_type": "execute_result"
    }
   ],
   "source": [
    "[ [ j for j in range(3)] for i in range(3)]"
   ]
  },
  {
   "cell_type": "code",
   "execution_count": 31,
   "id": "2148fe1c",
   "metadata": {},
   "outputs": [],
   "source": [
    "l = list(range(10))"
   ]
  },
  {
   "cell_type": "code",
   "execution_count": 32,
   "id": "ac5adadd",
   "metadata": {},
   "outputs": [
    {
     "data": {
      "text/plain": [
       "[0, 1, 2, 3, 4, 5, 6, 7, 8, 9]"
      ]
     },
     "execution_count": 32,
     "metadata": {},
     "output_type": "execute_result"
    }
   ],
   "source": [
    "l"
   ]
  },
  {
   "cell_type": "code",
   "execution_count": 33,
   "id": "b0585dbd",
   "metadata": {},
   "outputs": [
    {
     "data": {
      "text/plain": [
       "['test', 'yes', 'no', 'test', 'test', 'test', 'test', 'test', 'test', 'test']"
      ]
     },
     "execution_count": 33,
     "metadata": {},
     "output_type": "execute_result"
    }
   ],
   "source": [
    "['yes' if i==1 else 'no' if i==2 else 'test' for i in l]"
   ]
  },
  {
   "cell_type": "code",
   "execution_count": 34,
   "id": "35ddb2f5",
   "metadata": {},
   "outputs": [
    {
     "name": "stdout",
     "output_type": "stream",
     "text": [
      "['test', 'yes', 'no', 'test', 'test', 'test', 'test', 'test', 'test', 'test']\n"
     ]
    }
   ],
   "source": [
    "res =[]\n",
    "for i in l:\n",
    "    if i==1:\n",
    "        res.append(\"yes\")\n",
    "    elif i==2:\n",
    "        res.append(\"no\")\n",
    "    else:\n",
    "        res.append('test')\n",
    "print(res)"
   ]
  },
  {
   "cell_type": "code",
   "execution_count": 35,
   "id": "8d7ccc3d",
   "metadata": {},
   "outputs": [],
   "source": [
    "#Tuple \n",
    "t = ()"
   ]
  },
  {
   "cell_type": "code",
   "execution_count": 36,
   "id": "15d760e2",
   "metadata": {},
   "outputs": [
    {
     "data": {
      "text/plain": [
       "tuple"
      ]
     },
     "execution_count": 36,
     "metadata": {},
     "output_type": "execute_result"
    }
   ],
   "source": [
    "type(t)"
   ]
  },
  {
   "cell_type": "code",
   "execution_count": 37,
   "id": "a5019f7a",
   "metadata": {},
   "outputs": [
    {
     "data": {
      "text/plain": [
       "list"
      ]
     },
     "execution_count": 37,
     "metadata": {},
     "output_type": "execute_result"
    }
   ],
   "source": [
    "l = []\n",
    "type(l)"
   ]
  },
  {
   "cell_type": "code",
   "execution_count": 1,
   "id": "e304108a",
   "metadata": {},
   "outputs": [
    {
     "data": {
      "text/plain": [
       "(12, 35, 'Arslan', (2+2j), True)"
      ]
     },
     "execution_count": 1,
     "metadata": {},
     "output_type": "execute_result"
    }
   ],
   "source": [
    "t = (12,35,\"Arslan\",2+2j,True)\n",
    "t"
   ]
  },
  {
   "cell_type": "code",
   "execution_count": 41,
   "id": "a0780213",
   "metadata": {},
   "outputs": [
    {
     "data": {
      "text/plain": [
       "[12, 35, 'Arslan', (2+2j), True]"
      ]
     },
     "execution_count": 41,
     "metadata": {},
     "output_type": "execute_result"
    }
   ],
   "source": [
    "l = [12,35,\"Arslan\",2+2j,True]\n",
    "l"
   ]
  },
  {
   "cell_type": "code",
   "execution_count": 42,
   "id": "736afdc7",
   "metadata": {},
   "outputs": [
    {
     "data": {
      "text/plain": [
       "12"
      ]
     },
     "execution_count": 42,
     "metadata": {},
     "output_type": "execute_result"
    }
   ],
   "source": [
    "t[0]"
   ]
  },
  {
   "cell_type": "code",
   "execution_count": 43,
   "id": "c64181c5",
   "metadata": {},
   "outputs": [
    {
     "data": {
      "text/plain": [
       "(12, 35, 'Arslan')"
      ]
     },
     "execution_count": 43,
     "metadata": {},
     "output_type": "execute_result"
    }
   ],
   "source": [
    "t[0:3]"
   ]
  },
  {
   "cell_type": "code",
   "execution_count": 44,
   "id": "8d92913e",
   "metadata": {},
   "outputs": [
    {
     "data": {
      "text/plain": [
       "(True, (2+2j), 'Arslan', 35, 12)"
      ]
     },
     "execution_count": 44,
     "metadata": {},
     "output_type": "execute_result"
    }
   ],
   "source": [
    "t[::-1]"
   ]
  },
  {
   "cell_type": "code",
   "execution_count": 46,
   "id": "9b56b4a4",
   "metadata": {},
   "outputs": [
    {
     "data": {
      "text/plain": [
       "['Ahmed', 35, 'Arslan', (2+2j), True]"
      ]
     },
     "execution_count": 46,
     "metadata": {},
     "output_type": "execute_result"
    }
   ],
   "source": [
    "l[0] = \"Ahmed\"       #that type of operation not support in tuple\n",
    "l               # list is muteable and tuple is not mutable "
   ]
  },
  {
   "cell_type": "code",
   "execution_count": 48,
   "id": "f28dd31f",
   "metadata": {},
   "outputs": [],
   "source": [
    "t1 = (12,35)"
   ]
  },
  {
   "cell_type": "code",
   "execution_count": 49,
   "id": "de8e98cb",
   "metadata": {},
   "outputs": [
    {
     "data": {
      "text/plain": [
       "(12, 35, 'Arslan', (2+2j), True, 12, 35)"
      ]
     },
     "execution_count": 49,
     "metadata": {},
     "output_type": "execute_result"
    }
   ],
   "source": [
    "t+t1"
   ]
  },
  {
   "cell_type": "code",
   "execution_count": 51,
   "id": "f47605f1",
   "metadata": {},
   "outputs": [
    {
     "data": {
      "text/plain": [
       "(12, 35, 12, 35, 12, 35)"
      ]
     },
     "execution_count": 51,
     "metadata": {},
     "output_type": "execute_result"
    }
   ],
   "source": [
    "t1*3"
   ]
  },
  {
   "cell_type": "code",
   "execution_count": 2,
   "id": "192cbe17",
   "metadata": {},
   "outputs": [
    {
     "data": {
      "text/plain": [
       "5"
      ]
     },
     "execution_count": 2,
     "metadata": {},
     "output_type": "execute_result"
    }
   ],
   "source": [
    "len(t)"
   ]
  },
  {
   "cell_type": "code",
   "execution_count": 3,
   "id": "9b0741b9",
   "metadata": {},
   "outputs": [
    {
     "data": {
      "text/plain": [
       "True"
      ]
     },
     "execution_count": 3,
     "metadata": {},
     "output_type": "execute_result"
    }
   ],
   "source": [
    "True in t"
   ]
  },
  {
   "cell_type": "code",
   "execution_count": 4,
   "id": "e25512ef",
   "metadata": {},
   "outputs": [
    {
     "data": {
      "text/plain": [
       "True"
      ]
     },
     "execution_count": 4,
     "metadata": {},
     "output_type": "execute_result"
    }
   ],
   "source": [
    "\"Arslan\" in t"
   ]
  },
  {
   "cell_type": "code",
   "execution_count": 6,
   "id": "877d6c03",
   "metadata": {},
   "outputs": [],
   "source": [
    "t= (1,2,3,4)"
   ]
  },
  {
   "cell_type": "code",
   "execution_count": 7,
   "id": "8e27266f",
   "metadata": {},
   "outputs": [
    {
     "data": {
      "text/plain": [
       "4"
      ]
     },
     "execution_count": 7,
     "metadata": {},
     "output_type": "execute_result"
    }
   ],
   "source": [
    "max(t)"
   ]
  },
  {
   "cell_type": "code",
   "execution_count": 8,
   "id": "0f906b99",
   "metadata": {},
   "outputs": [
    {
     "data": {
      "text/plain": [
       "1"
      ]
     },
     "execution_count": 8,
     "metadata": {},
     "output_type": "execute_result"
    }
   ],
   "source": [
    "min(t)"
   ]
  },
  {
   "cell_type": "code",
   "execution_count": 10,
   "id": "c7ef88fe",
   "metadata": {},
   "outputs": [],
   "source": [
    "t= ('a','b','c')"
   ]
  },
  {
   "cell_type": "code",
   "execution_count": 11,
   "id": "f433fa78",
   "metadata": {},
   "outputs": [
    {
     "data": {
      "text/plain": [
       "'c'"
      ]
     },
     "execution_count": 11,
     "metadata": {},
     "output_type": "execute_result"
    }
   ],
   "source": [
    "max(t)"
   ]
  },
  {
   "cell_type": "code",
   "execution_count": 12,
   "id": "04b50625",
   "metadata": {},
   "outputs": [
    {
     "data": {
      "text/plain": [
       "'a'"
      ]
     },
     "execution_count": 12,
     "metadata": {},
     "output_type": "execute_result"
    }
   ],
   "source": [
    "min(t)"
   ]
  },
  {
   "cell_type": "code",
   "execution_count": 13,
   "id": "cf4e9a27",
   "metadata": {},
   "outputs": [],
   "source": [
    "t = (1,1,1,1,2,2,3,4,\"Arslan\")"
   ]
  },
  {
   "cell_type": "code",
   "execution_count": 14,
   "id": "16069c3c",
   "metadata": {},
   "outputs": [
    {
     "data": {
      "text/plain": [
       "4"
      ]
     },
     "execution_count": 14,
     "metadata": {},
     "output_type": "execute_result"
    }
   ],
   "source": [
    "t.count(1)"
   ]
  },
  {
   "cell_type": "code",
   "execution_count": 15,
   "id": "7e7272ff",
   "metadata": {},
   "outputs": [
    {
     "data": {
      "text/plain": [
       "0"
      ]
     },
     "execution_count": 15,
     "metadata": {},
     "output_type": "execute_result"
    }
   ],
   "source": [
    "t.index(1)"
   ]
  },
  {
   "cell_type": "code",
   "execution_count": 20,
   "id": "49b293b8",
   "metadata": {},
   "outputs": [
    {
     "name": "stdout",
     "output_type": "stream",
     "text": [
      "8\n"
     ]
    }
   ],
   "source": [
    "for i in range(len(t)):\n",
    "    if type(t[i]) == str:\n",
    "        print(i)"
   ]
  },
  {
   "cell_type": "code",
   "execution_count": 21,
   "id": "e6f49f1f",
   "metadata": {},
   "outputs": [],
   "source": [
    "t1= (1,2,3)"
   ]
  },
  {
   "cell_type": "code",
   "execution_count": 22,
   "id": "f4b6f4bf",
   "metadata": {},
   "outputs": [
    {
     "data": {
      "text/plain": [
       "(1, 1, 1, 1, 2, 2, 3, 4, 'Arslan', 1, 2, 3)"
      ]
     },
     "execution_count": 22,
     "metadata": {},
     "output_type": "execute_result"
    }
   ],
   "source": [
    "t+t1"
   ]
  },
  {
   "cell_type": "code",
   "execution_count": 23,
   "id": "ab8fd053",
   "metadata": {},
   "outputs": [
    {
     "data": {
      "text/plain": [
       "[1, 1, 1, 1, 2, 2, 3, 4, 'Arslan']"
      ]
     },
     "execution_count": 23,
     "metadata": {},
     "output_type": "execute_result"
    }
   ],
   "source": [
    "l = list(t)\n",
    "l"
   ]
  },
  {
   "cell_type": "code",
   "execution_count": 24,
   "id": "a0357c11",
   "metadata": {},
   "outputs": [],
   "source": [
    "l.insert(2,5)"
   ]
  },
  {
   "cell_type": "code",
   "execution_count": 25,
   "id": "4e7e9bf1",
   "metadata": {},
   "outputs": [
    {
     "data": {
      "text/plain": [
       "(1, 1, 5, 1, 1, 2, 2, 3, 4, 'Arslan')"
      ]
     },
     "execution_count": 25,
     "metadata": {},
     "output_type": "execute_result"
    }
   ],
   "source": [
    "t = tuple(l)\n",
    "t"
   ]
  },
  {
   "cell_type": "code",
   "execution_count": 26,
   "id": "10da8754",
   "metadata": {},
   "outputs": [],
   "source": [
    "t = ((1,2,3,4),(\"1\",3,\"a\",[5,34]))"
   ]
  },
  {
   "cell_type": "code",
   "execution_count": 28,
   "id": "e150d53b",
   "metadata": {},
   "outputs": [
    {
     "data": {
      "text/plain": [
       "[5, 34]"
      ]
     },
     "execution_count": 28,
     "metadata": {},
     "output_type": "execute_result"
    }
   ],
   "source": [
    "t[1][3]"
   ]
  },
  {
   "cell_type": "code",
   "execution_count": 29,
   "id": "57b7b37f",
   "metadata": {},
   "outputs": [
    {
     "data": {
      "text/plain": [
       "list"
      ]
     },
     "execution_count": 29,
     "metadata": {},
     "output_type": "execute_result"
    }
   ],
   "source": [
    "type(t[1][3])"
   ]
  },
  {
   "cell_type": "code",
   "execution_count": 30,
   "id": "1e810fe1",
   "metadata": {},
   "outputs": [
    {
     "data": {
      "text/plain": [
       "(3, 'a')"
      ]
     },
     "execution_count": 30,
     "metadata": {},
     "output_type": "execute_result"
    }
   ],
   "source": [
    "t[1][1:3]"
   ]
  },
  {
   "cell_type": "code",
   "execution_count": 31,
   "id": "cf0a8122",
   "metadata": {},
   "outputs": [
    {
     "name": "stdout",
     "output_type": "stream",
     "text": [
      "1\n",
      "1\n"
     ]
    }
   ],
   "source": [
    "for i in t:\n",
    "    if type(i)==tuple:\n",
    "        print(i[0])"
   ]
  },
  {
   "cell_type": "code",
   "execution_count": 32,
   "id": "5e657978",
   "metadata": {},
   "outputs": [],
   "source": [
    "t = (1,2,3,4,\"Arslan\",\"Ahmed\",\"Qasid\")"
   ]
  },
  {
   "cell_type": "code",
   "execution_count": 33,
   "id": "d0a166fb",
   "metadata": {},
   "outputs": [
    {
     "name": "stdout",
     "output_type": "stream",
     "text": [
      "Write your name:Arslan\n",
      "your name is available\n"
     ]
    }
   ],
   "source": [
    "i = input(\"Write your name:\")\n",
    "if i in t:\n",
    "    print(\"your name is available\")\n",
    "else:\n",
    "    print(\"your name is not available\")"
   ]
  },
  {
   "cell_type": "code",
   "execution_count": 36,
   "id": "1f56d71c",
   "metadata": {},
   "outputs": [],
   "source": [
    "#Set\n",
    "x = set()  #unorder collection of different object \n",
    "           #if you want to remove dublecate then it use but it hard to mauplate"
   ]
  },
  {
   "cell_type": "code",
   "execution_count": 37,
   "id": "c1840400",
   "metadata": {},
   "outputs": [
    {
     "data": {
      "text/plain": [
       "set"
      ]
     },
     "execution_count": 37,
     "metadata": {},
     "output_type": "execute_result"
    }
   ],
   "source": [
    "type(x)"
   ]
  },
  {
   "cell_type": "code",
   "execution_count": 2,
   "id": "2978be6a",
   "metadata": {},
   "outputs": [],
   "source": [
    "l= [1,1,1,2,3,3,5,3,4,3,4,'Arslan',\"Arslan\",\"arslan\"]"
   ]
  },
  {
   "cell_type": "code",
   "execution_count": 4,
   "id": "5a550546",
   "metadata": {},
   "outputs": [
    {
     "data": {
      "text/plain": [
       "{1, 2, 3, 4, 5, 'Arslan', 'arslan'}"
      ]
     },
     "execution_count": 4,
     "metadata": {},
     "output_type": "execute_result"
    }
   ],
   "source": [
    "x=set(l)\n",
    "x                       #set is not subscriptable x[0]"
   ]
  },
  {
   "cell_type": "code",
   "execution_count": 6,
   "id": "a3a1c328",
   "metadata": {},
   "outputs": [],
   "source": [
    "s= set()"
   ]
  },
  {
   "cell_type": "code",
   "execution_count": 7,
   "id": "cde904b2",
   "metadata": {},
   "outputs": [],
   "source": [
    "s.difference_update()"
   ]
  },
  {
   "cell_type": "code",
   "execution_count": 8,
   "id": "dc713508",
   "metadata": {},
   "outputs": [
    {
     "data": {
      "text/plain": [
       "set()"
      ]
     },
     "execution_count": 8,
     "metadata": {},
     "output_type": "execute_result"
    }
   ],
   "source": [
    "s"
   ]
  },
  {
   "cell_type": "code",
   "execution_count": 10,
   "id": "ec2a8416",
   "metadata": {},
   "outputs": [],
   "source": [
    "s.add(3)"
   ]
  },
  {
   "cell_type": "code",
   "execution_count": 11,
   "id": "26d0ee7d",
   "metadata": {},
   "outputs": [
    {
     "data": {
      "text/plain": [
       "{3}"
      ]
     },
     "execution_count": 11,
     "metadata": {},
     "output_type": "execute_result"
    }
   ],
   "source": [
    "s"
   ]
  },
  {
   "cell_type": "code",
   "execution_count": 12,
   "id": "17088dbf",
   "metadata": {},
   "outputs": [],
   "source": [
    "s = set([1,2,3,4,5,5])"
   ]
  },
  {
   "cell_type": "code",
   "execution_count": 13,
   "id": "99fcd838",
   "metadata": {},
   "outputs": [
    {
     "data": {
      "text/plain": [
       "{1, 2, 3, 4, 5}"
      ]
     },
     "execution_count": 13,
     "metadata": {},
     "output_type": "execute_result"
    }
   ],
   "source": [
    "s"
   ]
  },
  {
   "cell_type": "code",
   "execution_count": 15,
   "id": "4b187e83",
   "metadata": {},
   "outputs": [
    {
     "data": {
      "text/plain": [
       "{1, 2, 3, 4, 5, 'Arslan', 'arslan'}"
      ]
     },
     "execution_count": 15,
     "metadata": {},
     "output_type": "execute_result"
    }
   ],
   "source": [
    "s.union(x)"
   ]
  },
  {
   "cell_type": "code",
   "execution_count": 17,
   "id": "1e4bc7ce",
   "metadata": {},
   "outputs": [
    {
     "data": {
      "text/plain": [
       "(1, 2, 3, 4, 5)"
      ]
     },
     "execution_count": 17,
     "metadata": {},
     "output_type": "execute_result"
    }
   ],
   "source": [
    "tuple(s)"
   ]
  },
  {
   "cell_type": "code",
   "execution_count": 18,
   "id": "132e6efe",
   "metadata": {},
   "outputs": [
    {
     "data": {
      "text/plain": [
       "{1, 2, 3, 4, 5}"
      ]
     },
     "execution_count": 18,
     "metadata": {},
     "output_type": "execute_result"
    }
   ],
   "source": [
    "s"
   ]
  },
  {
   "cell_type": "code",
   "execution_count": 20,
   "id": "a08b2c3e",
   "metadata": {},
   "outputs": [
    {
     "data": {
      "text/plain": [
       "{}"
      ]
     },
     "execution_count": 20,
     "metadata": {},
     "output_type": "execute_result"
    }
   ],
   "source": [
    "#Dictionary\n",
    "d = {}\n",
    "d"
   ]
  },
  {
   "cell_type": "code",
   "execution_count": 21,
   "id": "6db8f98c",
   "metadata": {},
   "outputs": [
    {
     "data": {
      "text/plain": [
       "dict"
      ]
     },
     "execution_count": 21,
     "metadata": {},
     "output_type": "execute_result"
    }
   ],
   "source": [
    "type(d)"
   ]
  },
  {
   "cell_type": "code",
   "execution_count": 24,
   "id": "7447716b",
   "metadata": {},
   "outputs": [
    {
     "data": {
      "text/plain": [
       "{1, 2}"
      ]
     },
     "execution_count": 24,
     "metadata": {},
     "output_type": "execute_result"
    }
   ],
   "source": [
    "s1 = {1,2}\n",
    "s1"
   ]
  },
  {
   "cell_type": "code",
   "execution_count": 25,
   "id": "bd4be562",
   "metadata": {},
   "outputs": [
    {
     "data": {
      "text/plain": [
       "set"
      ]
     },
     "execution_count": 25,
     "metadata": {},
     "output_type": "execute_result"
    }
   ],
   "source": [
    "type(s1)"
   ]
  },
  {
   "cell_type": "code",
   "execution_count": 27,
   "id": "fcc9f9fc",
   "metadata": {},
   "outputs": [
    {
     "data": {
      "text/plain": [
       "{'Arslan': 189, 'Ahmed': 345}"
      ]
     },
     "execution_count": 27,
     "metadata": {},
     "output_type": "execute_result"
    }
   ],
   "source": [
    "#Dictionary take the key and value seprate by : ,it not take duplicate key \n",
    "d = {'Arslan':189,\"Ahmed\":345}\n",
    "d"
   ]
  },
  {
   "cell_type": "code",
   "execution_count": 28,
   "id": "06520d39",
   "metadata": {},
   "outputs": [
    {
     "data": {
      "text/plain": [
       "dict"
      ]
     },
     "execution_count": 28,
     "metadata": {},
     "output_type": "execute_result"
    }
   ],
   "source": [
    "type(d)"
   ]
  },
  {
   "cell_type": "code",
   "execution_count": 33,
   "id": "c96ab351",
   "metadata": {},
   "outputs": [
    {
     "data": {
      "text/plain": [
       "{'name': 'Arslan', 'age': 21, 'village': 189, False: 12, 123: 123, 1234: 'as'}"
      ]
     },
     "execution_count": 33,
     "metadata": {},
     "output_type": "execute_result"
    }
   ],
   "source": [
    "d1 = {\"name\":\"Arslan\",\"age\":21,\"village\":189,False:12,123:123,1234:\"as\"}\n",
    "d1"
   ]
  },
  {
   "cell_type": "code",
   "execution_count": 19,
   "id": "6d6c0267",
   "metadata": {},
   "outputs": [
    {
     "data": {
      "text/plain": [
       "{'tuple': (2, 3),\n",
       " 'list': [34, 4],\n",
       " 'set': {34, 54},\n",
       " 'dict': {'name': 'Ar'},\n",
       " (2, 3): 122}"
      ]
     },
     "execution_count": 19,
     "metadata": {},
     "output_type": "execute_result"
    }
   ],
   "source": [
    "d2 = {\"tuple\":(2,3),\"list\":[34,4],\"set\":{54,34},\"dict\":{\"name\":\"Ar\"},(2,3):122}\n",
    "d2           #as a key we use tuple not list ,set,dict and special charachter"
   ]
  },
  {
   "cell_type": "code",
   "execution_count": 44,
   "id": "629ddfbd",
   "metadata": {},
   "outputs": [
    {
     "data": {
      "text/plain": [
       "[34, 4]"
      ]
     },
     "execution_count": 44,
     "metadata": {},
     "output_type": "execute_result"
    }
   ],
   "source": [
    "d2[\"list\"]  #key is used like index"
   ]
  },
  {
   "cell_type": "code",
   "execution_count": 45,
   "id": "844cca03",
   "metadata": {},
   "outputs": [
    {
     "data": {
      "text/plain": [
       "'as'"
      ]
     },
     "execution_count": 45,
     "metadata": {},
     "output_type": "execute_result"
    }
   ],
   "source": [
    "d1[1234]"
   ]
  },
  {
   "cell_type": "code",
   "execution_count": 46,
   "id": "0c2896b4",
   "metadata": {},
   "outputs": [
    {
     "data": {
      "text/plain": [
       "list"
      ]
     },
     "execution_count": 46,
     "metadata": {},
     "output_type": "execute_result"
    }
   ],
   "source": [
    "type(d2[\"list\"])"
   ]
  },
  {
   "cell_type": "code",
   "execution_count": 47,
   "id": "44dab46f",
   "metadata": {},
   "outputs": [
    {
     "data": {
      "text/plain": [
       "4"
      ]
     },
     "execution_count": 47,
     "metadata": {},
     "output_type": "execute_result"
    }
   ],
   "source": [
    "d2[\"list\"][1]"
   ]
  },
  {
   "cell_type": "code",
   "execution_count": 48,
   "id": "54a153d9",
   "metadata": {},
   "outputs": [
    {
     "data": {
      "text/plain": [
       "'Arslan'"
      ]
     },
     "execution_count": 48,
     "metadata": {},
     "output_type": "execute_result"
    }
   ],
   "source": [
    "d2[\"dict\"][\"name\"]"
   ]
  },
  {
   "cell_type": "code",
   "execution_count": 3,
   "id": "cd5092bd",
   "metadata": {},
   "outputs": [
    {
     "data": {
      "text/plain": [
       "{'name': 'Arslan', 'dict': {'a': [12, 34], 'j': {'name': 12}}}"
      ]
     },
     "execution_count": 3,
     "metadata": {},
     "output_type": "execute_result"
    }
   ],
   "source": [
    "d = {\"name\":\"Arslan\",\"dict\":{\"a\":[12,34],\"j\":{'name':12}}}\n",
    "d"
   ]
  },
  {
   "cell_type": "code",
   "execution_count": 4,
   "id": "0a05a0ad",
   "metadata": {},
   "outputs": [
    {
     "data": {
      "text/plain": [
       "{'name': 12}"
      ]
     },
     "execution_count": 4,
     "metadata": {},
     "output_type": "execute_result"
    }
   ],
   "source": [
    "d[\"dict\"][\"j\"]"
   ]
  },
  {
   "cell_type": "code",
   "execution_count": 5,
   "id": "11052197",
   "metadata": {},
   "outputs": [
    {
     "data": {
      "text/plain": [
       "12"
      ]
     },
     "execution_count": 5,
     "metadata": {},
     "output_type": "execute_result"
    }
   ],
   "source": [
    "d[\"dict\"][\"j\"][\"name\"]"
   ]
  },
  {
   "cell_type": "code",
   "execution_count": 6,
   "id": "af4e5af7",
   "metadata": {},
   "outputs": [],
   "source": [
    "d[\"name\"]=\"ahmed\""
   ]
  },
  {
   "cell_type": "code",
   "execution_count": 7,
   "id": "708e8ce7",
   "metadata": {},
   "outputs": [
    {
     "data": {
      "text/plain": [
       "{'name': 'ahmed', 'dict': {'a': [12, 34], 'j': {'name': 12}}}"
      ]
     },
     "execution_count": 7,
     "metadata": {},
     "output_type": "execute_result"
    }
   ],
   "source": [
    "d"
   ]
  },
  {
   "cell_type": "code",
   "execution_count": 8,
   "id": "b5814c0b",
   "metadata": {},
   "outputs": [
    {
     "data": {
      "text/plain": [
       "{'name': 50, 'dict': {'a': [12, 34], 'j': {'name': 12}}}"
      ]
     },
     "execution_count": 8,
     "metadata": {},
     "output_type": "execute_result"
    }
   ],
   "source": [
    "d[\"name\"] = 50\n",
    "d"
   ]
  },
  {
   "cell_type": "code",
   "execution_count": 9,
   "id": "6a378bfd",
   "metadata": {},
   "outputs": [
    {
     "data": {
      "text/plain": [
       "{'name': 40, 'dict': {'a': [12, 34], 'j': {'name': 12}}}"
      ]
     },
     "execution_count": 9,
     "metadata": {},
     "output_type": "execute_result"
    }
   ],
   "source": [
    "d[\"name\"] -= 10\n",
    "d"
   ]
  },
  {
   "cell_type": "code",
   "execution_count": 10,
   "id": "7551957d",
   "metadata": {},
   "outputs": [
    {
     "data": {
      "text/plain": [
       "True"
      ]
     },
     "execution_count": 10,
     "metadata": {},
     "output_type": "execute_result"
    }
   ],
   "source": [
    "\"name\" in d.keys()"
   ]
  },
  {
   "cell_type": "code",
   "execution_count": 12,
   "id": "8d93a414",
   "metadata": {},
   "outputs": [
    {
     "data": {
      "text/plain": [
       "False"
      ]
     },
     "execution_count": 12,
     "metadata": {},
     "output_type": "execute_result"
    }
   ],
   "source": [
    "\"j\" in d.keys()"
   ]
  },
  {
   "cell_type": "code",
   "execution_count": 14,
   "id": "0f5b4b44",
   "metadata": {},
   "outputs": [
    {
     "data": {
      "text/plain": [
       "True"
      ]
     },
     "execution_count": 14,
     "metadata": {},
     "output_type": "execute_result"
    }
   ],
   "source": [
    "\"j\" in d[\"dict\"].keys()"
   ]
  },
  {
   "cell_type": "code",
   "execution_count": 15,
   "id": "c4f019d1",
   "metadata": {},
   "outputs": [
    {
     "name": "stdout",
     "output_type": "stream",
     "text": [
      "name\n",
      "dict\n"
     ]
    }
   ],
   "source": [
    "for i in d:\n",
    "    print(i)"
   ]
  },
  {
   "cell_type": "code",
   "execution_count": 16,
   "id": "1f7b57f6",
   "metadata": {},
   "outputs": [
    {
     "name": "stdout",
     "output_type": "stream",
     "text": [
      "40\n",
      "{'a': [12, 34], 'j': {'name': 12}}\n"
     ]
    }
   ],
   "source": [
    "for i in d:\n",
    "    print(d[i])"
   ]
  },
  {
   "cell_type": "code",
   "execution_count": 17,
   "id": "2a82f632",
   "metadata": {},
   "outputs": [
    {
     "name": "stdout",
     "output_type": "stream",
     "text": [
      "40\n",
      "{'a': [12, 34], 'j': {'name': 12}}\n"
     ]
    }
   ],
   "source": [
    "for i in d.keys():\n",
    "    print(d[i])"
   ]
  },
  {
   "cell_type": "code",
   "execution_count": 18,
   "id": "937d73fc",
   "metadata": {},
   "outputs": [
    {
     "data": {
      "text/plain": [
       "dict_keys(['name', 'dict'])"
      ]
     },
     "execution_count": 18,
     "metadata": {},
     "output_type": "execute_result"
    }
   ],
   "source": [
    "d.keys()"
   ]
  },
  {
   "cell_type": "code",
   "execution_count": 20,
   "id": "574f07d6",
   "metadata": {},
   "outputs": [
    {
     "data": {
      "text/plain": [
       "{'tuple': (2, 3),\n",
       " 'list': [34, 4],\n",
       " 'set': {34, 54},\n",
       " 'dict': {'name': 'Ar'},\n",
       " (2, 3): 122}"
      ]
     },
     "execution_count": 20,
     "metadata": {},
     "output_type": "execute_result"
    }
   ],
   "source": [
    "d2"
   ]
  },
  {
   "cell_type": "code",
   "execution_count": 21,
   "id": "338953a2",
   "metadata": {},
   "outputs": [
    {
     "data": {
      "text/plain": [
       "dict_keys(['tuple', 'list', 'set', 'dict', (2, 3)])"
      ]
     },
     "execution_count": 21,
     "metadata": {},
     "output_type": "execute_result"
    }
   ],
   "source": [
    "d2.keys()"
   ]
  },
  {
   "cell_type": "code",
   "execution_count": 22,
   "id": "277b4507",
   "metadata": {},
   "outputs": [
    {
     "data": {
      "text/plain": [
       "dict_items([('tuple', (2, 3)), ('list', [34, 4]), ('set', {34, 54}), ('dict', {'name': 'Ar'}), ((2, 3), 122)])"
      ]
     },
     "execution_count": 22,
     "metadata": {},
     "output_type": "execute_result"
    }
   ],
   "source": [
    "d2.items()"
   ]
  },
  {
   "cell_type": "code",
   "execution_count": 24,
   "id": "47cda75b",
   "metadata": {},
   "outputs": [
    {
     "name": "stdout",
     "output_type": "stream",
     "text": [
      "tuple\n",
      "list\n",
      "set\n",
      "dict\n",
      "(2, 3)\n"
     ]
    }
   ],
   "source": [
    "for i in d2.items():\n",
    "    print(i[0])"
   ]
  },
  {
   "cell_type": "code",
   "execution_count": 25,
   "id": "26d17d2c",
   "metadata": {},
   "outputs": [
    {
     "data": {
      "text/plain": [
       "2"
      ]
     },
     "execution_count": 25,
     "metadata": {},
     "output_type": "execute_result"
    }
   ],
   "source": [
    "len(d)"
   ]
  },
  {
   "cell_type": "code",
   "execution_count": 32,
   "id": "154cf933",
   "metadata": {},
   "outputs": [
    {
     "name": "stdout",
     "output_type": "stream",
     "text": [
      "Type any paragraph: ST recently released the FDA903Q single-channel class-D audio amplifier for automotive, thus completing the FDA903 series\n"
     ]
    }
   ],
   "source": [
    "p = input(\"Type any paragraph: \")"
   ]
  },
  {
   "cell_type": "code",
   "execution_count": 34,
   "id": "7945d34d",
   "metadata": {},
   "outputs": [],
   "source": [
    "l = p.split(\" \")"
   ]
  },
  {
   "cell_type": "code",
   "execution_count": 66,
   "id": "e2b98cb7",
   "metadata": {},
   "outputs": [
    {
     "data": {
      "text/plain": [
       "{'FDA903',\n",
       " 'FDA903Q',\n",
       " 'ST',\n",
       " 'amplifier',\n",
       " 'audio',\n",
       " 'automotive,',\n",
       " 'class-D',\n",
       " 'completing',\n",
       " 'for',\n",
       " 'recently',\n",
       " 'released',\n",
       " 'series',\n",
       " 'single-channel',\n",
       " 'the',\n",
       " 'thus'}"
      ]
     },
     "execution_count": 66,
     "metadata": {},
     "output_type": "execute_result"
    }
   ],
   "source": [
    "s = set(l)\n",
    "s"
   ]
  },
  {
   "cell_type": "code",
   "execution_count": 67,
   "id": "1ed6c523",
   "metadata": {},
   "outputs": [
    {
     "data": {
      "text/plain": [
       "['single-channel',\n",
       " 'completing',\n",
       " 'series',\n",
       " 'amplifier',\n",
       " 'class-D',\n",
       " 'FDA903',\n",
       " 'the',\n",
       " 'automotive,',\n",
       " 'FDA903Q',\n",
       " 'audio',\n",
       " 'released',\n",
       " 'thus',\n",
       " 'ST',\n",
       " 'for',\n",
       " 'recently']"
      ]
     },
     "execution_count": 67,
     "metadata": {},
     "output_type": "execute_result"
    }
   ],
   "source": [
    "l = list(s)\n",
    "l"
   ]
  },
  {
   "cell_type": "code",
   "execution_count": 64,
   "id": "440b9689",
   "metadata": {},
   "outputs": [
    {
     "data": {
      "text/plain": [
       "{'single-channel': 'as',\n",
       " 'completing': 'as',\n",
       " 'series': 'as',\n",
       " 'amplifier': 'as',\n",
       " 'class-D': 'as',\n",
       " 'FDA903': 'as',\n",
       " 'the': 'as',\n",
       " 'automotive,': 'as',\n",
       " 'FDA903Q': 'as',\n",
       " 'audio': 'as',\n",
       " 'released': 'as',\n",
       " 'thus': 'as',\n",
       " 'ST': 'as',\n",
       " 'for': 'as',\n",
       " 'recently': 'as'}"
      ]
     },
     "execution_count": 64,
     "metadata": {},
     "output_type": "execute_result"
    }
   ],
   "source": [
    "dict.fromkeys(s,\"as\")"
   ]
  },
  {
   "cell_type": "code",
   "execution_count": 65,
   "id": "db027441",
   "metadata": {},
   "outputs": [
    {
     "data": {
      "text/plain": [
       "{'single-channel': 'as',\n",
       " 'completing': 'as',\n",
       " 'series': 'as',\n",
       " 'amplifier': 'as',\n",
       " 'class-D': 'as',\n",
       " 'FDA903': 'as',\n",
       " 'the': 'as',\n",
       " 'automotive,': 'as',\n",
       " 'FDA903Q': 'as',\n",
       " 'audio': 'as',\n",
       " 'released': 'as',\n",
       " 'thus': 'as',\n",
       " 'ST': 'as',\n",
       " 'for': 'as',\n",
       " 'recently': 'as'}"
      ]
     },
     "execution_count": 65,
     "metadata": {},
     "output_type": "execute_result"
    }
   ],
   "source": [
    "dict.fromkeys(l,\"as\")"
   ]
  },
  {
   "cell_type": "code",
   "execution_count": 45,
   "id": "f1f37348",
   "metadata": {},
   "outputs": [
    {
     "name": "stdout",
     "output_type": "stream",
     "text": [
      "{'single-channel': 'Arslan', 'completing': 'Arslan', 'series': 'Arslan', 'amplifier': 'Arslan', 'class-D': 'Arslan', 'FDA903': 'Arslan', 'the': 'Arslan', 'automotive,': 'Arslan', 'FDA903Q': 'Arslan', 'audio': 'Arslan', 'released': 'Arslan', 'thus': 'Arslan', 'ST': 'Arslan', 'for': 'Arslan', 'recently': 'Arslan'}\n"
     ]
    }
   ],
   "source": [
    "dic = {}\n",
    "for i in l:\n",
    "    dic[i]=\"Arslan\"\n",
    "print(dic)"
   ]
  },
  {
   "cell_type": "code",
   "execution_count": 57,
   "id": "767b6b47",
   "metadata": {},
   "outputs": [
    {
     "data": {
      "text/plain": [
       "dict_items([('single-channel', 'Arslan'), ('completing', 'Arslan'), ('series', 'Arslan'), ('amplifier', 'Arslan'), ('class-D', 'Arslan'), ('FDA903', 'Arslan'), ('the', 'Arslan'), ('automotive,', 'Arslan'), ('FDA903Q', 'Arslan'), ('audio', 'Arslan'), ('released', 'Arslan'), ('thus', 'Arslan'), ('ST', 'Arslan'), ('for', 'Arslan'), ('recently', 'Arslan')])"
      ]
     },
     "execution_count": 57,
     "metadata": {},
     "output_type": "execute_result"
    }
   ],
   "source": [
    "dic.items()"
   ]
  },
  {
   "cell_type": "code",
   "execution_count": 58,
   "id": "9abd8278",
   "metadata": {},
   "outputs": [
    {
     "data": {
      "text/plain": [
       "('single-channel',\n",
       " 'completing',\n",
       " 'series',\n",
       " 'amplifier',\n",
       " 'class-D',\n",
       " 'FDA903',\n",
       " 'the',\n",
       " 'automotive,',\n",
       " 'FDA903Q',\n",
       " 'audio',\n",
       " 'released',\n",
       " 'thus',\n",
       " 'ST',\n",
       " 'for',\n",
       " 'recently')"
      ]
     },
     "execution_count": 58,
     "metadata": {},
     "output_type": "execute_result"
    }
   ],
   "source": [
    "tuple(dic.keys())"
   ]
  },
  {
   "cell_type": "code",
   "execution_count": 59,
   "id": "76863679",
   "metadata": {},
   "outputs": [
    {
     "data": {
      "text/plain": [
       "['Arslan',\n",
       " 'Arslan',\n",
       " 'Arslan',\n",
       " 'Arslan',\n",
       " 'Arslan',\n",
       " 'Arslan',\n",
       " 'Arslan',\n",
       " 'Arslan',\n",
       " 'Arslan',\n",
       " 'Arslan',\n",
       " 'Arslan',\n",
       " 'Arslan',\n",
       " 'Arslan',\n",
       " 'Arslan',\n",
       " 'Arslan']"
      ]
     },
     "execution_count": 59,
     "metadata": {},
     "output_type": "execute_result"
    }
   ],
   "source": [
    "list(dic.values())"
   ]
  },
  {
   "cell_type": "code",
   "execution_count": 68,
   "id": "7fd4d1ee",
   "metadata": {},
   "outputs": [],
   "source": [
    "d = {\"eduction\":\"icodeguru\" , \"course\":\"problem_solving\", \"year\":2022}"
   ]
  },
  {
   "cell_type": "code",
   "execution_count": 70,
   "id": "595dcc5e",
   "metadata": {},
   "outputs": [
    {
     "name": "stdout",
     "output_type": "stream",
     "text": [
      "Dict :   eduction ; Value :   icodeguru\n",
      "Dict :   course ; Value :   problem_solving\n",
      "Dict :   year ; Value :   2022\n"
     ]
    }
   ],
   "source": [
    "for i in d:\n",
    "    print(\"Dict :  \",i,\";\",\"Value :  \",d[i])"
   ]
  },
  {
   "cell_type": "code",
   "execution_count": 71,
   "id": "dc13c132",
   "metadata": {},
   "outputs": [
    {
     "data": {
      "text/plain": [
       "True"
      ]
     },
     "execution_count": 71,
     "metadata": {},
     "output_type": "execute_result"
    }
   ],
   "source": [
    "'course' in d"
   ]
  },
  {
   "cell_type": "code",
   "execution_count": 72,
   "id": "29589255",
   "metadata": {},
   "outputs": [],
   "source": [
    "for i in d:\n",
    "    if i == \"year\":\n",
    "        if d[i]>2022:\n",
    "            print(\"fine\")\n",
    "        else:\n",
    "            d[i]= 2023"
   ]
  },
  {
   "cell_type": "code",
   "execution_count": 73,
   "id": "590415d7",
   "metadata": {},
   "outputs": [
    {
     "data": {
      "text/plain": [
       "{'eduction': 'icodeguru', 'course': 'problem_solving', 'year': 2023}"
      ]
     },
     "execution_count": 73,
     "metadata": {},
     "output_type": "execute_result"
    }
   ],
   "source": [
    "d"
   ]
  },
  {
   "cell_type": "code",
   "execution_count": 74,
   "id": "9dce262a",
   "metadata": {},
   "outputs": [
    {
     "name": "stdout",
     "output_type": "stream",
     "text": [
      "fine\n"
     ]
    }
   ],
   "source": [
    "for i in d:\n",
    "    if i == \"year\":\n",
    "        if d[i]>2022:\n",
    "            print(\"fine\")\n",
    "        else:\n",
    "            d[i]= 2023"
   ]
  },
  {
   "cell_type": "code",
   "execution_count": 1,
   "id": "cb467a67",
   "metadata": {},
   "outputs": [],
   "source": [
    "#Dictionary comprehension\n",
    "my_dict ={}\n",
    "for i in range (10):\n",
    "    my_dict[i]= i*i"
   ]
  },
  {
   "cell_type": "code",
   "execution_count": 2,
   "id": "7980903a",
   "metadata": {},
   "outputs": [
    {
     "data": {
      "text/plain": [
       "{0: 0, 1: 1, 2: 4, 3: 9, 4: 16, 5: 25, 6: 36, 7: 49, 8: 64, 9: 81}"
      ]
     },
     "execution_count": 2,
     "metadata": {},
     "output_type": "execute_result"
    }
   ],
   "source": [
    "my_dict"
   ]
  },
  {
   "cell_type": "code",
   "execution_count": 3,
   "id": "0dd737fb",
   "metadata": {},
   "outputs": [
    {
     "data": {
      "text/plain": [
       "{0: 0, 1: 1, 2: 4, 3: 9, 4: 16, 5: 25, 6: 36, 7: 49, 8: 64, 9: 81}"
      ]
     },
     "execution_count": 3,
     "metadata": {},
     "output_type": "execute_result"
    }
   ],
   "source": [
    "{i:i*i for i in range(10)}"
   ]
  },
  {
   "cell_type": "code",
   "execution_count": 4,
   "id": "3020184f",
   "metadata": {},
   "outputs": [
    {
     "data": {
      "text/plain": [
       "{0: 0, 3: 9, 6: 36, 9: 81}"
      ]
     },
     "execution_count": 4,
     "metadata": {},
     "output_type": "execute_result"
    }
   ],
   "source": [
    "{i:i*i for i in range(0,10,3)}"
   ]
  },
  {
   "cell_type": "code",
   "execution_count": 3,
   "id": "21e1a8fd",
   "metadata": {},
   "outputs": [],
   "source": [
    "#Function\n",
    "def test(a,b):\n",
    "    pass"
   ]
  },
  {
   "cell_type": "code",
   "execution_count": 4,
   "id": "99f10c02",
   "metadata": {},
   "outputs": [],
   "source": [
    "test(12,34)"
   ]
  },
  {
   "cell_type": "code",
   "execution_count": 6,
   "id": "5c29ee91",
   "metadata": {},
   "outputs": [],
   "source": [
    "def add_func(a,b):\n",
    "    print(a+b)"
   ]
  },
  {
   "cell_type": "code",
   "execution_count": 7,
   "id": "b0172504",
   "metadata": {},
   "outputs": [
    {
     "name": "stdout",
     "output_type": "stream",
     "text": [
      "4\n"
     ]
    }
   ],
   "source": [
    "add_func(1,3)"
   ]
  },
  {
   "cell_type": "code",
   "execution_count": 8,
   "id": "a4cd2a1d",
   "metadata": {},
   "outputs": [
    {
     "name": "stdout",
     "output_type": "stream",
     "text": [
      "46\n"
     ]
    }
   ],
   "source": [
    "add_func(12,34)"
   ]
  },
  {
   "cell_type": "code",
   "execution_count": 20,
   "id": "61aff3df",
   "metadata": {},
   "outputs": [],
   "source": [
    "def test1(x,y):        \n",
    "    return x*y\n",
    "#print function give you nontype but return give you exact(int float boolean) data type"
   ]
  },
  {
   "cell_type": "code",
   "execution_count": 17,
   "id": "fb36484f",
   "metadata": {},
   "outputs": [
    {
     "data": {
      "text/plain": [
       "6"
      ]
     },
     "execution_count": 17,
     "metadata": {},
     "output_type": "execute_result"
    }
   ],
   "source": [
    "test1(2,3)"
   ]
  },
  {
   "cell_type": "code",
   "execution_count": 18,
   "id": "84f31df6",
   "metadata": {},
   "outputs": [
    {
     "data": {
      "text/plain": [
       "NoneType"
      ]
     },
     "execution_count": 18,
     "metadata": {},
     "output_type": "execute_result"
    }
   ],
   "source": [
    "type(test(1,23))"
   ]
  },
  {
   "cell_type": "code",
   "execution_count": 19,
   "id": "3bcb5aff",
   "metadata": {},
   "outputs": [
    {
     "data": {
      "text/plain": [
       "int"
      ]
     },
     "execution_count": 19,
     "metadata": {},
     "output_type": "execute_result"
    }
   ],
   "source": [
    "type(test1(2,3))"
   ]
  },
  {
   "cell_type": "code",
   "execution_count": 22,
   "id": "39c0e939",
   "metadata": {},
   "outputs": [],
   "source": [
    "def test2(a,b,c):\n",
    "    return a+b"
   ]
  },
  {
   "cell_type": "code",
   "execution_count": 24,
   "id": "e179a871",
   "metadata": {},
   "outputs": [
    {
     "data": {
      "text/plain": [
       "5"
      ]
     },
     "execution_count": 24,
     "metadata": {},
     "output_type": "execute_result"
    }
   ],
   "source": [
    "test2(2,3,3)"
   ]
  },
  {
   "cell_type": "code",
   "execution_count": 31,
   "id": "b74dda37",
   "metadata": {},
   "outputs": [],
   "source": [
    "def test3(a,b):              #multipule returns\n",
    "    return a*23,b+23 ,b*23"
   ]
  },
  {
   "cell_type": "code",
   "execution_count": 32,
   "id": "4e5c7449",
   "metadata": {},
   "outputs": [
    {
     "data": {
      "text/plain": [
       "(46, 26, 69)"
      ]
     },
     "execution_count": 32,
     "metadata": {},
     "output_type": "execute_result"
    }
   ],
   "source": [
    "test3(2,3)"
   ]
  },
  {
   "cell_type": "code",
   "execution_count": 33,
   "id": "53f7dfa4",
   "metadata": {},
   "outputs": [
    {
     "data": {
      "text/plain": [
       "tuple"
      ]
     },
     "execution_count": 33,
     "metadata": {},
     "output_type": "execute_result"
    }
   ],
   "source": [
    "type(test3(2,3))"
   ]
  },
  {
   "cell_type": "code",
   "execution_count": 36,
   "id": "18c1afcf",
   "metadata": {},
   "outputs": [],
   "source": [
    "c,x,v= test3(2,3)"
   ]
  },
  {
   "cell_type": "code",
   "execution_count": 37,
   "id": "a0ac0c4c",
   "metadata": {},
   "outputs": [
    {
     "data": {
      "text/plain": [
       "46"
      ]
     },
     "execution_count": 37,
     "metadata": {},
     "output_type": "execute_result"
    }
   ],
   "source": [
    "c"
   ]
  },
  {
   "cell_type": "code",
   "execution_count": 38,
   "id": "c486862a",
   "metadata": {},
   "outputs": [
    {
     "data": {
      "text/plain": [
       "26"
      ]
     },
     "execution_count": 38,
     "metadata": {},
     "output_type": "execute_result"
    }
   ],
   "source": [
    "x"
   ]
  },
  {
   "cell_type": "code",
   "execution_count": 39,
   "id": "7493f9f8",
   "metadata": {},
   "outputs": [
    {
     "data": {
      "text/plain": [
       "69"
      ]
     },
     "execution_count": 39,
     "metadata": {},
     "output_type": "execute_result"
    }
   ],
   "source": [
    "v"
   ]
  },
  {
   "cell_type": "code",
   "execution_count": 40,
   "id": "a61e50fd",
   "metadata": {},
   "outputs": [],
   "source": [
    "c,_,x = test3(2,3)"
   ]
  },
  {
   "cell_type": "code",
   "execution_count": 41,
   "id": "36662ae7",
   "metadata": {},
   "outputs": [
    {
     "data": {
      "text/plain": [
       "46"
      ]
     },
     "execution_count": 41,
     "metadata": {},
     "output_type": "execute_result"
    }
   ],
   "source": [
    "c"
   ]
  },
  {
   "cell_type": "code",
   "execution_count": 42,
   "id": "eaebed4f",
   "metadata": {},
   "outputs": [
    {
     "data": {
      "text/plain": [
       "26"
      ]
     },
     "execution_count": 42,
     "metadata": {},
     "output_type": "execute_result"
    }
   ],
   "source": [
    "_"
   ]
  },
  {
   "cell_type": "code",
   "execution_count": 43,
   "id": "ebaa0d6d",
   "metadata": {},
   "outputs": [
    {
     "data": {
      "text/plain": [
       "69"
      ]
     },
     "execution_count": 43,
     "metadata": {},
     "output_type": "execute_result"
    }
   ],
   "source": [
    "x"
   ]
  },
  {
   "cell_type": "code",
   "execution_count": 47,
   "id": "7cd05c74",
   "metadata": {},
   "outputs": [],
   "source": [
    "def test4(n):\n",
    "    return n*2"
   ]
  },
  {
   "cell_type": "code",
   "execution_count": 49,
   "id": "8ef0986d",
   "metadata": {},
   "outputs": [
    {
     "data": {
      "text/plain": [
       "[34, 5, 6, 34, 5, 6]"
      ]
     },
     "execution_count": 49,
     "metadata": {},
     "output_type": "execute_result"
    }
   ],
   "source": [
    "test4([34,5,6])"
   ]
  },
  {
   "cell_type": "code",
   "execution_count": 50,
   "id": "400e5e26",
   "metadata": {},
   "outputs": [],
   "source": [
    "def test5(n , m = 90):\n",
    "    return n+m"
   ]
  },
  {
   "cell_type": "code",
   "execution_count": 51,
   "id": "2ef53832",
   "metadata": {},
   "outputs": [
    {
     "data": {
      "text/plain": [
       "93"
      ]
     },
     "execution_count": 51,
     "metadata": {},
     "output_type": "execute_result"
    }
   ],
   "source": [
    "test5(3)"
   ]
  },
  {
   "cell_type": "code",
   "execution_count": 52,
   "id": "76ce574b",
   "metadata": {},
   "outputs": [
    {
     "data": {
      "text/plain": [
       "11"
      ]
     },
     "execution_count": 52,
     "metadata": {},
     "output_type": "execute_result"
    }
   ],
   "source": [
    "test5(5,6)"
   ]
  },
  {
   "cell_type": "code",
   "execution_count": 54,
   "id": "640b6d2d",
   "metadata": {},
   "outputs": [],
   "source": [
    "def boolx(x = True,y = False):\n",
    "    return x+y"
   ]
  },
  {
   "cell_type": "code",
   "execution_count": 56,
   "id": "52ea0412",
   "metadata": {},
   "outputs": [
    {
     "data": {
      "text/plain": [
       "1"
      ]
     },
     "execution_count": 56,
     "metadata": {},
     "output_type": "execute_result"
    }
   ],
   "source": [
    "boolx()"
   ]
  },
  {
   "cell_type": "code",
   "execution_count": 57,
   "id": "3122521c",
   "metadata": {},
   "outputs": [
    {
     "data": {
      "text/plain": [
       "27"
      ]
     },
     "execution_count": 57,
     "metadata": {},
     "output_type": "execute_result"
    }
   ],
   "source": [
    "boolx(23,4)"
   ]
  },
  {
   "cell_type": "code",
   "execution_count": 59,
   "id": "9f445c2a",
   "metadata": {},
   "outputs": [
    {
     "data": {
      "text/plain": [
       "int"
      ]
     },
     "execution_count": 59,
     "metadata": {},
     "output_type": "execute_result"
    }
   ],
   "source": [
    "type(boolx(False,3))"
   ]
  },
  {
   "cell_type": "code",
   "execution_count": 60,
   "id": "5626a71a",
   "metadata": {},
   "outputs": [],
   "source": [
    "def travel(bike = True , car = False):\n",
    "    plan_travel = bike or car\n",
    "    return bike , car , plan_travel"
   ]
  },
  {
   "cell_type": "code",
   "execution_count": 61,
   "id": "595d46f8",
   "metadata": {},
   "outputs": [
    {
     "data": {
      "text/plain": [
       "(True, False, True)"
      ]
     },
     "execution_count": 61,
     "metadata": {},
     "output_type": "execute_result"
    }
   ],
   "source": [
    "travel()"
   ]
  },
  {
   "cell_type": "code",
   "execution_count": 62,
   "id": "8cec37d2",
   "metadata": {},
   "outputs": [
    {
     "data": {
      "text/plain": [
       "(True, False, True)"
      ]
     },
     "execution_count": 62,
     "metadata": {},
     "output_type": "execute_result"
    }
   ],
   "source": [
    "travel(True)"
   ]
  },
  {
   "cell_type": "code",
   "execution_count": 63,
   "id": "2701978d",
   "metadata": {},
   "outputs": [
    {
     "data": {
      "text/plain": [
       "(True, True, True)"
      ]
     },
     "execution_count": 63,
     "metadata": {},
     "output_type": "execute_result"
    }
   ],
   "source": [
    "travel(car = True)"
   ]
  },
  {
   "cell_type": "code",
   "execution_count": 114,
   "id": "96dce6fe",
   "metadata": {},
   "outputs": [],
   "source": [
    "def test6(*args):    # * used for take any number of arguments and output is tuple like above\n",
    "    return args"
   ]
  },
  {
   "cell_type": "code",
   "execution_count": 68,
   "id": "4ab90b70",
   "metadata": {},
   "outputs": [
    {
     "data": {
      "text/plain": [
       "()"
      ]
     },
     "execution_count": 68,
     "metadata": {},
     "output_type": "execute_result"
    }
   ],
   "source": [
    "test6()"
   ]
  },
  {
   "cell_type": "code",
   "execution_count": 69,
   "id": "7f9c14b2",
   "metadata": {},
   "outputs": [
    {
     "data": {
      "text/plain": [
       "('ahmed', 'hassan', [23, 3, 54], {3, 45})"
      ]
     },
     "execution_count": 69,
     "metadata": {},
     "output_type": "execute_result"
    }
   ],
   "source": [
    "test6(\"ahmed\",\"hassan\",[23,3,54],{3,45})"
   ]
  },
  {
   "cell_type": "code",
   "execution_count": 106,
   "id": "2ed000e9",
   "metadata": {},
   "outputs": [],
   "source": [
    "def test7(*a):\n",
    "    l = []\n",
    "    for i in a:\n",
    "        if type(i)==list:\n",
    "            l.extend(i)\n",
    "    return l"
   ]
  },
  {
   "cell_type": "code",
   "execution_count": 107,
   "id": "4a912de1",
   "metadata": {},
   "outputs": [
    {
     "data": {
      "text/plain": [
       "[3, 4, 5, 6, 6, 354, 654, 344, 567]"
      ]
     },
     "execution_count": 107,
     "metadata": {},
     "output_type": "execute_result"
    }
   ],
   "source": [
    "test7([3,4,5,6,6],[354,654],[344,567])"
   ]
  },
  {
   "cell_type": "code",
   "execution_count": 108,
   "id": "80692c68",
   "metadata": {},
   "outputs": [],
   "source": [
    "def test8(**kwa):   # ** used for take any number of argument and output is dictionary\n",
    "    return kwa"
   ]
  },
  {
   "cell_type": "code",
   "execution_count": 113,
   "id": "e4dcb2fd",
   "metadata": {},
   "outputs": [
    {
     "data": {
      "text/plain": [
       "{'a': 5}"
      ]
     },
     "execution_count": 113,
     "metadata": {},
     "output_type": "execute_result"
    }
   ],
   "source": [
    "test8(a = 5)"
   ]
  },
  {
   "cell_type": "code",
   "execution_count": 117,
   "id": "f78a6b56",
   "metadata": {},
   "outputs": [
    {
     "data": {
      "text/plain": [
       "{'a': 8, 'b': 'as', 'c': [23, 4], 'd': {4: 34}}"
      ]
     },
     "execution_count": 117,
     "metadata": {},
     "output_type": "execute_result"
    }
   ],
   "source": [
    "test8(a = 8,b = \"as\",c = [23,4],d = {4:34})"
   ]
  },
  {
   "cell_type": "code",
   "execution_count": 123,
   "id": "cd84becb",
   "metadata": {},
   "outputs": [],
   "source": [
    "def test9(*a,**kwa):\n",
    "        l= [i for i in a]\n",
    "        d= [i[1] for i in kwa.items() if i[1]==list]\n",
    "        return l,d"
   ]
  },
  {
   "cell_type": "code",
   "execution_count": 15,
   "id": "eb7c84e1",
   "metadata": {},
   "outputs": [],
   "source": [
    "def test11(**kwa):\n",
    "    for i in kwa.values():\n",
    "        if type(i) == list:\n",
    "            \"arslan\" or \"Arslan\" in i \n",
    "            print(\"i am find your name: \")\n",
    "            print(i)\n",
    "    "
   ]
  },
  {
   "cell_type": "code",
   "execution_count": 16,
   "id": "359c6b8d",
   "metadata": {},
   "outputs": [
    {
     "name": "stdout",
     "output_type": "stream",
     "text": [
      "i am find your name: \n",
      "['arslan', 'Arslan']\n"
     ]
    }
   ],
   "source": [
    "test11(a='arslan',b=[\"arslan\",\"Arslan\"])"
   ]
  },
  {
   "cell_type": "code",
   "execution_count": 5,
   "id": "3f2157c4",
   "metadata": {},
   "outputs": [],
   "source": [
    "d = {\"arslan\":235,\"a\":122,23:\"abrar\"}"
   ]
  },
  {
   "cell_type": "code",
   "execution_count": 14,
   "id": "851c51e0",
   "metadata": {},
   "outputs": [
    {
     "name": "stdout",
     "output_type": "stream",
     "text": [
      "235\n",
      "122\n",
      "abrar\n"
     ]
    }
   ],
   "source": [
    "for i in d.items():\n",
    "    print(i[1])"
   ]
  },
  {
   "cell_type": "code",
   "execution_count": 4,
   "id": "75decbc3",
   "metadata": {},
   "outputs": [],
   "source": [
    "def func(*a):\n",
    "    dt = {}\n",
    "    for i in a:\n",
    "        if type(i) in dt:\n",
    "            dt[type(i)].append(i)\n",
    "        else:\n",
    "            dt[type(i)] = [i]\n",
    "    return dt\n",
    "    "
   ]
  },
  {
   "cell_type": "code",
   "execution_count": 5,
   "id": "5397c755",
   "metadata": {},
   "outputs": [
    {
     "data": {
      "text/plain": [
       "{str: ['a', 'Arslan'],\n",
       " list: [[12, 34]],\n",
       " dict: [{2: 23, 'a': 234}],\n",
       " set: [{2, 34}],\n",
       " int: [23],\n",
       " complex: [(2+1j)]}"
      ]
     },
     "execution_count": 5,
     "metadata": {},
     "output_type": "execute_result"
    }
   ],
   "source": [
    "func(\"a\",[12,34],\"Arslan\",{2:23,\"a\":234},{2,34},23,2+1j)"
   ]
  },
  {
   "cell_type": "code",
   "execution_count": 17,
   "id": "55076165",
   "metadata": {},
   "outputs": [],
   "source": [
    "def func1(**kwa):\n",
    "    print(\"This is my args element  :\" , kwa.items())"
   ]
  },
  {
   "cell_type": "code",
   "execution_count": 18,
   "id": "3babeaa0",
   "metadata": {},
   "outputs": [
    {
     "name": "stdout",
     "output_type": "stream",
     "text": [
      "This is my args element  : dict_items([('x', 'asfgasa')])\n"
     ]
    }
   ],
   "source": [
    "func1(x ='asfgasa')"
   ]
  },
  {
   "cell_type": "code",
   "execution_count": 21,
   "id": "2d238493",
   "metadata": {},
   "outputs": [],
   "source": [
    "def func2(name , mail_id):\n",
    "    con = name + mail_id\n",
    "    return mail_id , name , con"
   ]
  },
  {
   "cell_type": "code",
   "execution_count": 22,
   "id": "a6bce952",
   "metadata": {},
   "outputs": [
    {
     "data": {
      "text/plain": [
       "('icodeguru@gmail.com', 'arslan', 'arslanicodeguru@gmail.com')"
      ]
     },
     "execution_count": 22,
     "metadata": {},
     "output_type": "execute_result"
    }
   ],
   "source": [
    "func2(\"arslan\",\"icodeguru@gmail.com\")"
   ]
  },
  {
   "cell_type": "code",
   "execution_count": 23,
   "id": "956062f1",
   "metadata": {},
   "outputs": [],
   "source": [
    "a = 29\n",
    "b = 23\n",
    "def test(x,y):\n",
    "    return x + y"
   ]
  },
  {
   "cell_type": "code",
   "execution_count": 24,
   "id": "5731041b",
   "metadata": {},
   "outputs": [
    {
     "data": {
      "text/plain": [
       "52"
      ]
     },
     "execution_count": 24,
     "metadata": {},
     "output_type": "execute_result"
    }
   ],
   "source": [
    "test(a,b)"
   ]
  },
  {
   "cell_type": "code",
   "execution_count": 25,
   "id": "a38252d5",
   "metadata": {},
   "outputs": [],
   "source": [
    "# lambda keyword (ananomus function(function with out name)) used to creat function without name (use at once where write)\n",
    "# its call with variable , one line function \n",
    "m = lambda x,y : x + y"
   ]
  },
  {
   "cell_type": "code",
   "execution_count": 27,
   "id": "da56d0e7",
   "metadata": {},
   "outputs": [
    {
     "data": {
      "text/plain": [
       "52"
      ]
     },
     "execution_count": 27,
     "metadata": {},
     "output_type": "execute_result"
    }
   ],
   "source": [
    "m(a,b)"
   ]
  },
  {
   "cell_type": "code",
   "execution_count": 28,
   "id": "f86360d3",
   "metadata": {},
   "outputs": [],
   "source": [
    "n = lambda arg1,arg2 : print(arg1,arg2)"
   ]
  },
  {
   "cell_type": "code",
   "execution_count": 29,
   "id": "77a9d485",
   "metadata": {},
   "outputs": [
    {
     "name": "stdout",
     "output_type": "stream",
     "text": [
      "29 23\n"
     ]
    }
   ],
   "source": [
    "n(a,b)"
   ]
  },
  {
   "cell_type": "code",
   "execution_count": 30,
   "id": "2e64fb0b",
   "metadata": {},
   "outputs": [],
   "source": [
    "              # Scope of variable: the varialbe that can be acess anyware is called global var \n",
    "     #the variable that is update or have a scope in specific place or we acess in certain place\n",
    "r = 10      #global\n",
    "def test3(a ,b) : \n",
    "    r = a/b    #local       \n",
    "    return r"
   ]
  },
  {
   "cell_type": "code",
   "execution_count": 32,
   "id": "bd94d9b5",
   "metadata": {},
   "outputs": [
    {
     "data": {
      "text/plain": [
       "10.0"
      ]
     },
     "execution_count": 32,
     "metadata": {},
     "output_type": "execute_result"
    }
   ],
   "source": [
    "test3(100,10)"
   ]
  },
  {
   "cell_type": "code",
   "execution_count": 34,
   "id": "c5ade00e",
   "metadata": {},
   "outputs": [
    {
     "data": {
      "text/plain": [
       "1.0"
      ]
     },
     "execution_count": 34,
     "metadata": {},
     "output_type": "execute_result"
    }
   ],
   "source": [
    "test3(10,10)"
   ]
  },
  {
   "cell_type": "code",
   "execution_count": 4,
   "id": "20258841",
   "metadata": {},
   "outputs": [],
   "source": [
    "#doc string: help to understand what the function do  (defination of function)\n",
    "\n",
    "def test4():\n",
    "    \"\"\"\n",
    "    \n",
    "    this is my test function with the help of this function you will be able to learn basic of fun\n",
    "    \"\"\"\n",
    "    return \"my name is xyz\""
   ]
  },
  {
   "cell_type": "code",
   "execution_count": 5,
   "id": "a9be1a65",
   "metadata": {},
   "outputs": [
    {
     "data": {
      "text/plain": [
       "'my name is xyz'"
      ]
     },
     "execution_count": 5,
     "metadata": {},
     "output_type": "execute_result"
    }
   ],
   "source": [
    "test4()"
   ]
  },
  {
   "cell_type": "code",
   "execution_count": 6,
   "id": "cd6034f8",
   "metadata": {},
   "outputs": [
    {
     "name": "stdout",
     "output_type": "stream",
     "text": [
      "Help on built-in function print in module builtins:\n",
      "\n",
      "print(...)\n",
      "    print(value, ..., sep=' ', end='\\n', file=sys.stdout, flush=False)\n",
      "    \n",
      "    Prints the values to a stream, or to sys.stdout by default.\n",
      "    Optional keyword arguments:\n",
      "    file:  a file-like object (stream); defaults to the current sys.stdout.\n",
      "    sep:   string inserted between values, default a space.\n",
      "    end:   string appended after the last value, default a newline.\n",
      "    flush: whether to forcibly flush the stream.\n",
      "\n"
     ]
    }
   ],
   "source": [
    "help(print)"
   ]
  },
  {
   "cell_type": "code",
   "execution_count": 7,
   "id": "21f2ab9f",
   "metadata": {},
   "outputs": [
    {
     "name": "stdout",
     "output_type": "stream",
     "text": [
      "Help on function test4 in module __main__:\n",
      "\n",
      "test4()\n",
      "    this is my test function with the help of this function you will be able to learn basic of fun\n",
      "\n"
     ]
    }
   ],
   "source": [
    "help(test4)"
   ]
  },
  {
   "cell_type": "code",
   "execution_count": 20,
   "id": "90a76ef1",
   "metadata": {},
   "outputs": [],
   "source": [
    "#iterable:  \n",
    "             #is object that are extract some how [extract able by index]\n",
    "#iterator: \n",
    "     \"\"\" is that give you next next element of iterable object\n",
    "     [iterator is object that remamber what is done last time and what next to do]\n",
    "              \"\"\"\n",
    "#generator:\n",
    "          #\n",
    "            "
   ]
  },
  {
   "cell_type": "code",
   "execution_count": 9,
   "id": "acedcae4",
   "metadata": {},
   "outputs": [],
   "source": [
    "s = \"icodeguru\""
   ]
  },
  {
   "cell_type": "code",
   "execution_count": 13,
   "id": "0e0949ab",
   "metadata": {},
   "outputs": [],
   "source": [
    "s=iter(s)"
   ]
  },
  {
   "cell_type": "code",
   "execution_count": 17,
   "id": "a6c4ddf0",
   "metadata": {},
   "outputs": [
    {
     "data": {
      "text/plain": [
       "'d'"
      ]
     },
     "execution_count": 17,
     "metadata": {},
     "output_type": "execute_result"
    }
   ],
   "source": [
    "next(s)"
   ]
  },
  {
   "cell_type": "code",
   "execution_count": 18,
   "id": "c94c2d22",
   "metadata": {},
   "outputs": [
    {
     "data": {
      "text/plain": [
       "'e'"
      ]
     },
     "execution_count": 18,
     "metadata": {},
     "output_type": "execute_result"
    }
   ],
   "source": [
    "next(s)"
   ]
  },
  {
   "cell_type": "code",
   "execution_count": 23,
   "id": "967fc801",
   "metadata": {},
   "outputs": [
    {
     "data": {
      "text/plain": [
       "'u'"
      ]
     },
     "execution_count": 23,
     "metadata": {},
     "output_type": "execute_result"
    }
   ],
   "source": [
    "next(s)"
   ]
  },
  {
   "cell_type": "code",
   "execution_count": 24,
   "id": "b3fc5aeb",
   "metadata": {},
   "outputs": [
    {
     "name": "stdout",
     "output_type": "stream",
     "text": [
      "i\n",
      "c\n",
      "o\n",
      "d\n",
      "e\n",
      "g\n",
      "u\n",
      "r\n",
      "u\n"
     ]
    }
   ],
   "source": [
    "for i in \"icodeguru\":\n",
    "    print (i)"
   ]
  },
  {
   "cell_type": "code",
   "execution_count": 39,
   "id": "95e6c316",
   "metadata": {},
   "outputs": [],
   "source": [
    "l = [3,4,5,6]"
   ]
  },
  {
   "cell_type": "code",
   "execution_count": 40,
   "id": "3a184f46",
   "metadata": {},
   "outputs": [],
   "source": [
    "l = iter(l)"
   ]
  },
  {
   "cell_type": "code",
   "execution_count": 41,
   "id": "dbf56f95",
   "metadata": {},
   "outputs": [
    {
     "data": {
      "text/plain": [
       "3"
      ]
     },
     "execution_count": 41,
     "metadata": {},
     "output_type": "execute_result"
    }
   ],
   "source": [
    "next(l)"
   ]
  },
  {
   "cell_type": "code",
   "execution_count": 42,
   "id": "d9e61f78",
   "metadata": {},
   "outputs": [],
   "source": [
    "t = (1,2,3,4,5)"
   ]
  },
  {
   "cell_type": "code",
   "execution_count": 45,
   "id": "72e4b8dc",
   "metadata": {},
   "outputs": [],
   "source": [
    "t = iter(t)"
   ]
  },
  {
   "cell_type": "code",
   "execution_count": 46,
   "id": "f9bb14db",
   "metadata": {},
   "outputs": [
    {
     "data": {
      "text/plain": [
       "1"
      ]
     },
     "execution_count": 46,
     "metadata": {},
     "output_type": "execute_result"
    }
   ],
   "source": [
    "next(t)"
   ]
  },
  {
   "cell_type": "code",
   "execution_count": 49,
   "id": "7c37ef9b",
   "metadata": {},
   "outputs": [],
   "source": [
    "def test5(n):\n",
    "    l = []\n",
    "    for i in range (n):\n",
    "        l.append(i**3)\n",
    "    return l"
   ]
  },
  {
   "cell_type": "code",
   "execution_count": 50,
   "id": "2dc60a25",
   "metadata": {},
   "outputs": [
    {
     "data": {
      "text/plain": [
       "[0, 1, 8, 27, 64, 125]"
      ]
     },
     "execution_count": 50,
     "metadata": {},
     "output_type": "execute_result"
    }
   ],
   "source": [
    "test5(6)"
   ]
  },
  {
   "cell_type": "code",
   "execution_count": 1,
   "id": "8823afe2",
   "metadata": {},
   "outputs": [],
   "source": [
    "l = [2,3,34,\"iter\"]"
   ]
  },
  {
   "cell_type": "code",
   "execution_count": 2,
   "id": "34f3b97c",
   "metadata": {},
   "outputs": [],
   "source": [
    "l = iter(l)"
   ]
  },
  {
   "cell_type": "code",
   "execution_count": 6,
   "id": "66acca47",
   "metadata": {},
   "outputs": [
    {
     "data": {
      "text/plain": [
       "'iter'"
      ]
     },
     "execution_count": 6,
     "metadata": {},
     "output_type": "execute_result"
    }
   ],
   "source": [
    "next(l)"
   ]
  },
  {
   "cell_type": "code",
   "execution_count": 9,
   "id": "6fcab41b",
   "metadata": {},
   "outputs": [],
   "source": [
    "def test(n):\n",
    "    l = []\n",
    "    for i in range(n):\n",
    "        l.append(i)\n",
    "    return l"
   ]
  },
  {
   "cell_type": "code",
   "execution_count": 10,
   "id": "1f24875f",
   "metadata": {},
   "outputs": [
    {
     "data": {
      "text/plain": [
       "[0, 1, 2, 3, 4]"
      ]
     },
     "execution_count": 10,
     "metadata": {},
     "output_type": "execute_result"
    }
   ],
   "source": [
    "test(5)"
   ]
  },
  {
   "cell_type": "code",
   "execution_count": 1,
   "id": "acd40280",
   "metadata": {},
   "outputs": [],
   "source": [
    "#Genrater\n",
    "def test1(n):\n",
    "    for i in range(n):\n",
    "        yield i**3"
   ]
  },
  {
   "cell_type": "code",
   "execution_count": 3,
   "id": "d1a3262d",
   "metadata": {},
   "outputs": [],
   "source": [
    "def genfib(n):\n",
    "    a = 1 \n",
    "    b = 1\n",
    "    output = []\n",
    "    for i in range(n):\n",
    "        output.append(a)\n",
    "        a , b = b , a+b\n",
    "    return output"
   ]
  },
  {
   "cell_type": "code",
   "execution_count": 4,
   "id": "30d0eca1",
   "metadata": {},
   "outputs": [
    {
     "data": {
      "text/plain": [
       "[1, 1, 2, 3]"
      ]
     },
     "execution_count": 4,
     "metadata": {},
     "output_type": "execute_result"
    }
   ],
   "source": [
    "genfib(4)"
   ]
  },
  {
   "cell_type": "code",
   "execution_count": 9,
   "id": "08f81abc",
   "metadata": {},
   "outputs": [],
   "source": [
    "def genfib(n):\n",
    "    a = 1 \n",
    "    b = 1\n",
    "    output = []\n",
    "    for i in range(n):\n",
    "        output.append(a)\n",
    "        a , b = b , a+b\n",
    "    yield output"
   ]
  },
  {
   "cell_type": "code",
   "execution_count": 10,
   "id": "888e336f",
   "metadata": {},
   "outputs": [
    {
     "data": {
      "text/plain": [
       "<generator object genfib at 0x00000000053B60B0>"
      ]
     },
     "execution_count": 10,
     "metadata": {},
     "output_type": "execute_result"
    }
   ],
   "source": [
    "genfib(7565445)"
   ]
  },
  {
   "cell_type": "code",
   "execution_count": 12,
   "id": "c0b5a155",
   "metadata": {},
   "outputs": [
    {
     "name": "stdout",
     "output_type": "stream",
     "text": [
      "[1, 1, 2, 3, 5, 8, 13, 21, 34, 55, 89, 144]\n"
     ]
    }
   ],
   "source": [
    "for i in genfib(12):\n",
    "    print(i)"
   ]
  },
  {
   "cell_type": "code",
   "execution_count": 14,
   "id": "e21cd58c",
   "metadata": {},
   "outputs": [],
   "source": [
    "def genfib(n):\n",
    "    a = 1 \n",
    "    b = 1\n",
    "    for i in range(n):\n",
    "        yield a\n",
    "        a , b = b , a+b"
   ]
  },
  {
   "cell_type": "code",
   "execution_count": 15,
   "id": "27a8a2df",
   "metadata": {},
   "outputs": [
    {
     "data": {
      "text/plain": [
       "<generator object genfib at 0x00000000053B6660>"
      ]
     },
     "execution_count": 15,
     "metadata": {},
     "output_type": "execute_result"
    }
   ],
   "source": [
    "genfib(12)"
   ]
  },
  {
   "cell_type": "code",
   "execution_count": 16,
   "id": "bb5d81c6",
   "metadata": {},
   "outputs": [
    {
     "name": "stdout",
     "output_type": "stream",
     "text": [
      "1\n",
      "1\n",
      "2\n",
      "3\n",
      "5\n",
      "8\n",
      "13\n",
      "21\n",
      "34\n",
      "55\n",
      "89\n",
      "144\n"
     ]
    }
   ],
   "source": [
    "for i in genfib(12):\n",
    "    print(i)"
   ]
  },
  {
   "cell_type": "code",
   "execution_count": 47,
   "id": "de06b0a4",
   "metadata": {},
   "outputs": [],
   "source": [
    "# File Handling in core python \n",
    "f = open(\"text.txt\",\"w\")"
   ]
  },
  {
   "cell_type": "code",
   "execution_count": 48,
   "id": "f908559c",
   "metadata": {},
   "outputs": [
    {
     "data": {
      "text/plain": [
       "36"
      ]
     },
     "execution_count": 48,
     "metadata": {},
     "output_type": "execute_result"
    }
   ],
   "source": [
    "f.write(\"dfsalgksdflglsdfgkl dfl;gksdflsdflgk\")"
   ]
  },
  {
   "cell_type": "code",
   "execution_count": 49,
   "id": "f7367683",
   "metadata": {},
   "outputs": [],
   "source": [
    "f.close()"
   ]
  },
  {
   "cell_type": "code",
   "execution_count": 50,
   "id": "4f257013",
   "metadata": {},
   "outputs": [],
   "source": [
    "f = open(\"text.txt\")"
   ]
  },
  {
   "cell_type": "code",
   "execution_count": 51,
   "id": "c25de74b",
   "metadata": {},
   "outputs": [
    {
     "data": {
      "text/plain": [
       "'dfsalgksdflglsdfgkl dfl;gksdflsdflgk'"
      ]
     },
     "execution_count": 51,
     "metadata": {},
     "output_type": "execute_result"
    }
   ],
   "source": [
    "f.read()"
   ]
  },
  {
   "cell_type": "code",
   "execution_count": 52,
   "id": "c3f92728",
   "metadata": {},
   "outputs": [
    {
     "data": {
      "text/plain": [
       "10"
      ]
     },
     "execution_count": 52,
     "metadata": {},
     "output_type": "execute_result"
    }
   ],
   "source": [
    "f.seek(10) # rest courser on ten th place"
   ]
  },
  {
   "cell_type": "code",
   "execution_count": 53,
   "id": "372a05b6",
   "metadata": {},
   "outputs": [
    {
     "data": {
      "text/plain": [
       "'lglsdfgkl dfl;gksdflsdflgk'"
      ]
     },
     "execution_count": 53,
     "metadata": {},
     "output_type": "execute_result"
    }
   ],
   "source": [
    "f.read()"
   ]
  },
  {
   "cell_type": "code",
   "execution_count": 54,
   "id": "cb1611f5",
   "metadata": {},
   "outputs": [
    {
     "data": {
      "text/plain": [
       "0"
      ]
     },
     "execution_count": 54,
     "metadata": {},
     "output_type": "execute_result"
    }
   ],
   "source": [
    "f.seek(0)"
   ]
  },
  {
   "cell_type": "code",
   "execution_count": 55,
   "id": "68ae4262",
   "metadata": {},
   "outputs": [
    {
     "data": {
      "text/plain": [
       "'dfsalgksdflglsdfgkl dfl;gksdflsdflgk'"
      ]
     },
     "execution_count": 55,
     "metadata": {},
     "output_type": "execute_result"
    }
   ],
   "source": [
    "f.read()"
   ]
  },
  {
   "cell_type": "code",
   "execution_count": 56,
   "id": "aacbff9b",
   "metadata": {},
   "outputs": [
    {
     "data": {
      "text/plain": [
       "''"
      ]
     },
     "execution_count": 56,
     "metadata": {},
     "output_type": "execute_result"
    }
   ],
   "source": [
    "f.read()"
   ]
  },
  {
   "cell_type": "code",
   "execution_count": 59,
   "id": "d4b5bfb6",
   "metadata": {},
   "outputs": [],
   "source": [
    "f.close()"
   ]
  },
  {
   "cell_type": "code",
   "execution_count": 63,
   "id": "fe1234e9",
   "metadata": {},
   "outputs": [],
   "source": [
    "f = open(\"text.txt\",\"a\")\n"
   ]
  },
  {
   "cell_type": "code",
   "execution_count": 67,
   "id": "6481f947",
   "metadata": {},
   "outputs": [
    {
     "data": {
      "text/plain": [
       "15"
      ]
     },
     "execution_count": 67,
     "metadata": {},
     "output_type": "execute_result"
    }
   ],
   "source": [
    "f.write(\"\\n af sfasd safd\")"
   ]
  },
  {
   "cell_type": "code",
   "execution_count": 30,
   "id": "9708f291",
   "metadata": {},
   "outputs": [],
   "source": [
    "f = open(\"text.txt\",\"w\")"
   ]
  },
  {
   "cell_type": "code",
   "execution_count": 31,
   "id": "9cbbd17b",
   "metadata": {},
   "outputs": [
    {
     "data": {
      "text/plain": [
       "80"
      ]
     },
     "execution_count": 31,
     "metadata": {},
     "output_type": "execute_result"
    }
   ],
   "source": [
    "f.write(r\"icode guru is best platform to learn any thing about computer science and career\")"
   ]
  },
  {
   "cell_type": "code",
   "execution_count": 32,
   "id": "8dd47f0a",
   "metadata": {},
   "outputs": [],
   "source": [
    "f.close()"
   ]
  },
  {
   "cell_type": "code",
   "execution_count": 33,
   "id": "16af7be0",
   "metadata": {},
   "outputs": [],
   "source": [
    "f = open(\"text.txt\")"
   ]
  },
  {
   "cell_type": "code",
   "execution_count": 34,
   "id": "c97a3456",
   "metadata": {},
   "outputs": [
    {
     "data": {
      "text/plain": [
       "'icode guru is best platform to learn any thing about computer science and career'"
      ]
     },
     "execution_count": 34,
     "metadata": {},
     "output_type": "execute_result"
    }
   ],
   "source": [
    "f.read()"
   ]
  },
  {
   "cell_type": "code",
   "execution_count": 35,
   "id": "9f458768",
   "metadata": {},
   "outputs": [
    {
     "data": {
      "text/plain": [
       "''"
      ]
     },
     "execution_count": 35,
     "metadata": {},
     "output_type": "execute_result"
    }
   ],
   "source": [
    "f.read()"
   ]
  },
  {
   "cell_type": "code",
   "execution_count": 36,
   "id": "57f21492",
   "metadata": {},
   "outputs": [
    {
     "data": {
      "text/plain": [
       "5"
      ]
     },
     "execution_count": 36,
     "metadata": {},
     "output_type": "execute_result"
    }
   ],
   "source": [
    "f.seek(5)"
   ]
  },
  {
   "cell_type": "code",
   "execution_count": 37,
   "id": "e5694284",
   "metadata": {},
   "outputs": [
    {
     "data": {
      "text/plain": [
       "' guru is best platform to learn any thing about computer science and career'"
      ]
     },
     "execution_count": 37,
     "metadata": {},
     "output_type": "execute_result"
    }
   ],
   "source": [
    "f.read()"
   ]
  },
  {
   "cell_type": "code",
   "execution_count": 38,
   "id": "340f91dc",
   "metadata": {},
   "outputs": [
    {
     "data": {
      "text/plain": [
       "''"
      ]
     },
     "execution_count": 38,
     "metadata": {},
     "output_type": "execute_result"
    }
   ],
   "source": [
    "f.read()"
   ]
  },
  {
   "cell_type": "code",
   "execution_count": 39,
   "id": "5d190ab3",
   "metadata": {},
   "outputs": [
    {
     "data": {
      "text/plain": [
       "0"
      ]
     },
     "execution_count": 39,
     "metadata": {},
     "output_type": "execute_result"
    }
   ],
   "source": [
    "f.seek(0)"
   ]
  },
  {
   "cell_type": "code",
   "execution_count": 40,
   "id": "ed2ca1d4",
   "metadata": {},
   "outputs": [
    {
     "data": {
      "text/plain": [
       "'icode guru is best platform to learn any thing about computer science and career'"
      ]
     },
     "execution_count": 40,
     "metadata": {},
     "output_type": "execute_result"
    }
   ],
   "source": [
    "f.read()"
   ]
  },
  {
   "cell_type": "code",
   "execution_count": 41,
   "id": "152e1789",
   "metadata": {},
   "outputs": [],
   "source": [
    "f = open(\"text.txt\",\"r\")"
   ]
  },
  {
   "cell_type": "code",
   "execution_count": 43,
   "id": "f8d6c838",
   "metadata": {},
   "outputs": [
    {
     "data": {
      "text/plain": [
       "'icode guru is best platform to learn any thing about computer science and career'"
      ]
     },
     "execution_count": 43,
     "metadata": {},
     "output_type": "execute_result"
    }
   ],
   "source": [
    "f.read()"
   ]
  },
  {
   "cell_type": "code",
   "execution_count": 44,
   "id": "0809ed1e",
   "metadata": {},
   "outputs": [
    {
     "data": {
      "text/plain": [
       "0"
      ]
     },
     "execution_count": 44,
     "metadata": {},
     "output_type": "execute_result"
    }
   ],
   "source": [
    "f.seek(0)"
   ]
  },
  {
   "cell_type": "code",
   "execution_count": 45,
   "id": "00be3848",
   "metadata": {},
   "outputs": [
    {
     "data": {
      "text/plain": [
       "'icode guru is best platfo'"
      ]
     },
     "execution_count": 45,
     "metadata": {},
     "output_type": "execute_result"
    }
   ],
   "source": [
    "f.read(25)"
   ]
  },
  {
   "cell_type": "code",
   "execution_count": 46,
   "id": "421474a9",
   "metadata": {},
   "outputs": [
    {
     "data": {
      "text/plain": [
       "'rm to'"
      ]
     },
     "execution_count": 46,
     "metadata": {},
     "output_type": "execute_result"
    }
   ],
   "source": [
    "f.read(5)"
   ]
  },
  {
   "cell_type": "code",
   "execution_count": 47,
   "id": "ecc95f4d",
   "metadata": {},
   "outputs": [],
   "source": [
    "f.close()"
   ]
  },
  {
   "cell_type": "code",
   "execution_count": 50,
   "id": "89c92ca7",
   "metadata": {},
   "outputs": [],
   "source": [
    "f = open(\"text.txt\",\"w\")"
   ]
  },
  {
   "cell_type": "code",
   "execution_count": 51,
   "id": "9f41a252",
   "metadata": {},
   "outputs": [
    {
     "data": {
      "text/plain": [
       "80"
      ]
     },
     "execution_count": 51,
     "metadata": {},
     "output_type": "execute_result"
    }
   ],
   "source": [
    "f.write(\"icode guru is best platform to learn any thing about computer science and career\")"
   ]
  },
  {
   "cell_type": "code",
   "execution_count": 52,
   "id": "5ad83822",
   "metadata": {},
   "outputs": [],
   "source": [
    "f.close()"
   ]
  },
  {
   "cell_type": "code",
   "execution_count": 53,
   "id": "b3119d16",
   "metadata": {},
   "outputs": [],
   "source": [
    "f = open(\"text.txt\",\"a\")"
   ]
  },
  {
   "cell_type": "code",
   "execution_count": 54,
   "id": "3235457c",
   "metadata": {},
   "outputs": [
    {
     "data": {
      "text/plain": [
       "41"
      ]
     },
     "execution_count": 54,
     "metadata": {},
     "output_type": "execute_result"
    }
   ],
   "source": [
    "f.write(\". the host of this platform is sir shahid\")"
   ]
  },
  {
   "cell_type": "code",
   "execution_count": 56,
   "id": "19e6d505",
   "metadata": {},
   "outputs": [],
   "source": [
    "f.close()"
   ]
  },
  {
   "cell_type": "code",
   "execution_count": 57,
   "id": "0a379e23",
   "metadata": {},
   "outputs": [],
   "source": [
    "f = open(\"text.txt\")"
   ]
  },
  {
   "cell_type": "code",
   "execution_count": 58,
   "id": "afc1d2de",
   "metadata": {},
   "outputs": [
    {
     "data": {
      "text/plain": [
       "'icode guru is best platform to learn any thing about computer science and career. the host of this platform is sir shahid'"
      ]
     },
     "execution_count": 58,
     "metadata": {},
     "output_type": "execute_result"
    }
   ],
   "source": [
    "f.read()"
   ]
  },
  {
   "cell_type": "code",
   "execution_count": 59,
   "id": "e330e4c1",
   "metadata": {},
   "outputs": [],
   "source": [
    "f.close()"
   ]
  },
  {
   "cell_type": "code",
   "execution_count": 60,
   "id": "3b6320ff",
   "metadata": {},
   "outputs": [],
   "source": [
    "f = open(\"text1.txt\",\"wb\")"
   ]
  },
  {
   "cell_type": "code",
   "execution_count": 62,
   "id": "605a6cf7",
   "metadata": {},
   "outputs": [
    {
     "data": {
      "text/plain": [
       "80"
      ]
     },
     "execution_count": 62,
     "metadata": {},
     "output_type": "execute_result"
    }
   ],
   "source": [
    "f.write(b\"icode guru is best platform to learn any thing about computer science and career\")"
   ]
  },
  {
   "cell_type": "code",
   "execution_count": 63,
   "id": "10b6fecc",
   "metadata": {},
   "outputs": [],
   "source": [
    "f.close()"
   ]
  },
  {
   "cell_type": "code",
   "execution_count": 90,
   "id": "cd153c4b",
   "metadata": {},
   "outputs": [],
   "source": [
    "f = open(\"text1.txt\",\"rb\")"
   ]
  },
  {
   "cell_type": "code",
   "execution_count": 91,
   "id": "7942f8f3",
   "metadata": {},
   "outputs": [
    {
     "data": {
      "text/plain": [
       "b'icode guru is best platform to learn any thing about computer science and career'"
      ]
     },
     "execution_count": 91,
     "metadata": {},
     "output_type": "execute_result"
    }
   ],
   "source": [
    "f.read()"
   ]
  },
  {
   "cell_type": "code",
   "execution_count": 92,
   "id": "a49d6b1e",
   "metadata": {},
   "outputs": [
    {
     "data": {
      "text/plain": [
       "2"
      ]
     },
     "execution_count": 92,
     "metadata": {},
     "output_type": "execute_result"
    }
   ],
   "source": [
    "f.seek(2)"
   ]
  },
  {
   "cell_type": "code",
   "execution_count": 93,
   "id": "d8f59faa",
   "metadata": {},
   "outputs": [
    {
     "data": {
      "text/plain": [
       "b'o'"
      ]
     },
     "execution_count": 93,
     "metadata": {},
     "output_type": "execute_result"
    }
   ],
   "source": [
    "f.read(1)"
   ]
  },
  {
   "cell_type": "code",
   "execution_count": 94,
   "id": "1a02cb1e",
   "metadata": {},
   "outputs": [
    {
     "ename": "OSError",
     "evalue": "[Errno 22] Invalid argument",
     "output_type": "error",
     "traceback": [
      "\u001b[1;31m---------------------------------------------------------------------------\u001b[0m",
      "\u001b[1;31mOSError\u001b[0m                                   Traceback (most recent call last)",
      "\u001b[1;32m<ipython-input-94-4ca72cc4b05b>\u001b[0m in \u001b[0;36m<module>\u001b[1;34m\u001b[0m\n\u001b[1;32m----> 1\u001b[1;33m \u001b[0mf\u001b[0m\u001b[1;33m.\u001b[0m\u001b[0mseek\u001b[0m\u001b[1;33m(\u001b[0m\u001b[1;33m-\u001b[0m\u001b[1;36m7\u001b[0m\u001b[1;33m,\u001b[0m\u001b[1;36m1\u001b[0m\u001b[1;33m)\u001b[0m\u001b[1;33m\u001b[0m\u001b[1;33m\u001b[0m\u001b[0m\n\u001b[0m",
      "\u001b[1;31mOSError\u001b[0m: [Errno 22] Invalid argument"
     ]
    }
   ],
   "source": [
    "f.seek(-7,1)"
   ]
  },
  {
   "cell_type": "code",
   "execution_count": 95,
   "id": "27f02680",
   "metadata": {},
   "outputs": [
    {
     "data": {
      "text/plain": [
       "b'de guru is best platform to learn any thing about computer science and career'"
      ]
     },
     "execution_count": 95,
     "metadata": {},
     "output_type": "execute_result"
    }
   ],
   "source": [
    "f.read()"
   ]
  },
  {
   "cell_type": "code",
   "execution_count": 96,
   "id": "d0ebf656",
   "metadata": {},
   "outputs": [
    {
     "data": {
      "text/plain": [
       "0"
      ]
     },
     "execution_count": 96,
     "metadata": {},
     "output_type": "execute_result"
    }
   ],
   "source": [
    "f.seek(0)"
   ]
  },
  {
   "cell_type": "code",
   "execution_count": 106,
   "id": "41d7d071",
   "metadata": {},
   "outputs": [
    {
     "data": {
      "text/plain": [
       "73"
      ]
     },
     "execution_count": 106,
     "metadata": {},
     "output_type": "execute_result"
    }
   ],
   "source": [
    "f.seek(-7,2)"
   ]
  },
  {
   "cell_type": "code",
   "execution_count": 107,
   "id": "e7ced6a8",
   "metadata": {},
   "outputs": [
    {
     "data": {
      "text/plain": [
       "b' career'"
      ]
     },
     "execution_count": 107,
     "metadata": {},
     "output_type": "execute_result"
    }
   ],
   "source": [
    "f.read()"
   ]
  },
  {
   "cell_type": "code",
   "execution_count": 20,
   "id": "eb4ab9e3",
   "metadata": {},
   "outputs": [],
   "source": [
    "f = open(\"text2.txt\",\"w\")"
   ]
  },
  {
   "cell_type": "code",
   "execution_count": 21,
   "id": "e0105017",
   "metadata": {},
   "outputs": [
    {
     "data": {
      "text/plain": [
       "39"
      ]
     },
     "execution_count": 21,
     "metadata": {},
     "output_type": "execute_result"
    }
   ],
   "source": [
    "f.write(\"ahmed hammad arslan rashid nabeel adeel\")"
   ]
  },
  {
   "cell_type": "code",
   "execution_count": 22,
   "id": "89fa1b0f",
   "metadata": {},
   "outputs": [],
   "source": [
    "f.close()"
   ]
  },
  {
   "cell_type": "code",
   "execution_count": 25,
   "id": "3ad3cf25",
   "metadata": {},
   "outputs": [],
   "source": [
    "f = open(\"text2.txt\" , \"r\")"
   ]
  },
  {
   "cell_type": "code",
   "execution_count": 24,
   "id": "ea6c766b",
   "metadata": {},
   "outputs": [
    {
     "data": {
      "text/plain": [
       "'ahmed hammad arslan rashid nabeel adeel'"
      ]
     },
     "execution_count": 24,
     "metadata": {},
     "output_type": "execute_result"
    }
   ],
   "source": [
    "f.read()"
   ]
  },
  {
   "cell_type": "code",
   "execution_count": 10,
   "id": "90f2f310",
   "metadata": {},
   "outputs": [
    {
     "data": {
      "text/plain": [
       "0"
      ]
     },
     "execution_count": 10,
     "metadata": {},
     "output_type": "execute_result"
    }
   ],
   "source": [
    "f.seek(0)"
   ]
  },
  {
   "cell_type": "code",
   "execution_count": 11,
   "id": "613f6e74",
   "metadata": {},
   "outputs": [
    {
     "data": {
      "text/plain": [
       "'ahmed hammad arslan rashid nabeel adeel\\n'"
      ]
     },
     "execution_count": 11,
     "metadata": {},
     "output_type": "execute_result"
    }
   ],
   "source": [
    "f.readline()"
   ]
  },
  {
   "cell_type": "code",
   "execution_count": 12,
   "id": "d9242235",
   "metadata": {},
   "outputs": [
    {
     "data": {
      "text/plain": [
       "'ajkasas\\n'"
      ]
     },
     "execution_count": 12,
     "metadata": {},
     "output_type": "execute_result"
    }
   ],
   "source": [
    "f.readline()"
   ]
  },
  {
   "cell_type": "code",
   "execution_count": 13,
   "id": "a059fadf",
   "metadata": {},
   "outputs": [
    {
     "data": {
      "text/plain": [
       "'asajksdf\\n'"
      ]
     },
     "execution_count": 13,
     "metadata": {},
     "output_type": "execute_result"
    }
   ],
   "source": [
    "f.readline()"
   ]
  },
  {
   "cell_type": "code",
   "execution_count": 14,
   "id": "e93a46c0",
   "metadata": {},
   "outputs": [
    {
     "data": {
      "text/plain": [
       "'asdffjklasdf\\n'"
      ]
     },
     "execution_count": 14,
     "metadata": {},
     "output_type": "execute_result"
    }
   ],
   "source": [
    "f.readline()"
   ]
  },
  {
   "cell_type": "code",
   "execution_count": 15,
   "id": "a2392dbe",
   "metadata": {},
   "outputs": [
    {
     "data": {
      "text/plain": [
       "'a'"
      ]
     },
     "execution_count": 15,
     "metadata": {},
     "output_type": "execute_result"
    }
   ],
   "source": [
    "f.readline(1)"
   ]
  },
  {
   "cell_type": "code",
   "execution_count": 16,
   "id": "16f07bd1",
   "metadata": {},
   "outputs": [
    {
     "data": {
      "text/plain": [
       "0"
      ]
     },
     "execution_count": 16,
     "metadata": {},
     "output_type": "execute_result"
    }
   ],
   "source": [
    "f.seek(0)"
   ]
  },
  {
   "cell_type": "code",
   "execution_count": 26,
   "id": "7eb7cc1e",
   "metadata": {},
   "outputs": [
    {
     "data": {
      "text/plain": [
       "'a'"
      ]
     },
     "execution_count": 26,
     "metadata": {},
     "output_type": "execute_result"
    }
   ],
   "source": [
    "f.readline(1)"
   ]
  },
  {
   "cell_type": "code",
   "execution_count": 27,
   "id": "a6236bcc",
   "metadata": {},
   "outputs": [
    {
     "data": {
      "text/plain": [
       "'hmed hamm'"
      ]
     },
     "execution_count": 27,
     "metadata": {},
     "output_type": "execute_result"
    }
   ],
   "source": [
    "f.readline(9)"
   ]
  },
  {
   "cell_type": "code",
   "execution_count": 28,
   "id": "9d3cce47",
   "metadata": {},
   "outputs": [],
   "source": [
    "f.close()"
   ]
  },
  {
   "cell_type": "code",
   "execution_count": 39,
   "id": "7cc16c33",
   "metadata": {},
   "outputs": [],
   "source": [
    "f = open(\"text2.txt\",\"r\")"
   ]
  },
  {
   "cell_type": "code",
   "execution_count": 34,
   "id": "6c6bf09a",
   "metadata": {},
   "outputs": [
    {
     "data": {
      "text/plain": [
       "'ahmed hammad arslan rashid nabeel adeel'"
      ]
     },
     "execution_count": 34,
     "metadata": {},
     "output_type": "execute_result"
    }
   ],
   "source": [
    "f.readline()"
   ]
  },
  {
   "cell_type": "code",
   "execution_count": 36,
   "id": "8efe5646",
   "metadata": {},
   "outputs": [
    {
     "data": {
      "text/plain": [
       "''"
      ]
     },
     "execution_count": 36,
     "metadata": {},
     "output_type": "execute_result"
    }
   ],
   "source": [
    "f.readline(6)"
   ]
  },
  {
   "cell_type": "code",
   "execution_count": 37,
   "id": "42139205",
   "metadata": {},
   "outputs": [
    {
     "data": {
      "text/plain": [
       "''"
      ]
     },
     "execution_count": 37,
     "metadata": {},
     "output_type": "execute_result"
    }
   ],
   "source": [
    "f.readline()"
   ]
  },
  {
   "cell_type": "code",
   "execution_count": 40,
   "id": "f3d1f369",
   "metadata": {},
   "outputs": [
    {
     "name": "stdout",
     "output_type": "stream",
     "text": [
      "ahmed hammad arslan rashid nabeel adeel\n"
     ]
    }
   ],
   "source": [
    "for i in f:\n",
    "    print(i)"
   ]
  },
  {
   "cell_type": "code",
   "execution_count": 41,
   "id": "f6134e6f",
   "metadata": {},
   "outputs": [],
   "source": [
    "f.close()"
   ]
  },
  {
   "cell_type": "code",
   "execution_count": 46,
   "id": "9fb87019",
   "metadata": {},
   "outputs": [],
   "source": [
    "f = open(\"text2.txt\",\"r\")"
   ]
  },
  {
   "cell_type": "code",
   "execution_count": 47,
   "id": "4626319d",
   "metadata": {},
   "outputs": [
    {
     "data": {
      "text/plain": [
       "'ahm'"
      ]
     },
     "execution_count": 47,
     "metadata": {},
     "output_type": "execute_result"
    }
   ],
   "source": [
    "f.readline(3)"
   ]
  },
  {
   "cell_type": "code",
   "execution_count": 48,
   "id": "5aac0a39",
   "metadata": {},
   "outputs": [],
   "source": [
    "f.close()"
   ]
  },
  {
   "cell_type": "code",
   "execution_count": 57,
   "id": "a580c033",
   "metadata": {},
   "outputs": [],
   "source": [
    "f = open(\"text2.txt\",\"r\")"
   ]
  },
  {
   "cell_type": "code",
   "execution_count": 58,
   "id": "36616dcd",
   "metadata": {},
   "outputs": [
    {
     "name": "stdout",
     "output_type": "stream",
     "text": [
      "ahmed hammad arslan rashid nabeel adeel \n",
      "\n",
      "alkdsa\n",
      "\n",
      "dklfjasklfjdas\n",
      "\n",
      "asdkl;fjklasdfjasdkl\n",
      "\n",
      "askl;dfjasdkljfasdklfjaksl\n",
      "\n",
      "asdklfjkl;asdklfjaksldfj\n",
      "\n",
      "askdfj\n",
      "\n",
      "kdfjkasldfjk\n",
      "\n"
     ]
    }
   ],
   "source": [
    "for i in f:\n",
    "    print(i)"
   ]
  },
  {
   "cell_type": "code",
   "execution_count": 55,
   "id": "33350d83",
   "metadata": {},
   "outputs": [
    {
     "data": {
      "text/plain": [
       "0"
      ]
     },
     "execution_count": 55,
     "metadata": {},
     "output_type": "execute_result"
    }
   ],
   "source": [
    "f.seek(0)"
   ]
  },
  {
   "cell_type": "code",
   "execution_count": 56,
   "id": "23a09479",
   "metadata": {},
   "outputs": [
    {
     "name": "stdout",
     "output_type": "stream",
     "text": [
      "ahmed hammad arslan rashid nabeel adeel \n",
      " alkdsa\n",
      " dklfjasklfjdas\n",
      " asdkl;fjklasdfjasdkl\n",
      " askl;dfjasdkljfasdklfjaksl\n",
      " asdklfjkl;asdklfjaksldfj\n",
      " askdfj\n",
      " kdfjkasldfjk\n",
      " "
     ]
    }
   ],
   "source": [
    "for i in f:\n",
    "    print(i,end=\" \")"
   ]
  },
  {
   "cell_type": "code",
   "execution_count": 59,
   "id": "3091c0cb",
   "metadata": {},
   "outputs": [],
   "source": [
    "f.close()"
   ]
  },
  {
   "cell_type": "code",
   "execution_count": 66,
   "id": "678a168f",
   "metadata": {},
   "outputs": [],
   "source": [
    "f = open(\"text2.txt\",\"r+\")  # r+ mean read  and write file"
   ]
  },
  {
   "cell_type": "code",
   "execution_count": 68,
   "id": "e927f6d2",
   "metadata": {},
   "outputs": [
    {
     "data": {
      "text/plain": [
       "['ahmed hammad arslan rashid nabeel adeel \\n',\n",
       " 'alkdsa\\n',\n",
       " 'dklfjasklfjdas\\n',\n",
       " 'asdkl;fjklasdfjasdkl\\n',\n",
       " 'askl;dfjasdkljfasdklfjaksl\\n',\n",
       " 'asdklfjkl;asdklfjaksldfj\\n',\n",
       " 'askdfj\\n',\n",
       " 'kdfjkasldfjk\\n']"
      ]
     },
     "execution_count": 68,
     "metadata": {},
     "output_type": "execute_result"
    }
   ],
   "source": [
    "list(f)"
   ]
  },
  {
   "cell_type": "code",
   "execution_count": 69,
   "id": "c231b154",
   "metadata": {},
   "outputs": [
    {
     "data": {
      "text/plain": [
       "18"
      ]
     },
     "execution_count": 69,
     "metadata": {},
     "output_type": "execute_result"
    }
   ],
   "source": [
    "f.write(\"fksdajkfkcvbxcvbzx\")"
   ]
  },
  {
   "cell_type": "code",
   "execution_count": 70,
   "id": "90b51877",
   "metadata": {},
   "outputs": [],
   "source": [
    "f.close()"
   ]
  },
  {
   "cell_type": "code",
   "execution_count": 78,
   "id": "f12fd9ad",
   "metadata": {},
   "outputs": [],
   "source": [
    "f = open(\"text2.txt\",\"r+\")"
   ]
  },
  {
   "cell_type": "code",
   "execution_count": 80,
   "id": "11cc4a4f",
   "metadata": {},
   "outputs": [],
   "source": [
    "f.writelines(\",zxcvm,vmzxcmv\")"
   ]
  },
  {
   "cell_type": "code",
   "execution_count": 81,
   "id": "7fcb3e14",
   "metadata": {},
   "outputs": [],
   "source": [
    "f.close()"
   ]
  },
  {
   "cell_type": "code",
   "execution_count": 79,
   "id": "0ff0eebc",
   "metadata": {},
   "outputs": [
    {
     "data": {
      "text/plain": [
       "345"
      ]
     },
     "execution_count": 79,
     "metadata": {},
     "output_type": "execute_result"
    }
   ],
   "source": [
    "f.seek(345)"
   ]
  },
  {
   "cell_type": "code",
   "execution_count": 86,
   "id": "3576a56d",
   "metadata": {},
   "outputs": [],
   "source": [
    "f = open(\"text2.txt\" , \"r+\")"
   ]
  },
  {
   "cell_type": "code",
   "execution_count": 87,
   "id": "1faf3d69",
   "metadata": {},
   "outputs": [
    {
     "data": {
      "text/plain": [
       "6"
      ]
     },
     "execution_count": 87,
     "metadata": {},
     "output_type": "execute_result"
    }
   ],
   "source": [
    "f.fileno()"
   ]
  },
  {
   "cell_type": "code",
   "execution_count": 88,
   "id": "218deb7b",
   "metadata": {},
   "outputs": [
    {
     "name": "stdout",
     "output_type": "stream",
     "text": [
      "Writing test.txt\n"
     ]
    }
   ],
   "source": [
    "%%writefile test.txt\n",
    "my name is muhammad arslan"
   ]
  },
  {
   "cell_type": "code",
   "execution_count": 89,
   "id": "8f960cf7",
   "metadata": {},
   "outputs": [],
   "source": [
    "import os"
   ]
  },
  {
   "cell_type": "code",
   "execution_count": 90,
   "id": "a2ead57a",
   "metadata": {},
   "outputs": [
    {
     "data": {
      "text/plain": [
       "'C:\\\\Users\\\\Ahmad Hassan'"
      ]
     },
     "execution_count": 90,
     "metadata": {},
     "output_type": "execute_result"
    }
   ],
   "source": [
    "pwd()"
   ]
  },
  {
   "cell_type": "code",
   "execution_count": 91,
   "id": "1a40991a",
   "metadata": {},
   "outputs": [
    {
     "data": {
      "text/plain": [
       "'C:\\\\Users\\\\Ahmad Hassan'"
      ]
     },
     "execution_count": 91,
     "metadata": {},
     "output_type": "execute_result"
    }
   ],
   "source": [
    "os.getcwd()"
   ]
  },
  {
   "cell_type": "code",
   "execution_count": 92,
   "id": "42090288",
   "metadata": {},
   "outputs": [
    {
     "data": {
      "text/plain": [
       "['.bash_history',\n",
       " '.conda',\n",
       " '.condarc',\n",
       " '.continuum',\n",
       " '.gitconfig',\n",
       " '.gnutls',\n",
       " '.ipynb_checkpoints',\n",
       " '.ipython',\n",
       " '.jupyter',\n",
       " '.lesshst',\n",
       " '.matplotlib',\n",
       " '.obs64',\n",
       " '.python_history',\n",
       " '.ssh',\n",
       " '.vscode',\n",
       " 'anaconda3',\n",
       " 'AppData',\n",
       " 'Application Data',\n",
       " 'Contacts',\n",
       " 'Cookies',\n",
       " 'Data science in 40 days course',\n",
       " 'Desktop',\n",
       " 'Documents',\n",
       " 'Downloads',\n",
       " 'Favorites',\n",
       " 'Links',\n",
       " 'Local Settings',\n",
       " 'Music',\n",
       " 'My Documents',\n",
       " 'My-python-notebook.ipynb',\n",
       " 'NetHood',\n",
       " 'ntuser.dat',\n",
       " 'ntuser.dat.LOG1',\n",
       " 'ntuser.dat.LOG2',\n",
       " 'NTUSER.DAT{016888bd-6c6f-11de-8d1d-001e0bcde3ec}.TM.blf',\n",
       " 'NTUSER.DAT{016888bd-6c6f-11de-8d1d-001e0bcde3ec}.TMContainer00000000000000000001.regtrans-ms',\n",
       " 'NTUSER.DAT{016888bd-6c6f-11de-8d1d-001e0bcde3ec}.TMContainer00000000000000000002.regtrans-ms',\n",
       " 'ntuser.dat{389787b5-5819-11ec-8a18-f04da2326993}.TM.blf',\n",
       " 'ntuser.dat{389787b5-5819-11ec-8a18-f04da2326993}.TMContainer00000000000000000001.regtrans-ms',\n",
       " 'ntuser.dat{389787b5-5819-11ec-8a18-f04da2326993}.TMContainer00000000000000000002.regtrans-ms',\n",
       " 'ntuser.dat{c6a68296-7818-11ec-8f04-f04da2326993}.TM.blf',\n",
       " 'ntuser.dat{c6a68296-7818-11ec-8f04-f04da2326993}.TMContainer00000000000000000001.regtrans-ms',\n",
       " 'ntuser.dat{c6a68296-7818-11ec-8f04-f04da2326993}.TMContainer00000000000000000002.regtrans-ms',\n",
       " 'ntuser.ini',\n",
       " 'Pictures',\n",
       " 'PrintHood',\n",
       " 'Recent',\n",
       " 'Saved Games',\n",
       " 'Searches',\n",
       " 'SendTo',\n",
       " 'Start Menu',\n",
       " 'Templates',\n",
       " 'test.txt',\n",
       " 'text.txt',\n",
       " 'text1.txt',\n",
       " 'text2.txt',\n",
       " 'Untitled Folder',\n",
       " 'Untitled.ipynb',\n",
       " 'Untitled1.ipynb',\n",
       " 'Videos']"
      ]
     },
     "execution_count": 92,
     "metadata": {},
     "output_type": "execute_result"
    }
   ],
   "source": [
    "os.listdir()"
   ]
  },
  {
   "cell_type": "code",
   "execution_count": 93,
   "id": "084c4825",
   "metadata": {},
   "outputs": [
    {
     "data": {
      "text/plain": [
       "['Ahmad Hassan',\n",
       " 'All Users',\n",
       " 'Default',\n",
       " 'Default User',\n",
       " 'desktop.ini',\n",
       " 'Public']"
      ]
     },
     "execution_count": 93,
     "metadata": {},
     "output_type": "execute_result"
    }
   ],
   "source": [
    "os.listdir(\"C:\\\\Users\")"
   ]
  },
  {
   "cell_type": "code",
   "execution_count": 94,
   "id": "c61cf99e",
   "metadata": {},
   "outputs": [
    {
     "data": {
      "text/plain": [
       "'C:\\\\Users\\\\Ahmad Hassan'"
      ]
     },
     "execution_count": 94,
     "metadata": {},
     "output_type": "execute_result"
    }
   ],
   "source": [
    "pwd()"
   ]
  },
  {
   "cell_type": "code",
   "execution_count": 95,
   "id": "16fed467",
   "metadata": {},
   "outputs": [
    {
     "data": {
      "text/plain": [
       "'C:\\\\Users\\\\Ahmad Hassan'"
      ]
     },
     "execution_count": 95,
     "metadata": {},
     "output_type": "execute_result"
    }
   ],
   "source": [
    "os.getcwd()"
   ]
  },
  {
   "cell_type": "code",
   "execution_count": 96,
   "id": "e0f90a15",
   "metadata": {},
   "outputs": [],
   "source": [
    "os.chdir(\"C:\\\\Users\")"
   ]
  },
  {
   "cell_type": "code",
   "execution_count": 97,
   "id": "c216bf4f",
   "metadata": {},
   "outputs": [
    {
     "data": {
      "text/plain": [
       "'C:\\\\Users'"
      ]
     },
     "execution_count": 97,
     "metadata": {},
     "output_type": "execute_result"
    }
   ],
   "source": [
    "pwd()"
   ]
  },
  {
   "cell_type": "code",
   "execution_count": 98,
   "id": "a9fcfa44",
   "metadata": {},
   "outputs": [],
   "source": [
    "os.chdir('C:\\\\Users\\\\Ahmad Hassan')"
   ]
  },
  {
   "cell_type": "code",
   "execution_count": 99,
   "id": "b6baa3bd",
   "metadata": {},
   "outputs": [
    {
     "data": {
      "text/plain": [
       "'C:\\\\Users\\\\Ahmad Hassan'"
      ]
     },
     "execution_count": 99,
     "metadata": {},
     "output_type": "execute_result"
    }
   ],
   "source": [
    "os.getcwd()"
   ]
  },
  {
   "cell_type": "code",
   "execution_count": 100,
   "id": "fb35436d",
   "metadata": {},
   "outputs": [],
   "source": [
    "os.mkdir(\"Arslan\")"
   ]
  },
  {
   "cell_type": "code",
   "execution_count": 101,
   "id": "44594543",
   "metadata": {},
   "outputs": [
    {
     "data": {
      "text/plain": [
       "['.bash_history',\n",
       " '.conda',\n",
       " '.condarc',\n",
       " '.continuum',\n",
       " '.gitconfig',\n",
       " '.gnutls',\n",
       " '.ipynb_checkpoints',\n",
       " '.ipython',\n",
       " '.jupyter',\n",
       " '.lesshst',\n",
       " '.matplotlib',\n",
       " '.obs64',\n",
       " '.python_history',\n",
       " '.ssh',\n",
       " '.vscode',\n",
       " 'anaconda3',\n",
       " 'AppData',\n",
       " 'Application Data',\n",
       " 'Arslan',\n",
       " 'Contacts',\n",
       " 'Cookies',\n",
       " 'Data science in 40 days course',\n",
       " 'Desktop',\n",
       " 'Documents',\n",
       " 'Downloads',\n",
       " 'Favorites',\n",
       " 'Links',\n",
       " 'Local Settings',\n",
       " 'Music',\n",
       " 'My Documents',\n",
       " 'My-python-notebook.ipynb',\n",
       " 'NetHood',\n",
       " 'ntuser.dat',\n",
       " 'ntuser.dat.LOG1',\n",
       " 'ntuser.dat.LOG2',\n",
       " 'NTUSER.DAT{016888bd-6c6f-11de-8d1d-001e0bcde3ec}.TM.blf',\n",
       " 'NTUSER.DAT{016888bd-6c6f-11de-8d1d-001e0bcde3ec}.TMContainer00000000000000000001.regtrans-ms',\n",
       " 'NTUSER.DAT{016888bd-6c6f-11de-8d1d-001e0bcde3ec}.TMContainer00000000000000000002.regtrans-ms',\n",
       " 'ntuser.dat{389787b5-5819-11ec-8a18-f04da2326993}.TM.blf',\n",
       " 'ntuser.dat{389787b5-5819-11ec-8a18-f04da2326993}.TMContainer00000000000000000001.regtrans-ms',\n",
       " 'ntuser.dat{389787b5-5819-11ec-8a18-f04da2326993}.TMContainer00000000000000000002.regtrans-ms',\n",
       " 'ntuser.dat{c6a68296-7818-11ec-8f04-f04da2326993}.TM.blf',\n",
       " 'ntuser.dat{c6a68296-7818-11ec-8f04-f04da2326993}.TMContainer00000000000000000001.regtrans-ms',\n",
       " 'ntuser.dat{c6a68296-7818-11ec-8f04-f04da2326993}.TMContainer00000000000000000002.regtrans-ms',\n",
       " 'ntuser.ini',\n",
       " 'Pictures',\n",
       " 'PrintHood',\n",
       " 'Recent',\n",
       " 'Saved Games',\n",
       " 'Searches',\n",
       " 'SendTo',\n",
       " 'Start Menu',\n",
       " 'Templates',\n",
       " 'test.txt',\n",
       " 'text.txt',\n",
       " 'text1.txt',\n",
       " 'text2.txt',\n",
       " 'Untitled Folder',\n",
       " 'Untitled.ipynb',\n",
       " 'Untitled1.ipynb',\n",
       " 'Videos']"
      ]
     },
     "execution_count": 101,
     "metadata": {},
     "output_type": "execute_result"
    }
   ],
   "source": [
    "os.listdir()"
   ]
  },
  {
   "cell_type": "code",
   "execution_count": 103,
   "id": "3ef32750",
   "metadata": {},
   "outputs": [
    {
     "name": "stdout",
     "output_type": "stream",
     "text": [
      "my file is available\n",
      "my name is muhammad arslan\n",
      "\n"
     ]
    }
   ],
   "source": [
    "if \"test.txt\" in os.listdir():\n",
    "    print(\"my file is available\")\n",
    "    f = open(\"test.txt\" , \"r+\")\n",
    "    for i in f:\n",
    "        print(i)\n",
    "else:\n",
    "    print(\"no file\")"
   ]
  },
  {
   "cell_type": "code",
   "execution_count": 116,
   "id": "9c91f3ed",
   "metadata": {},
   "outputs": [],
   "source": [
    "if not os.path.isdir(\"Arslan\"):\n",
    "    os.mkdir(\"Arslan\")"
   ]
  },
  {
   "cell_type": "code",
   "execution_count": 114,
   "id": "f07fe5e2",
   "metadata": {},
   "outputs": [],
   "source": [
    "os.rmdir(\"Arslan\")"
   ]
  },
  {
   "cell_type": "code",
   "execution_count": 119,
   "id": "5028bdad",
   "metadata": {},
   "outputs": [],
   "source": [
    "os.chdir(\"C:\\\\Users\\\\Ahmad Hassan\")"
   ]
  },
  {
   "cell_type": "code",
   "execution_count": 109,
   "id": "0b6e2566",
   "metadata": {},
   "outputs": [],
   "source": [
    "os.mkdir(\"new_dir\")"
   ]
  },
  {
   "cell_type": "code",
   "execution_count": 121,
   "id": "aa63b182",
   "metadata": {},
   "outputs": [
    {
     "data": {
      "text/plain": [
       "'C:\\\\Users\\\\Ahmad Hassan\\\\Arslan\\\\new_dir'"
      ]
     },
     "execution_count": 121,
     "metadata": {},
     "output_type": "execute_result"
    }
   ],
   "source": [
    "import shutil\n",
    "shutil.move(\"C:\\\\Users\\\\Ahmad Hassan\\\\new_dir\" , \"C:\\\\Users\\\\Ahmad Hassan\\\\Arslan\")"
   ]
  },
  {
   "cell_type": "code",
   "execution_count": 122,
   "id": "b09e9d12",
   "metadata": {},
   "outputs": [
    {
     "data": {
      "text/plain": [
       "'C:\\\\Users\\\\Ahmad Hassan'"
      ]
     },
     "execution_count": 122,
     "metadata": {},
     "output_type": "execute_result"
    }
   ],
   "source": [
    "os.getcwd()"
   ]
  },
  {
   "cell_type": "code",
   "execution_count": 2,
   "id": "7aed13a1",
   "metadata": {},
   "outputs": [
    {
     "data": {
      "text/plain": [
       "'how to find problem?? we use logging and debuging process\\n1.DEBUG 2.INFO 3.WARNING 4.ERROR 5.CRITICAL'"
      ]
     },
     "execution_count": 2,
     "metadata": {},
     "output_type": "execute_result"
    }
   ],
   "source": [
    "# Logging and Debuging\n",
    "\"\"\"how to find problem?? we use logging and debuging process\n",
    "1.DEBUG 2.INFO 3.WARNING 4.ERROR 5.CRITICAL 6.EXCEPTION (non-type log)\"\"\""
   ]
  },
  {
   "cell_type": "code",
   "execution_count": 8,
   "id": "95796645",
   "metadata": {},
   "outputs": [],
   "source": [
    "import logging as lg"
   ]
  },
  {
   "cell_type": "code",
   "execution_count": 3,
   "id": "404c4cee",
   "metadata": {},
   "outputs": [
    {
     "data": {
      "text/plain": [
       "'K:\\\\Pc Games\\\\Arslan'"
      ]
     },
     "execution_count": 3,
     "metadata": {},
     "output_type": "execute_result"
    }
   ],
   "source": [
    "pwd()"
   ]
  },
  {
   "cell_type": "code",
   "execution_count": 4,
   "id": "48946f8b",
   "metadata": {},
   "outputs": [],
   "source": [
    "import os"
   ]
  },
  {
   "cell_type": "code",
   "execution_count": 5,
   "id": "2b5e03d1",
   "metadata": {},
   "outputs": [
    {
     "ename": "FileExistsError",
     "evalue": "[WinError 183] Cannot create a file when that file already exists: 'logging'",
     "output_type": "error",
     "traceback": [
      "\u001b[1;31m---------------------------------------------------------------------------\u001b[0m",
      "\u001b[1;31mFileExistsError\u001b[0m                           Traceback (most recent call last)",
      "\u001b[1;32m<ipython-input-5-9cfa7fb3f788>\u001b[0m in \u001b[0;36m<module>\u001b[1;34m\u001b[0m\n\u001b[1;32m----> 1\u001b[1;33m \u001b[0mos\u001b[0m\u001b[1;33m.\u001b[0m\u001b[0mmkdir\u001b[0m\u001b[1;33m(\u001b[0m\u001b[1;34m\"logging\"\u001b[0m\u001b[1;33m)\u001b[0m\u001b[1;33m\u001b[0m\u001b[1;33m\u001b[0m\u001b[0m\n\u001b[0m",
      "\u001b[1;31mFileExistsError\u001b[0m: [WinError 183] Cannot create a file when that file already exists: 'logging'"
     ]
    }
   ],
   "source": [
    "os.mkdir(\"logging\")"
   ]
  },
  {
   "cell_type": "code",
   "execution_count": 6,
   "id": "a4555ccd",
   "metadata": {},
   "outputs": [],
   "source": [
    "os.chdir(os.getcwd() + \"/\" + \"logging\")"
   ]
  },
  {
   "cell_type": "code",
   "execution_count": 7,
   "id": "c216bb9f",
   "metadata": {},
   "outputs": [
    {
     "data": {
      "text/plain": [
       "'K:\\\\Pc Games\\\\Arslan\\\\logging'"
      ]
     },
     "execution_count": 7,
     "metadata": {},
     "output_type": "execute_result"
    }
   ],
   "source": [
    "pwd()"
   ]
  },
  {
   "cell_type": "code",
   "execution_count": 9,
   "id": "1693d3fd",
   "metadata": {},
   "outputs": [],
   "source": [
    "lg.basicConfig(filename = 'K:\\\\Pc Games\\\\Arslan\\\\logging//text.log' , level = lg.ERROR , format = '%(asctime)s %(message)s')"
   ]
  },
  {
   "cell_type": "code",
   "execution_count": 10,
   "id": "8f7f45b1",
   "metadata": {},
   "outputs": [],
   "source": [
    "lg.info(\"this is a first warrning\")"
   ]
  },
  {
   "cell_type": "code",
   "execution_count": 11,
   "id": "43797c54",
   "metadata": {},
   "outputs": [],
   "source": [
    "lg.error(\"This is worg thing\")"
   ]
  },
  {
   "cell_type": "code",
   "execution_count": 12,
   "id": "9766f2ed",
   "metadata": {},
   "outputs": [],
   "source": [
    "lg.warning(\"This is warring\")"
   ]
  },
  {
   "cell_type": "code",
   "execution_count": 13,
   "id": "963adbfe",
   "metadata": {},
   "outputs": [],
   "source": [
    "def test(a,b):\n",
    "    try :\n",
    "        div = a/b\n",
    "        return div\n",
    "    except Exception as e :\n",
    "        print( \"you can check my log for more info\")\n",
    "        lg.error(\"error has occured\")\n",
    "        lg.exception(str(e))"
   ]
  },
  {
   "cell_type": "code",
   "execution_count": 14,
   "id": "ebaa3e43",
   "metadata": {},
   "outputs": [
    {
     "name": "stdout",
     "output_type": "stream",
     "text": [
      "you can check my log for more info\n"
     ]
    }
   ],
   "source": [
    "test(3,0)"
   ]
  },
  {
   "cell_type": "code",
   "execution_count": 15,
   "id": "2dd56946",
   "metadata": {},
   "outputs": [],
   "source": [
    "import logging as lg"
   ]
  },
  {
   "cell_type": "code",
   "execution_count": 16,
   "id": "f35a3460",
   "metadata": {},
   "outputs": [],
   "source": [
    "lg.basicConfig(filename = 'K:\\\\Pc Games\\\\Arslan\\\\logging//text1.log' , level = lg.INFO  ,  format = '%(asctime)s %(message)s')\n",
    "#level bydefult capture info log we discus 5 type of log"
   ]
  },
  {
   "cell_type": "code",
   "execution_count": 17,
   "id": "b3583ea1",
   "metadata": {},
   "outputs": [],
   "source": [
    "def test1(a,b):\n",
    "    lg.info(\"this is a start of function\")\n",
    "    return a+b"
   ]
  },
  {
   "cell_type": "code",
   "execution_count": 18,
   "id": "27a19253",
   "metadata": {},
   "outputs": [
    {
     "data": {
      "text/plain": [
       "11"
      ]
     },
     "execution_count": 18,
     "metadata": {},
     "output_type": "execute_result"
    }
   ],
   "source": [
    "test1(5,6)"
   ]
  },
  {
   "cell_type": "code",
   "execution_count": 19,
   "id": "180c6a0b",
   "metadata": {},
   "outputs": [],
   "source": [
    "# if i want to shutdown() logging \n",
    "lg.shutdown()"
   ]
  },
  {
   "cell_type": "code",
   "execution_count": 21,
   "id": "b17f5357",
   "metadata": {},
   "outputs": [],
   "source": [
    "lg.debug(\"this is for debugging\")\n",
    "lg.info(\"this is info log\")\n",
    "lg.warning(\"this is warning log\")\n",
    "lg.error(\"this is error log\")\n",
    "lg.exception(\"this is exception log\") #exception log is nontype\n",
    "lg.critical(\"this is critical log\")\n",
    "           "
   ]
  },
  {
   "cell_type": "code",
   "execution_count": 1,
   "id": "d5060882",
   "metadata": {},
   "outputs": [],
   "source": [
    "import logging as lg\n",
    "lg.basicConfig(filename = \"gerneral.log\" , level = lg.INFO , format = \"%(asctime)s %(message)s\")\n",
    "def loger(*args):\n",
    "    lg.info(\"not sum string in numbers\")\n",
    "    sum1 = 0\n",
    "    for i in args:\n",
    "        sum1 = sum1+i\n",
    "    return sum1\n",
    "    "
   ]
  },
  {
   "cell_type": "code",
   "execution_count": 2,
   "id": "e8b7a51a",
   "metadata": {},
   "outputs": [
    {
     "data": {
      "text/plain": [
       "'K:\\\\Pc Games\\\\Arslan'"
      ]
     },
     "execution_count": 2,
     "metadata": {},
     "output_type": "execute_result"
    }
   ],
   "source": [
    "pwd()"
   ]
  },
  {
   "cell_type": "code",
   "execution_count": 3,
   "id": "0c97b778",
   "metadata": {},
   "outputs": [
    {
     "data": {
      "text/plain": [
       "48"
      ]
     },
     "execution_count": 3,
     "metadata": {},
     "output_type": "execute_result"
    }
   ],
   "source": [
    "loger(1,2,34,5,6)"
   ]
  },
  {
   "cell_type": "code",
   "execution_count": 2,
   "id": "32f746a8",
   "metadata": {},
   "outputs": [],
   "source": [
    "import logging as lg\n",
    "lg.basicConfig(filename = \"logger1.log\" , level = lg.DEBUG , format = \"%(asctime)s - %(name)s - %(levelname)s - %(message)s\")"
   ]
  },
  {
   "cell_type": "code",
   "execution_count": 3,
   "id": "99f4d7f4",
   "metadata": {},
   "outputs": [
    {
     "name": "stderr",
     "output_type": "stream",
     "text": [
      "2022-03-10 14:22:21,386 root INFO this is my first test code for log\n",
      "2022-03-10 14:22:21,386 logger1.area1 INFO this is info for logger one\n",
      "2022-03-10 14:22:21,386 logger2.area2 DEBUG this is a debug for fogger two\n",
      "2022-03-10 14:22:21,404 logger2.area2 INFO this is a info for logger two\n"
     ]
    }
   ],
   "source": [
    "format = \"%(asctime)s  %(name)s %(levelname)s %(message)s\"\n",
    "console_log = lg.StreamHandler()\n",
    "# console_log.setLevel(lg.DEBUG)\n",
    "format = lg.Formatter(format)\n",
    "console_log.setFormatter(format)\n",
    "# lg.getLogger(\"\").addHandler(console_log)\n",
    "lg.info(\"this is my first test code for log\")\n",
    "logger1 = lg.getLogger(\"logger1.area1\")\n",
    "logger2 = lg.getLogger(\"logger2.area2\")\n",
    "logger1.info(\"this is info for logger one\")\n",
    "logger2.debug(\"this is a debug for fogger two\")\n",
    "logger2.info(\"this is a info for logger two\")\n",
    "\n"
   ]
  },
  {
   "cell_type": "code",
   "execution_count": 21,
   "id": "d13a53d5",
   "metadata": {},
   "outputs": [],
   "source": [
    "import logging as lg   #if you not give file name (same above code)\n",
    "lg.basicConfig(level = lg.DEBUG , format = \"%(asctime)s %(name)s %(levelname)s %(message)s\")"
   ]
  },
  {
   "cell_type": "code",
   "execution_count": 22,
   "id": "e6a18a84",
   "metadata": {},
   "outputs": [],
   "source": [
    "console_log = lg.StreamHandler()\n",
    "console_log.setLevel(lg.INFO)"
   ]
  },
  {
   "cell_type": "code",
   "execution_count": 23,
   "id": "494e6301",
   "metadata": {},
   "outputs": [],
   "source": [
    "format = \"%(asctime)s %(levelname)s %(message)s\"\n",
    "format = lg.Formatter(format)\n",
    "console_log.setFormatter(format)"
   ]
  },
  {
   "cell_type": "code",
   "execution_count": 24,
   "id": "55be1d73",
   "metadata": {},
   "outputs": [],
   "source": [
    "lg.getLogger(\"\").addHandler(console_log)"
   ]
  },
  {
   "cell_type": "code",
   "execution_count": 25,
   "id": "deb31e8f",
   "metadata": {},
   "outputs": [
    {
     "name": "stderr",
     "output_type": "stream",
     "text": [
      "2022-03-10 14:32:59,179 root INFO this is my first test code for log\n",
      "2022-03-10 14:32:59,179 INFO this is my first test code for log\n",
      "2022-03-10 14:32:59,179 INFO this is my first test code for log\n"
     ]
    }
   ],
   "source": [
    "lg.info(\"this is my first test code for log\")"
   ]
  },
  {
   "cell_type": "code",
   "execution_count": 26,
   "id": "527833c9",
   "metadata": {},
   "outputs": [],
   "source": [
    "logger1 = lg.getLogger(\"logger1.area1\")\n",
    "logger2 = lg.getLogger(\"logger2.area2\")"
   ]
  },
  {
   "cell_type": "code",
   "execution_count": 27,
   "id": "5a946a5d",
   "metadata": {},
   "outputs": [
    {
     "name": "stderr",
     "output_type": "stream",
     "text": [
      "2022-03-10 14:33:01,522 logger1.area1 INFO this is info for logger one\n",
      "2022-03-10 14:33:01,522 INFO this is info for logger one\n",
      "2022-03-10 14:33:01,522 INFO this is info for logger one\n",
      "2022-03-10 14:33:01,522 logger2.area2 DEBUG this is a debug for logger two\n",
      "2022-03-10 14:33:01,522 logger2.area2 INFO this is a info for logger two\n",
      "2022-03-10 14:33:01,522 INFO this is a info for logger two\n",
      "2022-03-10 14:33:01,522 INFO this is a info for logger two\n"
     ]
    }
   ],
   "source": [
    "logger1.info(\"this is info for logger one\")\n",
    "logger2.debug(\"this is a debug for logger two\")\n",
    "logger2.info(\"this is a info for logger two\")"
   ]
  },
  {
   "cell_type": "code",
   "execution_count": 28,
   "id": "28b6fa91",
   "metadata": {},
   "outputs": [],
   "source": [
    "# Debugger\n",
    "def testdebug():\n",
    "    l = []\n",
    "    for i in range(10):\n",
    "        l.append(i)\n",
    "        print(\"we have appended your data in list\")\n",
    "    return l"
   ]
  },
  {
   "cell_type": "code",
   "execution_count": 29,
   "id": "ff6346fa",
   "metadata": {},
   "outputs": [
    {
     "name": "stdout",
     "output_type": "stream",
     "text": [
      "we have appended your data in list\n",
      "we have appended your data in list\n",
      "we have appended your data in list\n",
      "we have appended your data in list\n",
      "we have appended your data in list\n",
      "we have appended your data in list\n",
      "we have appended your data in list\n",
      "we have appended your data in list\n",
      "we have appended your data in list\n",
      "we have appended your data in list\n"
     ]
    },
    {
     "data": {
      "text/plain": [
       "[0, 1, 2, 3, 4, 5, 6, 7, 8, 9]"
      ]
     },
     "execution_count": 29,
     "metadata": {},
     "output_type": "execute_result"
    }
   ],
   "source": [
    "testdebug()"
   ]
  },
  {
   "cell_type": "code",
   "execution_count": 32,
   "id": "87c7ee14",
   "metadata": {},
   "outputs": [
    {
     "name": "stdout",
     "output_type": "stream",
     "text": [
      "Requirement already satisfied: ipdb in c:\\users\\ahmad\\anaconda3\\lib\\site-packages (0.13.9)\n",
      "Requirement already satisfied: decorator in c:\\users\\ahmad\\anaconda3\\lib\\site-packages (from ipdb) (5.0.6)\n",
      "Requirement already satisfied: toml>=0.10.2 in c:\\users\\ahmad\\anaconda3\\lib\\site-packages (from ipdb) (0.10.2)\n",
      "Requirement already satisfied: ipython>=7.17.0 in c:\\users\\ahmad\\anaconda3\\lib\\site-packages (from ipdb) (7.22.0)\n",
      "Requirement already satisfied: setuptools in c:\\users\\ahmad\\anaconda3\\lib\\site-packages (from ipdb) (52.0.0.post20210125)\n",
      "Requirement already satisfied: pygments in c:\\users\\ahmad\\anaconda3\\lib\\site-packages (from ipython>=7.17.0->ipdb) (2.8.1)\n",
      "Requirement already satisfied: pickleshare in c:\\users\\ahmad\\anaconda3\\lib\\site-packages (from ipython>=7.17.0->ipdb) (0.7.5)\n",
      "Requirement already satisfied: prompt-toolkit!=3.0.0,!=3.0.1,<3.1.0,>=2.0.0 in c:\\users\\ahmad\\anaconda3\\lib\\site-packages (from ipython>=7.17.0->ipdb) (3.0.17)\n",
      "Requirement already satisfied: colorama in c:\\users\\ahmad\\anaconda3\\lib\\site-packages (from ipython>=7.17.0->ipdb) (0.4.4)\n",
      "Requirement already satisfied: traitlets>=4.2 in c:\\users\\ahmad\\anaconda3\\lib\\site-packages (from ipython>=7.17.0->ipdb) (5.0.5)\n",
      "Requirement already satisfied: jedi>=0.16 in c:\\users\\ahmad\\anaconda3\\lib\\site-packages (from ipython>=7.17.0->ipdb) (0.17.2)\n",
      "Requirement already satisfied: backcall in c:\\users\\ahmad\\anaconda3\\lib\\site-packages (from ipython>=7.17.0->ipdb) (0.2.0)\n",
      "Requirement already satisfied: parso<0.8.0,>=0.7.0 in c:\\users\\ahmad\\anaconda3\\lib\\site-packages (from jedi>=0.16->ipython>=7.17.0->ipdb) (0.7.0)\n",
      "Requirement already satisfied: wcwidth in c:\\users\\ahmad\\anaconda3\\lib\\site-packages (from prompt-toolkit!=3.0.0,!=3.0.1,<3.1.0,>=2.0.0->ipython>=7.17.0->ipdb) (0.2.5)\n",
      "Requirement already satisfied: ipython-genutils in c:\\users\\ahmad\\anaconda3\\lib\\site-packages (from traitlets>=4.2->ipython>=7.17.0->ipdb) (0.2.0)\n"
     ]
    }
   ],
   "source": [
    "!pip install ipdb  #if face issue in window than use !pip install --user ipdb"
   ]
  },
  {
   "cell_type": "code",
   "execution_count": 36,
   "id": "067aaee9",
   "metadata": {},
   "outputs": [],
   "source": [
    "import ipdb as db"
   ]
  },
  {
   "cell_type": "code",
   "execution_count": 37,
   "id": "8bdd2914",
   "metadata": {},
   "outputs": [],
   "source": [
    "def testdebug():\n",
    "    db.set_trace()\n",
    "    l = []\n",
    "    for i in range(10):\n",
    "        l.append(i)\n",
    "        print(\"we have appended your data in list\")\n",
    "    return l"
   ]
  },
  {
   "cell_type": "code",
   "execution_count": 38,
   "id": "aa6924cd",
   "metadata": {},
   "outputs": [
    {
     "name": "stdout",
     "output_type": "stream",
     "text": [
      "> \u001b[1;32m<ipython-input-37-fff7d3e5811e>\u001b[0m(3)\u001b[0;36mtestdebug\u001b[1;34m()\u001b[0m\n",
      "\u001b[1;32m      2 \u001b[1;33m    \u001b[0mdb\u001b[0m\u001b[1;33m.\u001b[0m\u001b[0mset_trace\u001b[0m\u001b[1;33m(\u001b[0m\u001b[1;33m)\u001b[0m\u001b[1;33m\u001b[0m\u001b[1;33m\u001b[0m\u001b[0m\n",
      "\u001b[0m\u001b[1;32m----> 3 \u001b[1;33m    \u001b[0ml\u001b[0m \u001b[1;33m=\u001b[0m \u001b[1;33m[\u001b[0m\u001b[1;33m]\u001b[0m\u001b[1;33m\u001b[0m\u001b[1;33m\u001b[0m\u001b[0m\n",
      "\u001b[0m\u001b[1;32m      4 \u001b[1;33m    \u001b[1;32mfor\u001b[0m \u001b[0mi\u001b[0m \u001b[1;32min\u001b[0m \u001b[0mrange\u001b[0m\u001b[1;33m(\u001b[0m\u001b[1;36m10\u001b[0m\u001b[1;33m)\u001b[0m\u001b[1;33m:\u001b[0m\u001b[1;33m\u001b[0m\u001b[1;33m\u001b[0m\u001b[0m\n",
      "\u001b[0m\n",
      "ipdb> h\n",
      "\n",
      "Documented commands (type help <topic>):\n",
      "========================================\n",
      "EOF    cl         debug    ignore    n       pp       run          unalias  \n",
      "a      clear      disable  interact  next    psource  rv           undisplay\n",
      "alias  commands   display  j         p       q        s            unt      \n",
      "args   condition  down     jump      pdef    quit     skip_hidden  until    \n",
      "b      cont       enable   l         pdoc    r        source       up       \n",
      "break  context    exit     list      pfile   restart  step         w        \n",
      "bt     continue   h        ll        pinfo   return   tbreak       whatis   \n",
      "c      d          help     longlist  pinfo2  retval   u            where    \n",
      "\n",
      "Miscellaneous help topics:\n",
      "==========================\n",
      "exec  pdb\n",
      "\n",
      "ipdb> next\n",
      "> \u001b[1;32m<ipython-input-37-fff7d3e5811e>\u001b[0m(4)\u001b[0;36mtestdebug\u001b[1;34m()\u001b[0m\n",
      "\u001b[1;32m      3 \u001b[1;33m    \u001b[0ml\u001b[0m \u001b[1;33m=\u001b[0m \u001b[1;33m[\u001b[0m\u001b[1;33m]\u001b[0m\u001b[1;33m\u001b[0m\u001b[1;33m\u001b[0m\u001b[0m\n",
      "\u001b[0m\u001b[1;32m----> 4 \u001b[1;33m    \u001b[1;32mfor\u001b[0m \u001b[0mi\u001b[0m \u001b[1;32min\u001b[0m \u001b[0mrange\u001b[0m\u001b[1;33m(\u001b[0m\u001b[1;36m10\u001b[0m\u001b[1;33m)\u001b[0m\u001b[1;33m:\u001b[0m\u001b[1;33m\u001b[0m\u001b[1;33m\u001b[0m\u001b[0m\n",
      "\u001b[0m\u001b[1;32m      5 \u001b[1;33m        \u001b[0ml\u001b[0m\u001b[1;33m.\u001b[0m\u001b[0mappend\u001b[0m\u001b[1;33m(\u001b[0m\u001b[0mi\u001b[0m\u001b[1;33m)\u001b[0m\u001b[1;33m\u001b[0m\u001b[1;33m\u001b[0m\u001b[0m\n",
      "\u001b[0m\n",
      "ipdb> next\n",
      "> \u001b[1;32m<ipython-input-37-fff7d3e5811e>\u001b[0m(5)\u001b[0;36mtestdebug\u001b[1;34m()\u001b[0m\n",
      "\u001b[1;32m      4 \u001b[1;33m    \u001b[1;32mfor\u001b[0m \u001b[0mi\u001b[0m \u001b[1;32min\u001b[0m \u001b[0mrange\u001b[0m\u001b[1;33m(\u001b[0m\u001b[1;36m10\u001b[0m\u001b[1;33m)\u001b[0m\u001b[1;33m:\u001b[0m\u001b[1;33m\u001b[0m\u001b[1;33m\u001b[0m\u001b[0m\n",
      "\u001b[0m\u001b[1;32m----> 5 \u001b[1;33m        \u001b[0ml\u001b[0m\u001b[1;33m.\u001b[0m\u001b[0mappend\u001b[0m\u001b[1;33m(\u001b[0m\u001b[0mi\u001b[0m\u001b[1;33m)\u001b[0m\u001b[1;33m\u001b[0m\u001b[1;33m\u001b[0m\u001b[0m\n",
      "\u001b[0m\u001b[1;32m      6 \u001b[1;33m        \u001b[0mprint\u001b[0m\u001b[1;33m(\u001b[0m\u001b[1;34m\"we have appended your data in list\"\u001b[0m\u001b[1;33m)\u001b[0m\u001b[1;33m\u001b[0m\u001b[1;33m\u001b[0m\u001b[0m\n",
      "\u001b[0m\n",
      "ipdb> next\n",
      "> \u001b[1;32m<ipython-input-37-fff7d3e5811e>\u001b[0m(6)\u001b[0;36mtestdebug\u001b[1;34m()\u001b[0m\n",
      "\u001b[1;32m      5 \u001b[1;33m        \u001b[0ml\u001b[0m\u001b[1;33m.\u001b[0m\u001b[0mappend\u001b[0m\u001b[1;33m(\u001b[0m\u001b[0mi\u001b[0m\u001b[1;33m)\u001b[0m\u001b[1;33m\u001b[0m\u001b[1;33m\u001b[0m\u001b[0m\n",
      "\u001b[0m\u001b[1;32m----> 6 \u001b[1;33m        \u001b[0mprint\u001b[0m\u001b[1;33m(\u001b[0m\u001b[1;34m\"we have appended your data in list\"\u001b[0m\u001b[1;33m)\u001b[0m\u001b[1;33m\u001b[0m\u001b[1;33m\u001b[0m\u001b[0m\n",
      "\u001b[0m\u001b[1;32m      7 \u001b[1;33m    \u001b[1;32mreturn\u001b[0m \u001b[0ml\u001b[0m\u001b[1;33m\u001b[0m\u001b[1;33m\u001b[0m\u001b[0m\n",
      "\u001b[0m\n",
      "ipdb> next\n",
      "we have appended your data in list\n",
      "> \u001b[1;32m<ipython-input-37-fff7d3e5811e>\u001b[0m(4)\u001b[0;36mtestdebug\u001b[1;34m()\u001b[0m\n",
      "\u001b[1;32m      3 \u001b[1;33m    \u001b[0ml\u001b[0m \u001b[1;33m=\u001b[0m \u001b[1;33m[\u001b[0m\u001b[1;33m]\u001b[0m\u001b[1;33m\u001b[0m\u001b[1;33m\u001b[0m\u001b[0m\n",
      "\u001b[0m\u001b[1;32m----> 4 \u001b[1;33m    \u001b[1;32mfor\u001b[0m \u001b[0mi\u001b[0m \u001b[1;32min\u001b[0m \u001b[0mrange\u001b[0m\u001b[1;33m(\u001b[0m\u001b[1;36m10\u001b[0m\u001b[1;33m)\u001b[0m\u001b[1;33m:\u001b[0m\u001b[1;33m\u001b[0m\u001b[1;33m\u001b[0m\u001b[0m\n",
      "\u001b[0m\u001b[1;32m      5 \u001b[1;33m        \u001b[0ml\u001b[0m\u001b[1;33m.\u001b[0m\u001b[0mappend\u001b[0m\u001b[1;33m(\u001b[0m\u001b[0mi\u001b[0m\u001b[1;33m)\u001b[0m\u001b[1;33m\u001b[0m\u001b[1;33m\u001b[0m\u001b[0m\n",
      "\u001b[0m\n",
      "ipdb> next\n",
      "> \u001b[1;32m<ipython-input-37-fff7d3e5811e>\u001b[0m(5)\u001b[0;36mtestdebug\u001b[1;34m()\u001b[0m\n",
      "\u001b[1;32m      4 \u001b[1;33m    \u001b[1;32mfor\u001b[0m \u001b[0mi\u001b[0m \u001b[1;32min\u001b[0m \u001b[0mrange\u001b[0m\u001b[1;33m(\u001b[0m\u001b[1;36m10\u001b[0m\u001b[1;33m)\u001b[0m\u001b[1;33m:\u001b[0m\u001b[1;33m\u001b[0m\u001b[1;33m\u001b[0m\u001b[0m\n",
      "\u001b[0m\u001b[1;32m----> 5 \u001b[1;33m        \u001b[0ml\u001b[0m\u001b[1;33m.\u001b[0m\u001b[0mappend\u001b[0m\u001b[1;33m(\u001b[0m\u001b[0mi\u001b[0m\u001b[1;33m)\u001b[0m\u001b[1;33m\u001b[0m\u001b[1;33m\u001b[0m\u001b[0m\n",
      "\u001b[0m\u001b[1;32m      6 \u001b[1;33m        \u001b[0mprint\u001b[0m\u001b[1;33m(\u001b[0m\u001b[1;34m\"we have appended your data in list\"\u001b[0m\u001b[1;33m)\u001b[0m\u001b[1;33m\u001b[0m\u001b[1;33m\u001b[0m\u001b[0m\n",
      "\u001b[0m\n",
      "ipdb> next\n",
      "> \u001b[1;32m<ipython-input-37-fff7d3e5811e>\u001b[0m(6)\u001b[0;36mtestdebug\u001b[1;34m()\u001b[0m\n",
      "\u001b[1;32m      5 \u001b[1;33m        \u001b[0ml\u001b[0m\u001b[1;33m.\u001b[0m\u001b[0mappend\u001b[0m\u001b[1;33m(\u001b[0m\u001b[0mi\u001b[0m\u001b[1;33m)\u001b[0m\u001b[1;33m\u001b[0m\u001b[1;33m\u001b[0m\u001b[0m\n",
      "\u001b[0m\u001b[1;32m----> 6 \u001b[1;33m        \u001b[0mprint\u001b[0m\u001b[1;33m(\u001b[0m\u001b[1;34m\"we have appended your data in list\"\u001b[0m\u001b[1;33m)\u001b[0m\u001b[1;33m\u001b[0m\u001b[1;33m\u001b[0m\u001b[0m\n",
      "\u001b[0m\u001b[1;32m      7 \u001b[1;33m    \u001b[1;32mreturn\u001b[0m \u001b[0ml\u001b[0m\u001b[1;33m\u001b[0m\u001b[1;33m\u001b[0m\u001b[0m\n",
      "\u001b[0m\n",
      "ipdb> next\n",
      "we have appended your data in list\n",
      "> \u001b[1;32m<ipython-input-37-fff7d3e5811e>\u001b[0m(4)\u001b[0;36mtestdebug\u001b[1;34m()\u001b[0m\n",
      "\u001b[1;32m      3 \u001b[1;33m    \u001b[0ml\u001b[0m \u001b[1;33m=\u001b[0m \u001b[1;33m[\u001b[0m\u001b[1;33m]\u001b[0m\u001b[1;33m\u001b[0m\u001b[1;33m\u001b[0m\u001b[0m\n",
      "\u001b[0m\u001b[1;32m----> 4 \u001b[1;33m    \u001b[1;32mfor\u001b[0m \u001b[0mi\u001b[0m \u001b[1;32min\u001b[0m \u001b[0mrange\u001b[0m\u001b[1;33m(\u001b[0m\u001b[1;36m10\u001b[0m\u001b[1;33m)\u001b[0m\u001b[1;33m:\u001b[0m\u001b[1;33m\u001b[0m\u001b[1;33m\u001b[0m\u001b[0m\n",
      "\u001b[0m\u001b[1;32m      5 \u001b[1;33m        \u001b[0ml\u001b[0m\u001b[1;33m.\u001b[0m\u001b[0mappend\u001b[0m\u001b[1;33m(\u001b[0m\u001b[0mi\u001b[0m\u001b[1;33m)\u001b[0m\u001b[1;33m\u001b[0m\u001b[1;33m\u001b[0m\u001b[0m\n",
      "\u001b[0m\n",
      "ipdb> i\n",
      "1\n",
      "ipdb> c\n",
      "we have appended your data in list\n",
      "we have appended your data in list\n",
      "we have appended your data in list\n",
      "we have appended your data in list\n",
      "we have appended your data in list\n",
      "we have appended your data in list\n",
      "we have appended your data in list\n",
      "we have appended your data in list\n"
     ]
    },
    {
     "data": {
      "text/plain": [
       "[0, 1, 2, 3, 4, 5, 6, 7, 8, 9]"
      ]
     },
     "execution_count": 38,
     "metadata": {},
     "output_type": "execute_result"
    }
   ],
   "source": [
    "testdebug()"
   ]
  },
  {
   "cell_type": "code",
   "execution_count": 1,
   "id": "53832707",
   "metadata": {},
   "outputs": [],
   "source": [
    "# Module\n",
    "import math"
   ]
  },
  {
   "cell_type": "code",
   "execution_count": 2,
   "id": "a3576f02",
   "metadata": {},
   "outputs": [
    {
     "data": {
      "text/plain": [
       "-0.9880316240928618"
      ]
     },
     "execution_count": 2,
     "metadata": {},
     "output_type": "execute_result"
    }
   ],
   "source": [
    "math.sin(30)"
   ]
  },
  {
   "cell_type": "code",
   "execution_count": 3,
   "id": "affb3042",
   "metadata": {},
   "outputs": [
    {
     "data": {
      "text/plain": [
       "2.0"
      ]
     },
     "execution_count": 3,
     "metadata": {},
     "output_type": "execute_result"
    }
   ],
   "source": [
    "math.sqrt(4)"
   ]
  },
  {
   "cell_type": "code",
   "execution_count": 6,
   "id": "a6259d2f",
   "metadata": {},
   "outputs": [],
   "source": [
    "from math import sqrt"
   ]
  },
  {
   "cell_type": "code",
   "execution_count": 7,
   "id": "961f9e35",
   "metadata": {},
   "outputs": [],
   "source": [
    "from math import sqrt,pi"
   ]
  },
  {
   "cell_type": "code",
   "execution_count": 8,
   "id": "80ad403c",
   "metadata": {},
   "outputs": [],
   "source": [
    "from math import *"
   ]
  },
  {
   "cell_type": "code",
   "execution_count": 14,
   "id": "643f241a",
   "metadata": {},
   "outputs": [
    {
     "name": "stdout",
     "output_type": "stream",
     "text": [
      "['__doc__', '__loader__', '__name__', '__package__', '__spec__', 'acos', 'acosh', 'asin', 'asinh', 'atan', 'atan2', 'atanh', 'ceil', 'comb', 'copysign', 'cos', 'cosh', 'degrees', 'dist', 'e', 'erf', 'erfc', 'exp', 'expm1', 'fabs', 'factorial', 'floor', 'fmod', 'frexp', 'fsum', 'gamma', 'gcd', 'hypot', 'inf', 'isclose', 'isfinite', 'isinf', 'isnan', 'isqrt', 'ldexp', 'lgamma', 'log', 'log10', 'log1p', 'log2', 'modf', 'nan', 'perm', 'pi', 'pow', 'prod', 'radians', 'remainder', 'sin', 'sinh', 'sqrt', 'tan', 'tanh', 'tau', 'trunc']\n"
     ]
    }
   ],
   "source": [
    "print(dir(math))    #to see all function of module"
   ]
  },
  {
   "cell_type": "code",
   "execution_count": 15,
   "id": "51929b8f",
   "metadata": {},
   "outputs": [],
   "source": [
    "import pandas"
   ]
  },
  {
   "cell_type": "code",
   "execution_count": 16,
   "id": "969aa3a1",
   "metadata": {},
   "outputs": [
    {
     "name": "stdout",
     "output_type": "stream",
     "text": [
      "['BooleanDtype', 'Categorical', 'CategoricalDtype', 'CategoricalIndex', 'DataFrame', 'DateOffset', 'DatetimeIndex', 'DatetimeTZDtype', 'ExcelFile', 'ExcelWriter', 'Flags', 'Float32Dtype', 'Float64Dtype', 'Float64Index', 'Grouper', 'HDFStore', 'Index', 'IndexSlice', 'Int16Dtype', 'Int32Dtype', 'Int64Dtype', 'Int64Index', 'Int8Dtype', 'Interval', 'IntervalDtype', 'IntervalIndex', 'MultiIndex', 'NA', 'NaT', 'NamedAgg', 'Period', 'PeriodDtype', 'PeriodIndex', 'RangeIndex', 'Series', 'SparseDtype', 'StringDtype', 'Timedelta', 'TimedeltaIndex', 'Timestamp', 'UInt16Dtype', 'UInt32Dtype', 'UInt64Dtype', 'UInt64Index', 'UInt8Dtype', '__builtins__', '__cached__', '__doc__', '__docformat__', '__file__', '__getattr__', '__git_version__', '__loader__', '__name__', '__package__', '__path__', '__spec__', '__version__', '_config', '_hashtable', '_is_numpy_dev', '_lib', '_libs', '_np_version_under1p17', '_np_version_under1p18', '_testing', '_tslib', '_typing', '_version', 'api', 'array', 'arrays', 'bdate_range', 'compat', 'concat', 'core', 'crosstab', 'cut', 'date_range', 'describe_option', 'errors', 'eval', 'factorize', 'get_dummies', 'get_option', 'infer_freq', 'interval_range', 'io', 'isna', 'isnull', 'json_normalize', 'lreshape', 'melt', 'merge', 'merge_asof', 'merge_ordered', 'notna', 'notnull', 'offsets', 'option_context', 'options', 'pandas', 'period_range', 'pivot', 'pivot_table', 'plotting', 'qcut', 'read_clipboard', 'read_csv', 'read_excel', 'read_feather', 'read_fwf', 'read_gbq', 'read_hdf', 'read_html', 'read_json', 'read_orc', 'read_parquet', 'read_pickle', 'read_sas', 'read_spss', 'read_sql', 'read_sql_query', 'read_sql_table', 'read_stata', 'read_table', 'reset_option', 'set_eng_float_format', 'set_option', 'show_versions', 'test', 'testing', 'timedelta_range', 'to_datetime', 'to_numeric', 'to_pickle', 'to_timedelta', 'tseries', 'unique', 'util', 'value_counts', 'wide_to_long']\n"
     ]
    }
   ],
   "source": [
    "print(dir(pandas))"
   ]
  },
  {
   "cell_type": "code",
   "execution_count": 1,
   "id": "51878291",
   "metadata": {},
   "outputs": [
    {
     "name": "stdout",
     "output_type": "stream",
     "text": [
      "Arslan\n"
     ]
    }
   ],
   "source": [
    "import test"
   ]
  },
  {
   "cell_type": "code",
   "execution_count": 2,
   "id": "934bbd32",
   "metadata": {},
   "outputs": [],
   "source": [
    "import test"
   ]
  },
  {
   "cell_type": "code",
   "execution_count": null,
   "id": "5f923512",
   "metadata": {},
   "outputs": [],
   "source": []
  },
  {
   "cell_type": "code",
   "execution_count": 3,
   "id": "e07c7ba7",
   "metadata": {},
   "outputs": [],
   "source": [
    "import test"
   ]
  },
  {
   "cell_type": "code",
   "execution_count": 4,
   "id": "fabaf610",
   "metadata": {},
   "outputs": [],
   "source": [
    "import test"
   ]
  },
  {
   "cell_type": "code",
   "execution_count": 21,
   "id": "17f6b080",
   "metadata": {},
   "outputs": [],
   "source": [
    "import imp \n",
    "                                      #to reload again module"
   ]
  },
  {
   "cell_type": "code",
   "execution_count": 7,
   "id": "5b7ad723",
   "metadata": {},
   "outputs": [
    {
     "name": "stdout",
     "output_type": "stream",
     "text": [
      "Arslan\n"
     ]
    },
    {
     "data": {
      "text/plain": [
       "<module 'test' from 'K:\\\\Pc Games\\\\Arslan\\\\test.py'>"
      ]
     },
     "execution_count": 7,
     "metadata": {},
     "output_type": "execute_result"
    }
   ],
   "source": [
    "imp.reload(test)"
   ]
  },
  {
   "cell_type": "code",
   "execution_count": 8,
   "id": "19ef6376",
   "metadata": {},
   "outputs": [],
   "source": [
    "import sum_fun"
   ]
  },
  {
   "cell_type": "code",
   "execution_count": 10,
   "id": "ca9d8110",
   "metadata": {},
   "outputs": [
    {
     "data": {
      "text/plain": [
       "57"
      ]
     },
     "execution_count": 10,
     "metadata": {},
     "output_type": "execute_result"
    }
   ],
   "source": [
    "sum_fun.sum_fun(3,54)"
   ]
  },
  {
   "cell_type": "code",
   "execution_count": 11,
   "id": "eb2809e0",
   "metadata": {},
   "outputs": [
    {
     "data": {
      "text/plain": [
       "5"
      ]
     },
     "execution_count": 11,
     "metadata": {},
     "output_type": "execute_result"
    }
   ],
   "source": [
    "sum_fun.sum_fun(2,3)"
   ]
  },
  {
   "cell_type": "code",
   "execution_count": 1,
   "id": "437d73ce",
   "metadata": {},
   "outputs": [],
   "source": [
    "import m_fun as m"
   ]
  },
  {
   "cell_type": "code",
   "execution_count": 2,
   "id": "5135000b",
   "metadata": {},
   "outputs": [
    {
     "data": {
      "text/plain": [
       "81"
      ]
     },
     "execution_count": 2,
     "metadata": {},
     "output_type": "execute_result"
    }
   ],
   "source": [
    "m.power(3,4)"
   ]
  },
  {
   "cell_type": "code",
   "execution_count": 1,
   "id": "f5702fe1",
   "metadata": {},
   "outputs": [],
   "source": [
    "import os"
   ]
  },
  {
   "cell_type": "code",
   "execution_count": 8,
   "id": "457c20bc",
   "metadata": {},
   "outputs": [],
   "source": [
    "os.mkdir(\"test1\")"
   ]
  },
  {
   "cell_type": "code",
   "execution_count": 9,
   "id": "be3c9801",
   "metadata": {},
   "outputs": [
    {
     "data": {
      "text/plain": [
       "'K:\\\\Pc Games\\\\Arslan'"
      ]
     },
     "execution_count": 9,
     "metadata": {},
     "output_type": "execute_result"
    }
   ],
   "source": [
    "os.getcwd()"
   ]
  },
  {
   "cell_type": "code",
   "execution_count": 10,
   "id": "5061d7a2",
   "metadata": {},
   "outputs": [],
   "source": [
    "os.chdir(\"test1\")"
   ]
  },
  {
   "cell_type": "code",
   "execution_count": 11,
   "id": "e8e81c47",
   "metadata": {},
   "outputs": [
    {
     "data": {
      "text/plain": [
       "'K:\\\\Pc Games\\\\Arslan\\\\test1'"
      ]
     },
     "execution_count": 11,
     "metadata": {},
     "output_type": "execute_result"
    }
   ],
   "source": [
    "pwd()"
   ]
  },
  {
   "cell_type": "code",
   "execution_count": 12,
   "id": "047fa297",
   "metadata": {},
   "outputs": [],
   "source": [
    "os.mkdir(\"test\")"
   ]
  },
  {
   "cell_type": "code",
   "execution_count": 13,
   "id": "9c5f81cd",
   "metadata": {},
   "outputs": [],
   "source": [
    "os.chdir(\"test\")"
   ]
  },
  {
   "cell_type": "code",
   "execution_count": 16,
   "id": "ecb64b4d",
   "metadata": {},
   "outputs": [],
   "source": [
    "for i in range(1,4):\n",
    "    f = open(\"mod\"+str(i)+\".py\" , \"w+\")"
   ]
  },
  {
   "cell_type": "code",
   "execution_count": 22,
   "id": "cba1faa9",
   "metadata": {},
   "outputs": [],
   "source": [
    "f = open(\"mod1.py\",\"w+\")"
   ]
  },
  {
   "cell_type": "code",
   "execution_count": 23,
   "id": "36ac4114",
   "metadata": {},
   "outputs": [],
   "source": [
    "f.close()"
   ]
  },
  {
   "cell_type": "code",
   "execution_count": 1,
   "id": "0f89ca62",
   "metadata": {},
   "outputs": [],
   "source": [
    "# Exeption Handling"
   ]
  },
  {
   "cell_type": "code",
   "execution_count": 3,
   "id": "f5668241",
   "metadata": {},
   "outputs": [],
   "source": [
    "def test(a,b):\n",
    "    return a/b"
   ]
  },
  {
   "cell_type": "code",
   "execution_count": 4,
   "id": "2bdd6a4c",
   "metadata": {},
   "outputs": [
    {
     "data": {
      "text/plain": [
       "0.5"
      ]
     },
     "execution_count": 4,
     "metadata": {},
     "output_type": "execute_result"
    }
   ],
   "source": [
    "test(2,4)"
   ]
  },
  {
   "cell_type": "code",
   "execution_count": 10,
   "id": "e1803c3a",
   "metadata": {},
   "outputs": [],
   "source": [
    "def test(a,b):\n",
    "    if b==0:\n",
    "        return \"Not divide by zero\"\n",
    "    else:\n",
    "        return a/b"
   ]
  },
  {
   "cell_type": "code",
   "execution_count": 11,
   "id": "2b830f1c",
   "metadata": {},
   "outputs": [
    {
     "data": {
      "text/plain": [
       "0.6666666666666666"
      ]
     },
     "execution_count": 11,
     "metadata": {},
     "output_type": "execute_result"
    }
   ],
   "source": [
    "test(2,3)"
   ]
  },
  {
   "cell_type": "code",
   "execution_count": 12,
   "id": "54d93339",
   "metadata": {},
   "outputs": [
    {
     "data": {
      "text/plain": [
       "'Not divide by zero'"
      ]
     },
     "execution_count": 12,
     "metadata": {},
     "output_type": "execute_result"
    }
   ],
   "source": [
    "test(3,0)"
   ]
  },
  {
   "cell_type": "code",
   "execution_count": 19,
   "id": "004135b7",
   "metadata": {},
   "outputs": [],
   "source": [
    "try:   # if you have runtime error in try block code then run except block code\n",
    "    f = open(\"test.txt\",\"r\")\n",
    "except:\n",
    "    pass"
   ]
  },
  {
   "cell_type": "code",
   "execution_count": 32,
   "id": "decc40a9",
   "metadata": {},
   "outputs": [
    {
     "name": "stdout",
     "output_type": "stream",
     "text": [
      "this code have error: division by zero\n"
     ]
    }
   ],
   "source": [
    "try:\n",
    "    f = 3/0\n",
    "except ArithmeticError as e:\n",
    "    print(\"this code have error:\",e)\n",
    "else:\n",
    "    print(\"this will execute once try will execute with sucess\")"
   ]
  },
  {
   "cell_type": "code",
   "execution_count": 34,
   "id": "58afe599",
   "metadata": {},
   "outputs": [
    {
     "name": "stdout",
     "output_type": "stream",
     "text": [
      "this will execute once try will execute with sucess\n"
     ]
    }
   ],
   "source": [
    "try:  #if code is run with out error else part work\n",
    "    f = 3/5\n",
    "except ArithmeticError as e:\n",
    "    print(\"this code have error:\",e)\n",
    "else:\n",
    "    print(\"this will execute once try will execute with sucess\")"
   ]
  },
  {
   "cell_type": "code",
   "execution_count": 2,
   "id": "e7a63f17",
   "metadata": {},
   "outputs": [
    {
     "name": "stdout",
     "output_type": "stream",
     "text": [
      "this will execute once try will execute with sucess\n",
      "this is as issue with internl try block\n"
     ]
    }
   ],
   "source": [
    "try:\n",
    "    f = 3/6\n",
    "except ArithmeticError as e:\n",
    "    print(\"this code have error:\",e)\n",
    "else:\n",
    "    print(\"this will execute once try will execute with sucess\")\n",
    "    try:\n",
    "        \n",
    "        f = open(\"test.txt\",\"r\")\n",
    "    except:\n",
    "        print(\"this is as issue with internl try block\")"
   ]
  },
  {
   "cell_type": "code",
   "execution_count": 4,
   "id": "a8ad436e",
   "metadata": {},
   "outputs": [
    {
     "name": "stdout",
     "output_type": "stream",
     "text": [
      "input integer3\n",
      "input second integer0\n",
      "this code have error: division by zero\n"
     ]
    }
   ],
   "source": [
    "try: \n",
    "    a = int(input(\"input integer\"))\n",
    "    b = int(input(\"input second integer\"))\n",
    "    f = a/b\n",
    "except ArithmeticError as e:\n",
    "    print(\"this code have error:\",e)\n",
    "else:\n",
    "    print(\"this will execute once try will execute with sucess\")\n",
    "    try:\n",
    "        \n",
    "        f = open(\"test.txt\",\"r\")\n",
    "    except:\n",
    "        print(\"this is as issue with internl try block\")"
   ]
  },
  {
   "cell_type": "code",
   "execution_count": 10,
   "id": "4d48f35f",
   "metadata": {},
   "outputs": [
    {
     "name": "stdout",
     "output_type": "stream",
     "text": [
      "there is an issue with my code\n",
      "(3, 4, 5, 6, 7, 7)\n"
     ]
    }
   ],
   "source": [
    "try:\n",
    "    l = [3,4,5,6,7,7]\n",
    "    l[100]\n",
    "except:\n",
    "    print(\"there is an issue with my code\")\n",
    "    t = (3,4,5,6,7,7)\n",
    "    print(t)\n",
    "    try:\n",
    "        t[0] = \"hamza\"\n",
    "    except:\n",
    "        pass\n",
    "else:\n",
    "    print(\"there is no issue with my code\")"
   ]
  },
  {
   "cell_type": "code",
   "execution_count": 19,
   "id": "2a780498",
   "metadata": {},
   "outputs": [
    {
     "name": "stdout",
     "output_type": "stream",
     "text": [
      "finally i will execute in any case\n",
      "2\n"
     ]
    }
   ],
   "source": [
    "try:\n",
    "    f = open(\"test1.txt\",\"r\")\n",
    "except:\n",
    "    pass\n",
    "else:\n",
    "    print(\"else will execute if try will execute with sucess\")\n",
    "finally:\n",
    "    print(\"finally i will execute in any case\")\n",
    "    l = [1,2,3,4,5]\n",
    "    try:\n",
    "        print(l[10])\n",
    "    except:\n",
    "        pass\n",
    "    print(l[1])"
   ]
  },
  {
   "cell_type": "code",
   "execution_count": 23,
   "id": "c710d5b2",
   "metadata": {},
   "outputs": [],
   "source": [
    "def ask_for_int():\n",
    "    while True:\n",
    "        try:\n",
    "            a = int(input(\"Enter an integer: \")) \n",
    "        except Exception as e:\n",
    "            print(\"this is my error msg\",e)\n",
    "        else:\n",
    "            print(\"person has entered a correct value: \" ,a)\n",
    "            break\n",
    "        finally :\n",
    "                print(\"close this issue\")"
   ]
  },
  {
   "cell_type": "code",
   "execution_count": 24,
   "id": "70638ac3",
   "metadata": {},
   "outputs": [
    {
     "name": "stdout",
     "output_type": "stream",
     "text": [
      "Enter an integer: df\n",
      "this is my error msg invalid literal for int() with base 10: 'df'\n",
      "close this issue\n",
      "Enter an integer: sdfg\n",
      "this is my error msg invalid literal for int() with base 10: 'sdfg'\n",
      "close this issue\n",
      "Enter an integer: sdfgsd\n",
      "this is my error msg invalid literal for int() with base 10: 'sdfgsd'\n",
      "close this issue\n",
      "Enter an integer: sdfgsdf\n",
      "this is my error msg invalid literal for int() with base 10: 'sdfgsdf'\n",
      "close this issue\n",
      "Enter an integer: 2\n",
      "person has entered a correct value:  2\n",
      "close this issue\n"
     ]
    }
   ],
   "source": [
    "ask_for_int()"
   ]
  },
  {
   "cell_type": "code",
   "execution_count": 29,
   "id": "7ccdbcf0",
   "metadata": {},
   "outputs": [],
   "source": [
    "def ask_for_int():\n",
    "    while True:\n",
    "        try:\n",
    "            a = int(input(\"Enter an integer: \"))\n",
    "        except FileNotFoundError as e:\n",
    "            print(\"this is my error msg\",e)\n",
    "        except IOError as e:\n",
    "            print(e)\n",
    "        except ValueError as e:\n",
    "            print(e)\n",
    "        else:\n",
    "            print(\"person has entered a correct value: \" ,a)\n",
    "            break\n",
    "        finally :\n",
    "                print(\"close this issue\")"
   ]
  },
  {
   "cell_type": "code",
   "execution_count": 30,
   "id": "a54c601d",
   "metadata": {},
   "outputs": [
    {
     "name": "stdout",
     "output_type": "stream",
     "text": [
      "Enter an integer: fdsa\n",
      "invalid literal for int() with base 10: 'fdsa'\n",
      "close this issue\n",
      "Enter an integer: 4\n",
      "person has entered a correct value:  4\n",
      "close this issue\n"
     ]
    }
   ],
   "source": [
    "ask_for_int()"
   ]
  },
  {
   "cell_type": "code",
   "execution_count": 32,
   "id": "200ca21d",
   "metadata": {},
   "outputs": [],
   "source": [
    "# Create your costum exception\n",
    "def create_your_exception(a):\n",
    "    if a == 6:\n",
    "        raise Exception(\"this is your error: \",a)\n",
    "    else:\n",
    "        print(\"input is fine\")\n",
    "    return a"
   ]
  }
 ],
 "metadata": {
  "kernelspec": {
   "display_name": "Python 3",
   "language": "python",
   "name": "python3"
  },
  "language_info": {
   "codemirror_mode": {
    "name": "ipython",
    "version": 3
   },
   "file_extension": ".py",
   "mimetype": "text/x-python",
   "name": "python",
   "nbconvert_exporter": "python",
   "pygments_lexer": "ipython3",
   "version": "3.8.8"
  }
 },
 "nbformat": 4,
 "nbformat_minor": 5
}
