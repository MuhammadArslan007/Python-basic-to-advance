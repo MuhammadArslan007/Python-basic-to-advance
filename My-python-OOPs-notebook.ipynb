{
 "cells": [
  {
   "cell_type": "markdown",
   "id": "09a32743",
   "metadata": {},
   "source": [
    "\"\"\"\n",
    "Class: classification of real world entity.\n",
    "\n",
    "Object: variable of class by which you will be able to represent \n",
    "        of data or entity.\n",
    "\"\"\""
   ]
  },
  {
   "cell_type": "code",
   "execution_count": 1,
   "id": "0d3ae26e",
   "metadata": {},
   "outputs": [],
   "source": [
    "class car:\n",
    "    pass"
   ]
  },
  {
   "cell_type": "code",
   "execution_count": 2,
   "id": "ae09e0e1",
   "metadata": {},
   "outputs": [],
   "source": [
    "audiq7 = car()"
   ]
  },
  {
   "cell_type": "code",
   "execution_count": 3,
   "id": "a8e6f9cf",
   "metadata": {},
   "outputs": [
    {
     "data": {
      "text/plain": [
       "<__main__.car at 0x4e05940>"
      ]
     },
     "execution_count": 3,
     "metadata": {},
     "output_type": "execute_result"
    }
   ],
   "source": [
    "audiq7"
   ]
  },
  {
   "cell_type": "code",
   "execution_count": 10,
   "id": "46b6b5dc",
   "metadata": {},
   "outputs": [],
   "source": [
    "audiq7.mileage = 32\n",
    "audiq7.year = 2022\n",
    "audiq7.make = 346\n",
    "audiq7.modle = \"audi\""
   ]
  },
  {
   "cell_type": "code",
   "execution_count": 11,
   "id": "8362e68f",
   "metadata": {},
   "outputs": [
    {
     "data": {
      "text/plain": [
       "32"
      ]
     },
     "execution_count": 11,
     "metadata": {},
     "output_type": "execute_result"
    }
   ],
   "source": [
    "audiq7.mileage"
   ]
  },
  {
   "cell_type": "code",
   "execution_count": 12,
   "id": "59a77dc7",
   "metadata": {},
   "outputs": [
    {
     "data": {
      "text/plain": [
       "2022"
      ]
     },
     "execution_count": 12,
     "metadata": {},
     "output_type": "execute_result"
    }
   ],
   "source": [
    "audiq7.year"
   ]
  },
  {
   "cell_type": "code",
   "execution_count": 13,
   "id": "d7ceb943",
   "metadata": {},
   "outputs": [],
   "source": [
    "nano = car()"
   ]
  },
  {
   "cell_type": "code",
   "execution_count": 14,
   "id": "d449b9b0",
   "metadata": {},
   "outputs": [],
   "source": [
    "nano.mileage = 55\n",
    "nano.year = 2022\n",
    "nano.model = \"Advance audi\"\n",
    "nano.enginno =354352346\n"
   ]
  },
  {
   "cell_type": "code",
   "execution_count": 15,
   "id": "13a231ba",
   "metadata": {},
   "outputs": [
    {
     "data": {
      "text/plain": [
       "2022"
      ]
     },
     "execution_count": 15,
     "metadata": {},
     "output_type": "execute_result"
    }
   ],
   "source": [
    "nano.year"
   ]
  },
  {
   "cell_type": "code",
   "execution_count": 16,
   "id": "301fde63",
   "metadata": {},
   "outputs": [
    {
     "name": "stdout",
     "output_type": "stream",
     "text": [
      "55 32\n"
     ]
    }
   ],
   "source": [
    "print(nano.mileage,audiq7.mileage)"
   ]
  },
  {
   "cell_type": "markdown",
   "id": "b821402c",
   "metadata": {},
   "source": [
    "use above have disadvantage we not give body of car class so we decleared \n",
    "each variable manually if we want to decleared many many variable then what we\n",
    "do and also we not use porperly to write once use many time concept"
   ]
  },
  {
   "cell_type": "code",
   "execution_count": 24,
   "id": "8ebcdcaf",
   "metadata": {},
   "outputs": [],
   "source": [
    "class car:\n",
    "    def __init__(self , milage , year , make , model):\n",
    "        self.milage = milage\n",
    "        self.year = year\n",
    "        self.make = make\n",
    "        self.model = model"
   ]
  },
  {
   "cell_type": "code",
   "execution_count": 25,
   "id": "6386d57a",
   "metadata": {},
   "outputs": [],
   "source": [
    "nano1 = car(57,2022,345,\"audi\")"
   ]
  },
  {
   "cell_type": "code",
   "execution_count": 26,
   "id": "87d6e7b1",
   "metadata": {},
   "outputs": [],
   "source": [
    "nano2 = car(milage = 12,make = 123,year =2020 , model = \"audi\")"
   ]
  },
  {
   "cell_type": "code",
   "execution_count": 27,
   "id": "cc787308",
   "metadata": {},
   "outputs": [
    {
     "data": {
      "text/plain": [
       "123"
      ]
     },
     "execution_count": 27,
     "metadata": {},
     "output_type": "execute_result"
    }
   ],
   "source": [
    "nano2.make"
   ]
  },
  {
   "cell_type": "code",
   "execution_count": 28,
   "id": "608ca027",
   "metadata": {},
   "outputs": [
    {
     "data": {
      "text/plain": [
       "345"
      ]
     },
     "execution_count": 28,
     "metadata": {},
     "output_type": "execute_result"
    }
   ],
   "source": [
    "nano1.make"
   ]
  },
  {
   "cell_type": "code",
   "execution_count": 29,
   "id": "44b1a9e9",
   "metadata": {},
   "outputs": [
    {
     "data": {
      "text/plain": [
       "57"
      ]
     },
     "execution_count": 29,
     "metadata": {},
     "output_type": "execute_result"
    }
   ],
   "source": [
    "nano1.milage"
   ]
  },
  {
   "cell_type": "code",
   "execution_count": 30,
   "id": "71bd7040",
   "metadata": {},
   "outputs": [],
   "source": [
    "class car:\n",
    "    def __init__(self , m , y , ma , mo):\n",
    "        self.milage = m\n",
    "        self.year = y\n",
    "        self.make = ma\n",
    "        self.model = mo"
   ]
  },
  {
   "cell_type": "code",
   "execution_count": 31,
   "id": "14c906c4",
   "metadata": {},
   "outputs": [],
   "source": [
    "nano1 = car(57,2022,345,\"audi\")"
   ]
  },
  {
   "cell_type": "code",
   "execution_count": 32,
   "id": "10e86580",
   "metadata": {},
   "outputs": [
    {
     "data": {
      "text/plain": [
       "57"
      ]
     },
     "execution_count": 32,
     "metadata": {},
     "output_type": "execute_result"
    }
   ],
   "source": [
    "nano1.milage"
   ]
  },
  {
   "cell_type": "code",
   "execution_count": 44,
   "id": "01f84581",
   "metadata": {},
   "outputs": [],
   "source": [
    "class car:\n",
    "    def __init__(self , m , y , ma , mo):\n",
    "        self.milage = m\n",
    "        self.year = y\n",
    "        self.make = ma\n",
    "        self.model = mo\n",
    "    def age(self,current_year):\n",
    "        return current_year - self.year"
   ]
  },
  {
   "cell_type": "code",
   "execution_count": 45,
   "id": "f1af0f99",
   "metadata": {},
   "outputs": [],
   "source": [
    "nano1 = car(57,2022,345,\"audi\")"
   ]
  },
  {
   "cell_type": "code",
   "execution_count": 46,
   "id": "7db57a34",
   "metadata": {},
   "outputs": [
    {
     "data": {
      "text/plain": [
       "<bound method car.age of <__main__.car object at 0x0000000004D4B7C0>>"
      ]
     },
     "execution_count": 46,
     "metadata": {},
     "output_type": "execute_result"
    }
   ],
   "source": [
    "nano1.age"
   ]
  },
  {
   "cell_type": "code",
   "execution_count": 47,
   "id": "49446486",
   "metadata": {},
   "outputs": [
    {
     "data": {
      "text/plain": [
       "1"
      ]
     },
     "execution_count": 47,
     "metadata": {},
     "output_type": "execute_result"
    }
   ],
   "source": [
    "nano1.age(2023)"
   ]
  },
  {
   "cell_type": "code",
   "execution_count": 48,
   "id": "ac979915",
   "metadata": {},
   "outputs": [
    {
     "data": {
      "text/plain": [
       "12"
      ]
     },
     "execution_count": 48,
     "metadata": {},
     "output_type": "execute_result"
    }
   ],
   "source": [
    "nano1.age(2034)"
   ]
  },
  {
   "cell_type": "code",
   "execution_count": 49,
   "id": "25e98807",
   "metadata": {},
   "outputs": [
    {
     "name": "stdout",
     "output_type": "stream",
     "text": [
      "<__main__.car object at 0x0000000004D4B7C0>\n"
     ]
    }
   ],
   "source": [
    "print(nano1)"
   ]
  },
  {
   "cell_type": "code",
   "execution_count": 55,
   "id": "b610e422",
   "metadata": {},
   "outputs": [],
   "source": [
    "class car:\n",
    "    def __init__(self , m , y , ma , mo ):\n",
    "        self.milage = m\n",
    "        self.year = y\n",
    "        self.make = ma\n",
    "        self.model = mo\n",
    "    def age(a,current_year):\n",
    "        return current_year - a.year\n",
    "    def mileage(b):\n",
    "        print(\"print a mileage of car\",b.milage)\n",
    "    def __str__(c): #show message when print variable\n",
    "        return \"This is my car class i have created\"\n",
    "        "
   ]
  },
  {
   "cell_type": "code",
   "execution_count": 56,
   "id": "a4f7c286",
   "metadata": {},
   "outputs": [],
   "source": [
    "nano1 = car(57,2022,345,\"audi\")"
   ]
  },
  {
   "cell_type": "code",
   "execution_count": 57,
   "id": "fd7ca2ff",
   "metadata": {},
   "outputs": [
    {
     "data": {
      "text/plain": [
       "12"
      ]
     },
     "execution_count": 57,
     "metadata": {},
     "output_type": "execute_result"
    }
   ],
   "source": [
    "nano1.age(2034)"
   ]
  },
  {
   "cell_type": "code",
   "execution_count": 58,
   "id": "b533a5f6",
   "metadata": {},
   "outputs": [
    {
     "name": "stdout",
     "output_type": "stream",
     "text": [
      "print a mileage of car 57\n"
     ]
    }
   ],
   "source": [
    "nano1.mileage()"
   ]
  },
  {
   "cell_type": "code",
   "execution_count": 59,
   "id": "3ea9a8bf",
   "metadata": {},
   "outputs": [
    {
     "name": "stdout",
     "output_type": "stream",
     "text": [
      "This is my car class i have created\n"
     ]
    }
   ],
   "source": [
    "print(nano1)"
   ]
  },
  {
   "cell_type": "code",
   "execution_count": 34,
   "id": "1892b1cc",
   "metadata": {},
   "outputs": [],
   "source": [
    "class student:\n",
    "      \n",
    "    def __init__(self,  name , rollno , joining_date , current_topic):\n",
    "        \n",
    "        self.name = name\n",
    "        self.rollno = rollno\n",
    "        self.joining_date = joining_date\n",
    "        self.current_topic = current_topic\n",
    "        \n",
    "    def logging_fn(self, log , user = \"root\"): \n",
    "\n",
    "        \"\"\"\n",
    "        Function is used in classes to find error message.\n",
    "        log = it is about what kind of error message you want to print.\n",
    "        \"\"\"\n",
    "        import logging as lg\n",
    "        lg.basicConfig(filename = \"log.log\" , level = lg.INFO , format = \"%(asctime)s %(name)s %(levelname)s %(message)s \")\n",
    "        format = \"%(asctime)s %(name)s %(levelname)s %(message)s \"\n",
    "        console_log = lg.StreamHandler()\n",
    "        formater = lg.Formatter(format)\n",
    "        console_log.setFormatter(formater)\n",
    "        console_log.setLevel(lg.INFO)\n",
    "        lg.getLogger(\"\").addHandler(console_log)\n",
    "        logger = lg.getLogger(user) # write here what preson or id face issue\n",
    "        return logger.info(\"This is error\") , logger.error(log)\n",
    "\n",
    "        \n",
    "    def data_parsing(self):\n",
    "        \n",
    "        if type(self.name) == list:\n",
    "            for i in self.name:\n",
    "                print(i)\n",
    "        else:\n",
    "            print(\"Provided data not is list format\")\n",
    "    \n",
    "    def crt_topic(self):\n",
    "        print(\"Current topic discussed in my class is :\" , self.current_topic) \n",
    "        \n",
    "    def str_rollno(self):\n",
    "        \n",
    "#         import logging as lg\n",
    "#         lg.basicConfig(filename = \"log.log\" , level = lg.INFO , format = \"%(asctime)s %(name)s %(levelname)s %(message)s \")\n",
    "#         format = \"%(asctime)s %(name)s %(levelname)s %(message)s \"\n",
    "#         console_log = lg.StreamHandler()\n",
    "#         formater = lg.Formatter(format)\n",
    "#         console_log.setFormatter(formater)\n",
    "#         console_log.setLevel(lg.INFO)\n",
    "#         lg.getLogger(\"\").addHandler(console_log)\n",
    "#         logger = lg.getLogger(\"log.ar\")\n",
    "        \n",
    "        try:\n",
    "        \n",
    "            if type(self.rollno) == str:\n",
    "                print(\"Do nothing\") \n",
    "            \n",
    "            else: \n",
    "                return str(self.rollno) , self.logging_fn(\"this code running correctly\")\n",
    "                \n",
    "        except Exception as e:\n",
    "            \n",
    "            self.logging_fn(e)\n",
    "            \n",
    "        \n",
    "    def duration(self,current_date):\n",
    "        \n",
    "        print(\"Duration of student in my class is :\",current_date - joining_date)\n",
    "        \n",
    "    def __str__(self):\n",
    "        \n",
    "        return \"this is student class where they can try to input there own data and they can try to fecth it\"\n",
    "        "
   ]
  },
  {
   "cell_type": "code",
   "execution_count": 35,
   "id": "2ef1999d",
   "metadata": {},
   "outputs": [],
   "source": [
    "ahmad = student(\"ahmad\" , 233 , 2021 , \"oops\")"
   ]
  },
  {
   "cell_type": "code",
   "execution_count": 36,
   "id": "8dc1b6a7",
   "metadata": {},
   "outputs": [
    {
     "name": "stdout",
     "output_type": "stream",
     "text": [
      "this is student class where they can try to input there own data and they can try to fecth it\n"
     ]
    }
   ],
   "source": [
    "print(ahmad)"
   ]
  },
  {
   "cell_type": "code",
   "execution_count": 37,
   "id": "e92c2a04",
   "metadata": {},
   "outputs": [],
   "source": [
    "names = student([\"ahmad\" , \"hamza\" , \"ammar\"] , 3434 , 34254 , \"afjasdkj\")"
   ]
  },
  {
   "cell_type": "code",
   "execution_count": 38,
   "id": "1803f044",
   "metadata": {},
   "outputs": [
    {
     "name": "stdout",
     "output_type": "stream",
     "text": [
      "ahmad\n",
      "hamza\n",
      "ammar\n"
     ]
    }
   ],
   "source": [
    "names.data_parsing()"
   ]
  },
  {
   "cell_type": "code",
   "execution_count": 39,
   "id": "c48766b2",
   "metadata": {},
   "outputs": [
    {
     "name": "stderr",
     "output_type": "stream",
     "text": [
      "2022-03-16 12:18:39,254 root INFO This is error \n",
      "2022-03-16 12:18:39,254 root INFO This is error \n",
      "2022-03-16 12:18:39,254 root INFO This is error \n",
      "2022-03-16 12:18:39,254 root INFO This is error \n",
      "2022-03-16 12:18:39,254 root INFO This is error \n",
      "2022-03-16 12:18:39,254 root INFO This is error \n",
      "2022-03-16 12:18:39,254 root INFO This is error \n",
      "2022-03-16 12:18:39,270 root ERROR this code running correctly \n",
      "2022-03-16 12:18:39,270 root ERROR this code running correctly \n",
      "2022-03-16 12:18:39,270 root ERROR this code running correctly \n",
      "2022-03-16 12:18:39,270 root ERROR this code running correctly \n",
      "2022-03-16 12:18:39,270 root ERROR this code running correctly \n",
      "2022-03-16 12:18:39,270 root ERROR this code running correctly \n",
      "2022-03-16 12:18:39,270 root ERROR this code running correctly \n"
     ]
    },
    {
     "data": {
      "text/plain": [
       "('233', (None, None))"
      ]
     },
     "execution_count": 39,
     "metadata": {},
     "output_type": "execute_result"
    }
   ],
   "source": [
    "ahmad.str_rollno()"
   ]
  },
  {
   "cell_type": "code",
   "execution_count": 11,
   "id": "b8e048a8",
   "metadata": {},
   "outputs": [],
   "source": [
    "def logging_fn(self, log , user = \"root\"): \n",
    "    \n",
    "    \"\"\"\n",
    "    Function is used in classes to find error message.\n",
    "    log = it is about what kind of error message you want to print.\n",
    "    user = you can give logger name or id\n",
    "    \"\"\"\n",
    "    import logging as lg\n",
    "    lg.basicConfig(filename = \"log.log\" , level = lg.INFO , format = \"%(asctime)s %(name)s %(levelname)s %(message)s \")\n",
    "    format = \"%(asctime)s %(name)s %(levelname)s %(message)s \"\n",
    "    console_log = lg.StreamHandler()\n",
    "    formater = lg.Formatter(format)\n",
    "    console_log.setFormatter(formater)\n",
    "    console_log.setLevel(lg.INFO)\n",
    "    lg.getLogger(\"\").addHandler(console_log)\n",
    "    logger = lg.getLogger(user) # write here what preson or id face issue\n",
    "    return logger.info(\"This is error\") , logger.error(log)\n",
    "   \n",
    "    "
   ]
  },
  {
   "cell_type": "code",
   "execution_count": 1,
   "id": "9ea70284",
   "metadata": {},
   "outputs": [],
   "source": [
    "class data:\n",
    "    \n",
    "    def __init__(self , file_name , file_type , size , date):\n",
    "        \n",
    "        self.file_name = file_name \n",
    "        self.file_type = file_type\n",
    "        self.size = size\n",
    "        self.date = date\n",
    "        \n",
    "    def logging_fn(self , log , user = \"root\" ):\n",
    "        \n",
    "        import logging as lg\n",
    "        lg.basicConfig(filename = \"log.log\" , level = lg.INFO , format = \"%(asctime)s %(name)s %(levelname)s %(message)s\")\n",
    "        console_log = lg.StreamHandler()\n",
    "        formater = lg.Formatter(format)\n",
    "        console_log.setFormatter(formater)\n",
    "        console_log.setLevel(lg.INFO)\n",
    "        lg.getLogger(\"\").addHandler(console_log)\n",
    "        logger = lg.getLogger(user)\n",
    "        return logger.info(\"chek what is erro in log file\") , logger.error(log)\n",
    "        \n",
    "    \n",
    "    def File_open(self):\n",
    "        \n",
    "        try:\n",
    "            import os\n",
    "            if not self.file_name+\".\"+self.file_type in os.listdir():\n",
    "                \n",
    "                with open(self.file_name+\".\"+self.file_type,\"w+\") as f: \n",
    "\n",
    "                    f.write(input())\n",
    "                    f.close()\n",
    "                    \n",
    "            else:\n",
    "                \n",
    "                print(\"file is exist\")\n",
    "\n",
    "        except Exception as e:\n",
    "            \n",
    "            self.logging_fn(e)\n",
    "    \n",
    "    def File_read(self):\n",
    "        \n",
    "        try:\n",
    "            \n",
    "            with open(self.file_name+\".\"+self.file_type , \"r+\") as f:\n",
    "                print(f.read())\n",
    "                f.close()\n",
    "        \n",
    "                \n",
    "        except Exception as e:\n",
    "            \n",
    "            self.logging_fn(e)\n",
    "            \n",
    "    def File_append(self):\n",
    "        \n",
    "        try:\n",
    "            \n",
    "            with open(self.file_name+\".\"+self.file_type , \"a\") as f:\n",
    "                f.write(input()) \n",
    "                f.close()\n",
    "                \n",
    "        except Exception as e:\n",
    "             \n",
    "            self.logging_fn(e)\n",
    "            \n",
    "            \n",
    "            \n",
    "        \n",
    "       \n",
    "            "
   ]
  },
  {
   "cell_type": "code",
   "execution_count": 6,
   "id": "c4973e46",
   "metadata": {},
   "outputs": [],
   "source": [
    "movies = data(\"Dons\", \"txt\" , 60 , \"Have no data\")"
   ]
  },
  {
   "cell_type": "code",
   "execution_count": 7,
   "id": "13a1b758",
   "metadata": {},
   "outputs": [
    {
     "name": "stdout",
     "output_type": "stream",
     "text": [
      "file is exist\n"
     ]
    }
   ],
   "source": [
    "movies.File_open()"
   ]
  },
  {
   "cell_type": "code",
   "execution_count": 4,
   "id": "757fff68",
   "metadata": {},
   "outputs": [
    {
     "name": "stdout",
     "output_type": "stream",
     "text": [
      "gjh\n"
     ]
    }
   ],
   "source": [
    "movies.File_append()"
   ]
  },
  {
   "cell_type": "code",
   "execution_count": 5,
   "id": "5bd26eaf",
   "metadata": {},
   "outputs": [
    {
     "name": "stdout",
     "output_type": "stream",
     "text": [
      "asdfgjh\n"
     ]
    }
   ],
   "source": [
    "movies.File_read()"
   ]
  },
  {
   "cell_type": "code",
   "execution_count": 6,
   "id": "cc44c469",
   "metadata": {},
   "outputs": [],
   "source": [
    "# Abstraction mean you can not call my variable or data \n",
    "# Python have different abstraction than other language like cpp java etc."
   ]
  },
  {
   "cell_type": "code",
   "execution_count": 22,
   "id": "7566bbac",
   "metadata": {},
   "outputs": [],
   "source": [
    "class test:\n",
    "    \n",
    "    def __init__(self, a, b, c, d):\n",
    "        \n",
    "        self.__a = a   # __a private variable  it mean we can not call it outside class it is called private variable\n",
    "        self._b = b    # _b is called protected variable is python oops\n",
    "        self.c = c\n",
    "        self.d = d\n",
    "        \n",
    "    def test_custome(self, v):\n",
    "        \n",
    "        return v-self.__a\n",
    "     \n",
    "    def a(self):\n",
    "        \n",
    "        print(\"this is a function of test class\")\n",
    "    \n",
    "    def __str__(self):\n",
    "        \n",
    "        return \"this is my test code for abstraction\""
   ]
  },
  {
   "cell_type": "code",
   "execution_count": 25,
   "id": "0188bdf1",
   "metadata": {},
   "outputs": [],
   "source": [
    "o = test(2,3,4,5)"
   ]
  },
  {
   "cell_type": "code",
   "execution_count": 26,
   "id": "f7f7ac33",
   "metadata": {},
   "outputs": [
    {
     "data": {
      "text/plain": [
       "2"
      ]
     },
     "execution_count": 26,
     "metadata": {},
     "output_type": "execute_result"
    }
   ],
   "source": [
    "o._test__a  # access the private varialbe"
   ]
  },
  {
   "cell_type": "code",
   "execution_count": 22,
   "id": "5b5b476c",
   "metadata": {},
   "outputs": [
    {
     "data": {
      "text/plain": [
       "6"
      ]
     },
     "execution_count": 22,
     "metadata": {},
     "output_type": "execute_result"
    }
   ],
   "source": [
    "o.test_custome(8)"
   ]
  },
  {
   "cell_type": "code",
   "execution_count": 25,
   "id": "b1621bce",
   "metadata": {},
   "outputs": [
    {
     "data": {
      "text/plain": [
       "2"
      ]
     },
     "execution_count": 25,
     "metadata": {},
     "output_type": "execute_result"
    }
   ],
   "source": [
    "# inheritance = presence of all parent method and data in child class   \n",
    "# use privious class (test) as a parent or base class this class (test1) is child class\n",
    "\n",
    "class test1(test):\n",
    "    \n",
    "    def __init__(self, j , *args):\n",
    "        \n",
    "        super(test1,self).__init__(*args) # called the parent class that is super class of test1 child class\n",
    "        self.j = j\n",
    "        \n",
    "        \n",
    "m = test1(2,43523,6534,6734,5667)\n",
    "m.j"
   ]
  },
  {
   "cell_type": "code",
   "execution_count": 26,
   "id": "8fbda31d",
   "metadata": {},
   "outputs": [
    {
     "data": {
      "text/plain": [
       "6534"
      ]
     },
     "execution_count": 26,
     "metadata": {},
     "output_type": "execute_result"
    }
   ],
   "source": [
    "m._b"
   ]
  },
  {
   "cell_type": "code",
   "execution_count": 27,
   "id": "991a7c8e",
   "metadata": {},
   "outputs": [
    {
     "data": {
      "text/plain": [
       "-43520"
      ]
     },
     "execution_count": 27,
     "metadata": {},
     "output_type": "execute_result"
    }
   ],
   "source": [
    "m.test_custome(3)"
   ]
  },
  {
   "cell_type": "code",
   "execution_count": 21,
   "id": "f2c5b40e",
   "metadata": {},
   "outputs": [],
   "source": [
    "class test:\n",
    "    \n",
    "    def __init__(self, a, b, c, d):\n",
    "        \n",
    "        self.__a = a   # __a private variable  it mean we can not call it outside class it is called private variable\n",
    "        self._b = b    # _b is called protected variable is python oops\n",
    "        self.c = c\n",
    "        self.d = d\n",
    "        \n",
    "    def test_custome(self, v):\n",
    "        \n",
    "        return v-self.__a\n",
    "     \n",
    "    def A(self):\n",
    "        \n",
    "        print(\"this is a function of test class\")\n",
    "    \n",
    "    def __str__(self):\n",
    "        \n",
    "        return \"this is my test code for abstraction\""
   ]
  },
  {
   "cell_type": "code",
   "execution_count": 22,
   "id": "b14313bf",
   "metadata": {},
   "outputs": [],
   "source": [
    "class test1():\n",
    "    \n",
    "    def __init__(self, a , b , c ):\n",
    "        \n",
    "        self.a = a \n",
    "        self.b = b\n",
    "        self.c = c\n",
    "        \n",
    "    def A(self):\n",
    "        \n",
    "        print(\"this a function come from test1 class\")\n",
    "         \n"
   ]
  },
  {
   "cell_type": "code",
   "execution_count": 84,
   "id": "9c9d92e1",
   "metadata": {},
   "outputs": [],
   "source": [
    "class test2(test1 , test):   #it give the prefrance to first parent class\n",
    "    \n",
    "    def __init__(self, d , *agrs):\n",
    "        \n",
    "        super (test2 , self).__init__(*agrs)\n",
    "        self.d = d\n"
   ]
  },
  {
   "cell_type": "code",
   "execution_count": 85,
   "id": "f733f56e",
   "metadata": {},
   "outputs": [],
   "source": [
    "o = test2(23,3,34,56)"
   ]
  },
  {
   "cell_type": "code",
   "execution_count": 86,
   "id": "050da589",
   "metadata": {},
   "outputs": [
    {
     "data": {
      "text/plain": [
       "3"
      ]
     },
     "execution_count": 86,
     "metadata": {},
     "output_type": "execute_result"
    }
   ],
   "source": [
    "o.a"
   ]
  },
  {
   "cell_type": "code",
   "execution_count": 26,
   "id": "d6a82e9a",
   "metadata": {
    "scrolled": true
   },
   "outputs": [
    {
     "name": "stdout",
     "output_type": "stream",
     "text": [
      "Tyres: \n",
      " \tBranch: Pirelli\n",
      " \tBelted_bias: True\n",
      " \tNoise level: 21.0\n",
      "Engine:\n",
      " \tFuel_type: Diesel\n",
      " \tNoise level: 3\n",
      "Body: \n",
      " \tSize: MediumToyota\n"
     ]
    }
   ],
   "source": [
    "# Encapsulation = we hide my implementaion (like capsule)\n",
    "\n",
    "class Tyres:\n",
    "    def __init__(self, branch , belted_bias , opt_pressure):\n",
    "        \n",
    "        self.branch = branch\n",
    "        self.belted_bias = belted_bias\n",
    "        self.opt_pressure = opt_pressure\n",
    "        \n",
    "    def __str__(self):\n",
    "        \n",
    "        return (\"Tyres: \\n \\tBranch: \" + self.branch + \"\\n \\tBelted_bias: \" + str(self.belted_bias) + \n",
    "               \"\\n \\tNoise level: \" + str(self.opt_pressure))\n",
    "    \n",
    "class Engine:\n",
    "    def __init__(self, fuel_type , noise_level):\n",
    "        \n",
    "        self.fuel_type = fuel_type \n",
    "        self.noise_level = noise_level\n",
    "        \n",
    "    def __str__(self):\n",
    "        \n",
    "        return (\"Engine:\\n \\tFuel_type: \" +self.fuel_type +\n",
    "                \"\\n \\tNoise level: \" +str(self.noise_level))\n",
    "    \n",
    "class Body:\n",
    "    def __init__(self, size):\n",
    "        \n",
    "        self.size = size\n",
    "        \n",
    "    def __str__(self):\n",
    "        \n",
    "        return \"Body: \\n \\tSize: \"+ self.size\n",
    "    \n",
    "class Car:\n",
    "    def __init__(self, name , tyres , engine , body):\n",
    "        \n",
    "        self.name = name\n",
    "        self.tyres = tyres\n",
    "        self.engine = engine\n",
    "        self.body = body\n",
    "        \n",
    "    def __str__(self):\n",
    "        \n",
    "        return str(self.tyres) + \"\\n\" + str(self.engine) + \"\\n\" + str(self.body) + \"\" + str(self.name)\n",
    "    \n",
    "t = Tyres(\"Pirelli\" , True , 21.0)\n",
    "e = Engine(\"Diesel\", 3)\n",
    "b = Body(\"Medium\")\n",
    "c = Car(\"Toyota\" , t , e , b)\n",
    "print(c)"
   ]
  },
  {
   "cell_type": "code",
   "execution_count": 27,
   "id": "31cb6936",
   "metadata": {},
   "outputs": [],
   "source": [
    "class parent:\n",
    "    \n",
    "    a = 10 \n",
    "    b = 12\n",
    "    \n",
    "    def __init__(self, parent_a , parent_b):\n",
    "        \n",
    "        self.parent_a = parent_a\n",
    "        self.parent_b = parent_b\n",
    "        \n",
    "class child(parent):\n",
    "    def __init__(self , *args):\n",
    "        super(child , self).__init__(*args)"
   ]
  },
  {
   "cell_type": "code",
   "execution_count": 28,
   "id": "9e530441",
   "metadata": {},
   "outputs": [],
   "source": [
    "o = child(234,24)"
   ]
  },
  {
   "cell_type": "code",
   "execution_count": 29,
   "id": "57affbe9",
   "metadata": {},
   "outputs": [
    {
     "data": {
      "text/plain": [
       "10"
      ]
     },
     "execution_count": 29,
     "metadata": {},
     "output_type": "execute_result"
    }
   ],
   "source": [
    "o.a"
   ]
  },
  {
   "cell_type": "code",
   "execution_count": 2,
   "id": "144c1b4e",
   "metadata": {},
   "outputs": [],
   "source": [
    "class Dog:\n",
    "    def __init__(self, name , year_of_birth , breed):\n",
    "        \n",
    "        self._name = name\n",
    "        self._year_of_birth = year_of_birth\n",
    "        self._breed = breed\n",
    "        \n",
    "    def __str__(self):\n",
    "        \n",
    "        return \"%s is a %s born is %d. \" %(self._name , self._breed , self._year_of_birth)"
   ]
  },
  {
   "cell_type": "code",
   "execution_count": 3,
   "id": "8d55eed8",
   "metadata": {},
   "outputs": [],
   "source": [
    "class Student:\n",
    "    def __init__(self, name , student_id , school_name , adress):\n",
    "        \n",
    "        self.name = name\n",
    "        self.student_id = student_id\n",
    "        self.school_name = school_name\n",
    "        self.adress = adress\n",
    "        \n",
    "    def __str__(self):\n",
    "        \n",
    "        return str(self.name) + \" \" + str(self.student_id) + \" \" + str(self.school_name) + \" \" + str(self.adress)"
   ]
  },
  {
   "cell_type": "code",
   "execution_count": 4,
   "id": "3470a2fd",
   "metadata": {},
   "outputs": [],
   "source": [
    "stu = Student(\"Ahmed\" , 4534 , \"Icodeguru\" , \"xyz\")"
   ]
  },
  {
   "cell_type": "code",
   "execution_count": 5,
   "id": "d1abade5",
   "metadata": {},
   "outputs": [
    {
     "name": "stdout",
     "output_type": "stream",
     "text": [
      "Ahmed 4534 Icodeguru xyz\n"
     ]
    }
   ],
   "source": [
    "print(stu)"
   ]
  },
  {
   "cell_type": "code",
   "execution_count": 6,
   "id": "490ed386",
   "metadata": {},
   "outputs": [],
   "source": [
    "dog = Dog(\"Coco\" , 2022 , \"any thing\")"
   ]
  },
  {
   "cell_type": "code",
   "execution_count": 7,
   "id": "d40b720c",
   "metadata": {},
   "outputs": [],
   "source": [
    "dogstu = Student(dog , 345, \"Any dog school in pak\", \"xyz\")"
   ]
  },
  {
   "cell_type": "code",
   "execution_count": 8,
   "id": "2ba68bdb",
   "metadata": {},
   "outputs": [
    {
     "name": "stdout",
     "output_type": "stream",
     "text": [
      "Coco is a any thing born is 2022.  345 Any dog school in pak xyz\n"
     ]
    }
   ],
   "source": [
    "print(dogstu)"
   ]
  },
  {
   "cell_type": "code",
   "execution_count": 23,
   "id": "6d162c60",
   "metadata": {},
   "outputs": [],
   "source": [
    "class BonusDistribution:\n",
    "    \n",
    "    def __init__(self , employeeId , employeeRating):\n",
    "        \n",
    "        self.employeeId = employeeId\n",
    "        self.employeeRating = employeeRating\n",
    "        self.__bonusforRatingA = \"70%\"\n",
    "        self.__bonusforRatingB = \"60%\"\n",
    "        self.__bonusforRatingC = \"50%\"\n",
    "        self.__bonusforRatingD = \"30%\"\n",
    "        self.__bonusforRatingE = \"No Bonus\"\n",
    "        \n",
    "    def BonusCalculator(self):\n",
    "        \n",
    "        if self.employeeRating == \"A\":\n",
    "            \n",
    "            bonus = self.__bonusforRatingA \n",
    "            msg = \"Bonus for this employee is:\" + bonus\n",
    "            return msg\n",
    "        \n",
    "        elif self.employeeRating == \"B\":\n",
    "            \n",
    "            bonus = self.__bonusforRatingB\n",
    "            msg = \"Bonus for this employee is:\" + bonus\n",
    "            return msg\n",
    "        \n",
    "        elif self.employeeRating == \"C\":\n",
    "            \n",
    "            bonus = self.__bonusforRatingC\n",
    "            msg = \"Bonus for this employee is :\" + bonus\n",
    "            return msg\n",
    "        \n",
    "        elif self.employeeRating == \"D\":\n",
    "            \n",
    "            bonus = self.__bonusforRatingD\n",
    "            msg = \"Bonus for this employee is :\" + bonus\n",
    "            return msg\n",
    "        \n",
    "        else:\n",
    "            \n",
    "            bonus = self.__bonusforRatingE\n",
    "            msg = \"Bonus for this employee is: \" + bonus\n",
    "            return msg\n",
    "        \n",
    "    def ChangeVariable(self,value):\n",
    "        \n",
    "        self.__bonusforRatingA = value\n",
    "        \n",
    "            \n",
    "            \n",
    "        "
   ]
  },
  {
   "cell_type": "code",
   "execution_count": 24,
   "id": "95a7eed5",
   "metadata": {},
   "outputs": [],
   "source": [
    "emp1 = BonusDistribution(122 , \"A\")\n",
    "emp2 = BonusDistribution(233, \"B\")\n",
    "emp3 = BonusDistribution(2343 , \"E\")\n",
    "emp4 = BonusDistribution(235 , \"A\")"
   ]
  },
  {
   "cell_type": "code",
   "execution_count": 25,
   "id": "69ef5c5d",
   "metadata": {},
   "outputs": [
    {
     "data": {
      "text/plain": [
       "'Bonus for this employee is: No Bonus'"
      ]
     },
     "execution_count": 25,
     "metadata": {},
     "output_type": "execute_result"
    }
   ],
   "source": [
    "emp3.BonusCalculator()"
   ]
  },
  {
   "cell_type": "code",
   "execution_count": 26,
   "id": "84666cdb",
   "metadata": {},
   "outputs": [
    {
     "data": {
      "text/plain": [
       "'Bonus for this employee is:70%'"
      ]
     },
     "execution_count": 26,
     "metadata": {},
     "output_type": "execute_result"
    }
   ],
   "source": [
    "emp1.BonusCalculator()"
   ]
  },
  {
   "cell_type": "code",
   "execution_count": 27,
   "id": "14cf3f29",
   "metadata": {},
   "outputs": [
    {
     "data": {
      "text/plain": [
       "'Bonus for this employee is:60%'"
      ]
     },
     "execution_count": 27,
     "metadata": {},
     "output_type": "execute_result"
    }
   ],
   "source": [
    "emp2.BonusCalculator()"
   ]
  },
  {
   "cell_type": "code",
   "execution_count": 28,
   "id": "86303160",
   "metadata": {},
   "outputs": [],
   "source": [
    "# how we over write the class variable (:. over write work only for that object who we want to change)\n",
    "# one way\n",
    "emp1._BonusDistribution__bonusforRatingA = \"90%\""
   ]
  },
  {
   "cell_type": "code",
   "execution_count": 29,
   "id": "15967be5",
   "metadata": {},
   "outputs": [
    {
     "data": {
      "text/plain": [
       "'Bonus for this employee is:90%'"
      ]
     },
     "execution_count": 29,
     "metadata": {},
     "output_type": "execute_result"
    }
   ],
   "source": [
    "emp1.BonusCalculator()"
   ]
  },
  {
   "cell_type": "code",
   "execution_count": 30,
   "id": "f51cb5cf",
   "metadata": {},
   "outputs": [
    {
     "data": {
      "text/plain": [
       "'Bonus for this employee is:70%'"
      ]
     },
     "execution_count": 30,
     "metadata": {},
     "output_type": "execute_result"
    }
   ],
   "source": [
    "emp4.BonusCalculator()"
   ]
  },
  {
   "cell_type": "code",
   "execution_count": 31,
   "id": "6acffd1c",
   "metadata": {},
   "outputs": [
    {
     "data": {
      "text/plain": [
       "'Bonus for this employee is:80%'"
      ]
     },
     "execution_count": 31,
     "metadata": {},
     "output_type": "execute_result"
    }
   ],
   "source": [
    "# above method to over write is not correct to do that this is bad coding practice \n",
    "# we create new function in class to over write that is correct\n",
    "emp4.ChangeVariable(\"80%\")\n",
    "emp4.BonusCalculator()"
   ]
  },
  {
   "cell_type": "code",
   "execution_count": 32,
   "id": "5587eebe",
   "metadata": {},
   "outputs": [
    {
     "data": {
      "text/plain": [
       "'Bonus for this employee is:70%'"
      ]
     },
     "execution_count": 32,
     "metadata": {},
     "output_type": "execute_result"
    }
   ],
   "source": [
    "emp5 = BonusDistribution(2332,\"A\")\n",
    "emp5.BonusCalculator()"
   ]
  },
  {
   "cell_type": "code",
   "execution_count": 59,
   "id": "3fa31b3d",
   "metadata": {},
   "outputs": [],
   "source": [
    "class multiplynumric():\n",
    "    def __init__(self, a ):\n",
    "        \n",
    "        self.a = a\n",
    "       \n",
    "    def __mul__(self, other):\n",
    "        \n",
    "        return self.a + other.a"
   ]
  },
  {
   "cell_type": "code",
   "execution_count": 60,
   "id": "47e0f23b",
   "metadata": {},
   "outputs": [],
   "source": [
    "d = multiplynumric(3)"
   ]
  },
  {
   "cell_type": "code",
   "execution_count": 61,
   "id": "0897ee61",
   "metadata": {},
   "outputs": [],
   "source": [
    "d1 = multiplynumric(4)"
   ]
  },
  {
   "cell_type": "code",
   "execution_count": 64,
   "id": "e73f7ad9",
   "metadata": {},
   "outputs": [
    {
     "data": {
      "text/plain": [
       "7"
      ]
     },
     "execution_count": 64,
     "metadata": {},
     "output_type": "execute_result"
    }
   ],
   "source": [
    "d * d1  # operater overloading (here multiplay operater give additiion ans)"
   ]
  },
  {
   "cell_type": "code",
   "execution_count": 87,
   "id": "b397a74f",
   "metadata": {},
   "outputs": [],
   "source": [
    "def test(a , b):\n",
    "    \n",
    "    return a + b"
   ]
  },
  {
   "cell_type": "code",
   "execution_count": 88,
   "id": "26351753",
   "metadata": {},
   "outputs": [
    {
     "name": "stdout",
     "output_type": "stream",
     "text": [
      "5\n",
      "adaf\n",
      "[2, 34, 4, 5, 23, 54, 54]\n"
     ]
    }
   ],
   "source": [
    "# test function work in different position is different way it is called Polymorphism\n",
    "print(test(2,3))  #add two number\n",
    "print(test(\"ad\" , \"af\")) # concatenate two string\n",
    "print(test([2,34,4,5],[23,54,54])) # append list element\n"
   ]
  },
  {
   "cell_type": "code",
   "execution_count": 6,
   "id": "2ff19840",
   "metadata": {},
   "outputs": [],
   "source": [
    "class icodeguru:\n",
    "    \n",
    "    def msg(self):\n",
    "        \n",
    "        print(\"This is a msg to students\")\n",
    "\n",
    "class xyz:\n",
    "    \n",
    "    def msg(self):\n",
    "        \n",
    "        print(\"This is a msg to xyz\")"
   ]
  },
  {
   "cell_type": "code",
   "execution_count": 7,
   "id": "8c456653",
   "metadata": {},
   "outputs": [],
   "source": [
    "def test(notes):\n",
    "    \n",
    "    notes.msg()\n",
    "    "
   ]
  },
  {
   "cell_type": "code",
   "execution_count": 8,
   "id": "d82a6010",
   "metadata": {},
   "outputs": [],
   "source": [
    "i = icodeguru()\n",
    "x = xyz()"
   ]
  },
  {
   "cell_type": "code",
   "execution_count": 9,
   "id": "ffc81818",
   "metadata": {},
   "outputs": [
    {
     "name": "stdout",
     "output_type": "stream",
     "text": [
      "This is a msg to students\n"
     ]
    }
   ],
   "source": [
    "test(i)"
   ]
  },
  {
   "cell_type": "code",
   "execution_count": 10,
   "id": "4ebcb869",
   "metadata": {},
   "outputs": [
    {
     "name": "stdout",
     "output_type": "stream",
     "text": [
      "This is a msg to xyz\n"
     ]
    }
   ],
   "source": [
    "test(x)"
   ]
  },
  {
   "cell_type": "code",
   "execution_count": null,
   "id": "9319ffe1",
   "metadata": {},
   "outputs": [],
   "source": [
    "# for data base softwear link for windows machine\n",
    "# https://dev.mysql.com/downloads/installer/"
   ]
  }
 ],
 "metadata": {
  "kernelspec": {
   "display_name": "Python 3",
   "language": "python",
   "name": "python3"
  },
  "language_info": {
   "codemirror_mode": {
    "name": "ipython",
    "version": 3
   },
   "file_extension": ".py",
   "mimetype": "text/x-python",
   "name": "python",
   "nbconvert_exporter": "python",
   "pygments_lexer": "ipython3",
   "version": "3.8.8"
  }
 },
 "nbformat": 4,
 "nbformat_minor": 5
}
